{
 "cells": [
  {
   "cell_type": "code",
   "execution_count": 1,
   "metadata": {},
   "outputs": [],
   "source": [
    "nums = [-1,0,1,2,-1,-4]\n",
    "nums_2 = list(set(nums))\n",
    "nums_2.sort()\n",
    "primt"
   ]
  },
  {
   "cell_type": "code",
   "execution_count": 9,
   "metadata": {},
   "outputs": [
    {
     "data": {
      "text/plain": [
       "[]"
      ]
     },
     "execution_count": 9,
     "metadata": {},
     "output_type": "execute_result"
    }
   ],
   "source": [
    "dfdf = [1, 2,3 ]\n",
    "dfdf[5:]"
   ]
  },
  {
   "cell_type": "code",
   "execution_count": 8,
   "metadata": {},
   "outputs": [
    {
     "name": "stdout",
     "output_type": "stream",
     "text": [
      "(0, 3)\n",
      "(1, 3)\n",
      "(2, 3)\n",
      "[[4, 5]]\n"
     ]
    }
   ],
   "source": [
    "def allTwoSums(target, nums):\n",
    "    start = 0\n",
    "    end = len(nums)-1\n",
    "    res= []\n",
    "    while start<end:\n",
    "        print(start, end)\n",
    "        if nums[start] + nums[end] > target:\n",
    "            end-=1\n",
    "        elif nums[start] + nums[end] < target:\n",
    "            start+=1\n",
    "        else:\n",
    "            res.append([nums[start], nums[end]])\n",
    "            start+=1\n",
    "            end-=1\n",
    "    return res\n",
    "\n",
    "print(allTwoSums(9, [2, 3, 4, 5]))"
   ]
  },
  {
   "cell_type": "code",
   "execution_count": 9,
   "metadata": {},
   "outputs": [
    {
     "data": {
      "text/plain": [
       "40"
      ]
     },
     "execution_count": 9,
     "metadata": {},
     "output_type": "execute_result"
    }
   ],
   "source": [
    "len([4,4,4,4,4,4,4,4,4,4,4,4,4,4,4,4,4,4,4,4,4,4,4,4,4,4,4,4,4,4,4,4,4,4,4,4,4,4,4,11])"
   ]
  },
  {
   "cell_type": "code",
   "execution_count": 10,
   "metadata": {},
   "outputs": [
    {
     "data": {
      "text/plain": [
       "40"
      ]
     },
     "execution_count": 10,
     "metadata": {},
     "output_type": "execute_result"
    }
   ],
   "source": [
    "len([4,4,4,4,4,4,5,5,4,4,4,5,4,4,4,4,4,4,4,4,5,5,4,4,4,4,4,4,4,4,4,4,4,4,4,4,4,4,5,5])"
   ]
  },
  {
   "cell_type": "code",
   "execution_count": 3,
   "metadata": {},
   "outputs": [
    {
     "data": {
      "text/plain": [
       "1.0"
      ]
     },
     "execution_count": 3,
     "metadata": {},
     "output_type": "execute_result"
    }
   ],
   "source": [
    "x = 1\n",
    "y = 3\n",
    "from math import ceil\n",
    "ceil(x*1.0/y)"
   ]
  },
  {
   "cell_type": "code",
   "execution_count": 5,
   "metadata": {},
   "outputs": [
    {
     "name": "stdout",
     "output_type": "stream",
     "text": [
      "6\n",
      "5\n",
      "4\n",
      "3\n"
     ]
    }
   ],
   "source": [
    "for i in range(6, 2, -1):\n",
    "    print(i)"
   ]
  },
  {
   "cell_type": "code",
   "execution_count": 7,
   "metadata": {},
   "outputs": [
    {
     "name": "stdout",
     "output_type": "stream",
     "text": [
      "[(1, 3), (2, 2)]\n"
     ]
    }
   ],
   "source": [
    "i,j = 2,3\n",
    "num_rows, num_cols = 3,4\n",
    "res = list(filter(lambda p: p[0] in range(num_rows) and p[1] in range(num_cols), [(i+1,j), (i-1, j), (i, j+1), (i, j-1)]))\n",
    "print(res)"
   ]
  },
  {
   "cell_type": "code",
   "execution_count": null,
   "metadata": {},
   "outputs": [],
   "source": [
    "txt = \"apple#banana#cherry#orange\"\n",
    "x = txt.split(\"#\")"
   ]
  },
  {
   "cell_type": "code",
   "execution_count": 29,
   "metadata": {},
   "outputs": [
    {
     "name": "stdout",
     "output_type": "stream",
     "text": [
      "Counter({2: 4, 1: 1, 5: 1})\n",
      "Counter({2: 3, 5: 1})\n",
      "Counter({2: 2})\n",
      "2\n"
     ]
    }
   ],
   "source": [
    "from collections import Counter\n",
    "def getMinFruits(fruits):\n",
    "    counts = Counter(fruits[1:])\n",
    "    while len(counts)>=2:\n",
    "        most_common_fruits = counts.most_common(2)\n",
    "        first, first_freq = most_common_fruits[0]\n",
    "        second, second_freq = most_common_fruits[1]\n",
    "        del counts[second]\n",
    "        counts[first] = first_freq-second_freq\n",
    "        if counts[first] == 0:\n",
    "            del counts[first] \n",
    "    return sum(counts.values())\n",
    "\n",
    "        \n",
    "\n",
    "\n",
    "# getMinFruits([3,3,1,1,2])\n",
    "# getMinFruits([2,2,2,5,1,2])\n",
    "# getMinFruits([1,2,5,6]) \n"
   ]
  }
 ],
 "metadata": {
  "kernelspec": {
   "display_name": "Python 2.7.18 64-bit ('2.7.18')",
   "language": "python",
   "name": "python3"
  },
  "language_info": {
   "codemirror_mode": {
    "name": "ipython",
    "version": 2
   },
   "file_extension": ".py",
   "mimetype": "text/x-python",
   "name": "python",
   "nbconvert_exporter": "python",
   "pygments_lexer": "ipython2",
   "version": "2.7.18"
  },
  "orig_nbformat": 4,
  "vscode": {
   "interpreter": {
    "hash": "d4fb2e5c5fbd1b7ac3c45498fbe8beed7c55352b2ef39a4963899e56de0c4ffa"
   }
  }
 },
 "nbformat": 4,
 "nbformat_minor": 2
}
