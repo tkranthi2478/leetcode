{
 "cells": [
  {
   "cell_type": "code",
   "execution_count": 13,
   "metadata": {},
   "outputs": [
    {
     "name": "stdout",
     "output_type": "stream",
     "text": [
      "9\n",
      "-1\n",
      "-1\n",
      "19\n",
      "19\n"
     ]
    }
   ],
   "source": [
    "def max_kk(S):\n",
    "    cur_sum = 0\n",
    "    max_sum = 0\n",
    "    positive = False\n",
    "    for i in range(len(S)):\n",
    "        item = S[i]\n",
    "        if item<0:\n",
    "            cur_sum = 0\n",
    "            i += 1\n",
    "        else:\n",
    "            cur_sum += item\n",
    "            positive = True\n",
    "        max_sum = max(max_sum, cur_sum)\n",
    "    return max_sum if positive else -1\n",
    "\n",
    "print(max_kk([1,2,-3, 4, 5, -6]))\n",
    "print(max_kk([-1, -2,-3, -4, -5, -6]))\n",
    "print(max_kk([-9]))\n",
    "print(max_kk([19]))\n",
    "print(max_kk([19, -1, 2, 3]))\n"
   ]
  },
  {
   "cell_type": "code",
   "execution_count": 15,
   "metadata": {},
   "outputs": [
    {
     "name": "stdout",
     "output_type": "stream",
     "text": [
      "[]\n",
      "[[1], [2], [3], [4]]\n",
      "[[-1], [-1], [-1], [1, 2, 3, 4]]\n",
      "[[-1], [-1], [-1], [1, 2]]\n",
      "[[-1], [-1], [1, 2, 3], [-1], [4, 5]]\n",
      "[[-1], [-1], [-1], [1, 2, 3, 4], [5]]\n"
     ]
    }
   ],
   "source": [
    "def res_kk(input):\n",
    "    n = len(input)\n",
    "    max_seen = 0\n",
    "    seen = set()\n",
    "    res = []\n",
    "    for num in input:\n",
    "        seen.add(num)\n",
    "        if num != max_seen + 1:\n",
    "            res.append([-1])\n",
    "            continue\n",
    "        cur = []\n",
    "        for j in range(num, n+1):\n",
    "            if j not in seen:\n",
    "                break\n",
    "            max_seen = j\n",
    "            cur.append(j)\n",
    "        res.append(cur)\n",
    "    return res\n",
    "\n",
    "print(res_kk([]))\n",
    "print(res_kk([1,2,3,4]))\n",
    "print(res_kk([4,3,2,1]))\n",
    "print(res_kk([4,5,2,1]))\n",
    "print(res_kk([3,2,1,5,4]))\n",
    "print(res_kk([2,4,3,1,5]))\n",
    "\n",
    "\n"
   ]
  },
  {
   "cell_type": "code",
   "execution_count": 16,
   "metadata": {},
   "outputs": [
    {
     "name": "stdout",
     "output_type": "stream",
     "text": [
      "[2, 5, 7]\n",
      "4\n",
      "2\n",
      "[0, 3, 7]\n",
      "10010001\n"
     ]
    }
   ],
   "source": [
    "code = \"00100101\"\n",
    "n = len(code)\n",
    "k=4\n",
    "\n",
    "one_index = []\n",
    "\n",
    "for i,val in enumerate(code):\n",
    "    if val == '1':\n",
    "        one_index.append(i)\n",
    "\n",
    "start = 0\n",
    "print(one_index)\n",
    "for i,val in enumerate(one_index):\n",
    "    print(k)\n",
    "    max_time = val-start\n",
    "    if k >= max_time:\n",
    "        k-=max_time\n",
    "        one_index[i] = start\n",
    "        start += 1\n",
    "    else:\n",
    "        one_index[i] -=k\n",
    "        break\n",
    "\n",
    "print(one_index)\n",
    "\n",
    "result = [\"0\"]*n\n",
    "for i in one_index:\n",
    "    result[i] = \"1\"\n",
    "print(\"\".join(result))"
   ]
  },
  {
   "cell_type": "code",
   "execution_count": 10,
   "metadata": {},
   "outputs": [
    {
     "name": "stdout",
     "output_type": "stream",
     "text": [
      "4 :: 4\n",
      "1.0\n",
      "4 :: 4\n",
      "4.0\n",
      "4 :: 4\n",
      "6.0\n",
      "2 :: 4\n",
      "12.0\n"
     ]
    }
   ],
   "source": [
    "import collections\n",
    "import math\n",
    "def numssdfdfdfs(input):\n",
    "    counts = (collections.Counter(input))\n",
    "    p,q = 0, 0\n",
    "    for elt in input:\n",
    "        if elt<3:\n",
    "            p+=1\n",
    "        if elt<6:\n",
    "            q +=1 \n",
    "    counts = list((collections.Counter(input)).values())\n",
    "    counts = list(map(lambda x: math.factorial(x), counts))\n",
    "    freq = math.prod(counts) \n",
    "    print(p, \"::\" ,q)\n",
    "    if p==0:\n",
    "        return 0\n",
    "    if p==1:\n",
    "        return 2*q/freq\n",
    "    return p*(q-1)*2*1/freq\n",
    "\n",
    "print(numssdfdfdfs([1,1,1,1]))\n",
    "print(numssdfdfdfs([1,2,1,1]))\n",
    "print(numssdfdfdfs([1,2,1,2]))\n",
    "print(numssdfdfdfs([1,2,3,4]))\n"
   ]
  },
  {
   "cell_type": "code",
   "execution_count": null,
   "metadata": {},
   "outputs": [],
   "source": [
    "\n",
    "# how to break invalid semicolon\n",
    "\n",
    "def separate_emails(input):\n",
    "    markers = [0]\n",
    "    quote_counter = 0\n",
    "    for i in range(len(input)):\n",
    "        quote_counter += 1\n",
    "        if input == ';' and quote_counter%'2'==0:\n",
    "            cur = input[markers[-1]:i]\n",
    "            if '@' in cur and '.' in cur and 'com' in cur:\n",
    "                markers.append(i)\n",
    "    print(markers)\n",
    "\n"
   ]
  },
  {
   "cell_type": "code",
   "execution_count": 10,
   "metadata": {},
   "outputs": [],
   "source": [
    "class TreeNode(object):\n",
    "    def __init__(self, x):\n",
    "        self.val = x\n",
    "        self.left = None\n",
    "        self.right = None\n",
    "\n",
    "\n",
    "def serialize(root):\n",
    "        def rserialize(root, string): \n",
    "            if root is None:\n",
    "                string += 'None,'\n",
    "            else:\n",
    "                string += str(root.val) + ','\n",
    "                string = rserialize(root.left, string)\n",
    "                string = rserialize(root.right, string)\n",
    "            return string\n",
    "        \n",
    "        return rserialize(root, '')\n",
    "        \n",
    "\n",
    "def deserialize(data): \n",
    "    def rdeserialize(l):\n",
    "        if l[0] == 'None':\n",
    "            l.pop(0)\n",
    "            return None\n",
    "        root = TreeNode(l.pop(0))\n",
    "        root.left = rdeserialize(l)\n",
    "        root.right = rdeserialize(l)\n",
    "        return root\n",
    "    data_list = data.split(',')\n",
    "    root = rdeserialize(data_list)\n",
    "    return root \n",
    "\n",
    "\n",
    "x = serialize(deserialize('1,2,3,None,None,4,5'))\n",
    "print(x)"
   ]
  },
  {
   "cell_type": "code",
   "execution_count": 14,
   "metadata": {},
   "outputs": [],
   "source": [
    "def timers(a, b, c, d):\n",
    "    print(a)\n"
   ]
  },
  {
   "cell_type": "code",
   "execution_count": 44,
   "metadata": {},
   "outputs": [
    {
     "name": "stdout",
     "output_type": "stream",
     "text": [
      "18\n"
     ]
    },
    {
     "data": {
      "text/plain": [
       "['01:23',\n",
       " '01:32',\n",
       " '02:13',\n",
       " '02:31',\n",
       " '03:12',\n",
       " '03:21',\n",
       " '10:23',\n",
       " '10:32',\n",
       " '12:03',\n",
       " '12:30',\n",
       " '13:02',\n",
       " '13:20',\n",
       " '20:13',\n",
       " '20:31',\n",
       " '21:03',\n",
       " '21:30',\n",
       " '23:01',\n",
       " '23:10']"
      ]
     },
     "execution_count": 44,
     "metadata": {},
     "output_type": "execute_result"
    }
   ],
   "source": [
    "def permute(nums):\n",
    "    res = []\n",
    "    def rec_permute(cur, rem, res):\n",
    "        if not rem:\n",
    "            res.append(cur)\n",
    "        for i in range(len(rem)):\n",
    "            new_rem = rem[:]\n",
    "            new_cur = cur + [new_rem.pop(i)]\n",
    "            rec_permute(new_cur, new_rem, res)\n",
    "    rec_permute([], nums, res)\n",
    "    res = filter(lambda x: 0<=10*x[0]+x[1]<=23 and 0<=10*x[2]+x[3]<=59, res)\n",
    "    res = list(set(map(lambda x: f\"{x[0]}{x[1]}:{x[2]}{x[3]}\", res)))\n",
    "    res.sort()\n",
    "    print(len(res))\n",
    "    return res\n",
    "\n",
    "    \n",
    "\n",
    "permute([1,2,3,0])"
   ]
  },
  {
   "cell_type": "code",
   "execution_count": 40,
   "metadata": {},
   "outputs": [
    {
     "name": "stdout",
     "output_type": "stream",
     "text": [
      "0\n"
     ]
    }
   ],
   "source": [
    "from collections import Counter\n",
    "x= [1]\n",
    "y = Counter(x)\n",
    "print(y[2])\n"
   ]
  },
  {
   "cell_type": "code",
   "execution_count": 1,
   "metadata": {},
   "outputs": [],
   "source": [
    "nums = [-1,0,1,2,-1,-4]\n",
    "nums_2 = list(set(nums))\n",
    "nums_2.sort()"
   ]
  },
  {
   "cell_type": "code",
   "execution_count": 2,
   "metadata": {},
   "outputs": [
    {
     "name": "stdout",
     "output_type": "stream",
     "text": [
      "1 2\n"
     ]
    }
   ],
   "source": [
    "rank_map = {1:2}\n",
    "for (node_, rank) in rank_map.items():\n",
    "    print(node_, rank)"
   ]
  },
  {
   "cell_type": "code",
   "execution_count": null,
   "metadata": {},
   "outputs": [],
   "source": [
    "# https://leetcode.com/problems/kth-smallest-element-in-a-bst/description/\n",
    "# Traverfsal based question\n",
    "class Solution:\n",
    "    def kthSmallest(self, root: Optional[TreeNode], k: int) -> int:\n",
    "        def inorder(r):\n",
    "            return inorder(r.left) + [r.val] + inorder(r.right) if r else []\n",
    "        return inorder(root)[k - 1]"
   ]
  },
  {
   "cell_type": "code",
   "execution_count": 4,
   "metadata": {},
   "outputs": [
    {
     "name": "stdout",
     "output_type": "stream",
     "text": [
      "apple\n",
      "appled\n",
      "apped\n",
      "['apple', 'appled', 'apped']\n"
     ]
    }
   ],
   "source": [
    "class Trie: # The name is called Trie\n",
    "    def __init__(self):\n",
    "        self.root = {}\n",
    "\n",
    "    def insert(self, sentenc):\n",
    "        cur = self.root      # we start at the root node and proceed recursively\n",
    "        for letter in sentenc:\n",
    "            if letter not in cur:\n",
    "                cur[letter] = {}\n",
    "            cur = cur[letter]\n",
    "        cur['*'] = ''    # sentinel character to mark end of tree\n",
    "\n",
    "    def findResults(self, query):\n",
    "        cur = self.root\n",
    "        for letter in query:\n",
    "            if letter not in cur:\n",
    "                return []\n",
    "            cur = cur[letter]\n",
    "        # from here we have to give all possible paths in tree from cur\n",
    "        self.results = []\n",
    "        self.allPossiblePaths(cur, query)\n",
    "        return self.results\n",
    "    \n",
    "    def allPossiblePaths(self, curnode, cur_str): \n",
    "        for key, val in curnode.items():\n",
    "            if key == '*': # end of tree path\n",
    "                self.results.append(cur_str)\n",
    "            else:\n",
    "                self.allPossiblePaths(val, cur_str+key)\n",
    "\n",
    "# made one correction \n",
    "# repalce rsutls with self.results\n",
    "# u used result and results -- be consitetn -- line 32\n",
    "\n",
    "# Emtpy ''\n",
    "# Exact match with one of teh sentence -- recursion logic we need to verify \n",
    "\n",
    "\n",
    "trte = Trie()\n",
    "sentencs = [\"apple\", \"apped\", \"appled\"]\n",
    "for sentenc in sentencs:\n",
    "    trte.insert(sentenc)\n",
    "ans = trte.findResults('where can I')  # lets check\n",
    "# then \n",
    "# we need to trucnate space on query\n",
    "print(ans)\n",
    "\n",
    "\n",
    "          "
   ]
  },
  {
   "cell_type": "code",
   "execution_count": null,
   "metadata": {},
   "outputs": [],
   "source": [
    "x = 'abc'\n",
    "y = 'def'\n",
    "def bit_string(x):\n",
    "    res = 0\n",
    "    for char in x:\n",
    "        \n"
   ]
  },
  {
   "cell_type": "code",
   "execution_count": 9,
   "metadata": {},
   "outputs": [
    {
     "data": {
      "text/plain": [
       "[]"
      ]
     },
     "execution_count": 9,
     "metadata": {},
     "output_type": "execute_result"
    }
   ],
   "source": [
    "dfdf = [1, 2,3 ]\n",
    "dfdf[5:]"
   ]
  },
  {
   "cell_type": "code",
   "execution_count": 7,
   "metadata": {},
   "outputs": [
    {
     "name": "stdout",
     "output_type": "stream",
     "text": [
      "(1, 2)\n",
      "(2, 3)\n"
     ]
    }
   ],
   "source": [
    "class User: # The name is called Trie\n",
    "    # id (unique identifier)\n",
    "    # name\n",
    "    # phone_number\n",
    "    # profile_picture (optional)\n",
    "    # status (e.g., \"Online\", \"Offline\", \"Typing...\")\n",
    "    # contacts (list of User objects)\n",
    "    # Methods:\n",
    "    # send_message(recipient, message)\n",
    "    # receive_message(message)\n",
    "    # add_contact(user)\n",
    "    # remove_contact(user)\n",
    "    # update_status(status)\n",
    "    def __init__(self, id, phone_number):\n",
    "        self.id = id\n",
    "        self.phone_number = phone_number\n",
    "        self.profile_picture = None\n",
    "        self.status = 'default'\n",
    "        self.contacts = []\n",
    "\n",
    "    def update_profilepic(self, pictureID):\n",
    "        self.profile_picture = pictureID\n",
    "\n",
    "    def update_status(self, status):\n",
    "        self.profile_picture = status\n",
    "    \n",
    "    def add_contact(self,user):\n",
    "        self.contacts.append(user)\n",
    "    \n",
    "    def remove_contact(self,user):\n",
    "        self.contacts.append(user)\n",
    "         \n",
    "\n",
    "    def send_message(recipient, message):\n",
    "        return\n",
    "    \n",
    "    def receive_message(message):\n",
    "        return\n",
    "\n",
    "\n",
    "class1 = SampleClass(1)\n",
    "\n",
    " \n",
    "\n",
    "\n",
    "\n"
   ]
  },
  {
   "cell_type": "markdown",
   "metadata": {},
   "source": [
    "1. Core Classes:\n",
    "\n",
    "User:\n",
    "\n",
    "Attributes:\n",
    "id (unique identifier)\n",
    "name\n",
    "phone_number\n",
    "profile_picture (optional)\n",
    "status (e.g., \"Online\", \"Offline\", \"Typing...\")\n",
    "contacts (list of User objects)\n",
    "Methods:\n",
    "send_message(recipient, message)\n",
    "receive_message(message)\n",
    "add_contact(user)\n",
    "remove_contact(user)\n",
    "update_status(status)\n",
    "Message:\n",
    "\n",
    "Attributes:\n",
    "id (unique identifier)\n",
    "sender (reference to User)\n",
    "recipient (reference to User)\n",
    "content (text, image, video, etc.)\n",
    "timestamp\n",
    "is_read (boolean)\n",
    "Methods:\n",
    "reply(content)\n",
    "Group:\n",
    "\n",
    "Attributes:\n",
    "id (unique identifier)\n",
    "name\n",
    "description\n",
    "members (list of User objects)\n",
    "Methods:\n",
    "add_member(user)\n",
    "remove_member(user)\n",
    "send_group_message(message)\n",
    "2. Additional Classes:\n",
    "\n",
    "Chat:\n",
    "\n",
    "Attributes:\n",
    "id (unique identifier)\n",
    "participants (list of User objects)\n",
    "messages (list of Message objects)\n",
    "Methods:\n",
    "add_message(message)\n",
    "get_messages()\n",
    "Media:\n",
    "\n",
    "Attributes:\n",
    "type (image, video, etc.)\n",
    "content (binary data)\n",
    "Methods:\n",
    "upload()\n",
    "download()\n",
    "3. Relationships and Interactions:\n",
    "\n",
    "A User can have many Chats and be part of many Groups.\n",
    "A Chat can have many Messages.\n",
    "A Message can reference a Media object.\n",
    "A Group can have many Members and many Chats."
   ]
  },
  {
   "cell_type": "code",
   "execution_count": 8,
   "metadata": {},
   "outputs": [
    {
     "name": "stdout",
     "output_type": "stream",
     "text": [
      "(0, 3)\n",
      "(1, 3)\n",
      "(2, 3)\n",
      "[[4, 5]]\n"
     ]
    }
   ],
   "source": [
    "def allTwoSums(target, nums):\n",
    "    start = 0\n",
    "    end = len(nums)-1\n",
    "    res= []\n",
    "    while start<end:\n",
    "        print(start, end)\n",
    "        if nums[start] + nums[end] > target:\n",
    "            end-=1\n",
    "        elif nums[start] + nums[end] < target:\n",
    "            start+=1\n",
    "        else:\n",
    "            res.append([nums[start], nums[end]])\n",
    "            start+=1\n",
    "            end-=1\n",
    "    return res\n",
    "\n",
    "print(allTwoSums(9, [2, 3, 4, 5]))"
   ]
  },
  {
   "cell_type": "code",
   "execution_count": 9,
   "metadata": {},
   "outputs": [
    {
     "data": {
      "text/plain": [
       "40"
      ]
     },
     "execution_count": 9,
     "metadata": {},
     "output_type": "execute_result"
    }
   ],
   "source": [
    "len([4,4,4,4,4,4,4,4,4,4,4,4,4,4,4,4,4,4,4,4,4,4,4,4,4,4,4,4,4,4,4,4,4,4,4,4,4,4,4,11])"
   ]
  },
  {
   "cell_type": "code",
   "execution_count": 10,
   "metadata": {},
   "outputs": [
    {
     "data": {
      "text/plain": [
       "40"
      ]
     },
     "execution_count": 10,
     "metadata": {},
     "output_type": "execute_result"
    }
   ],
   "source": [
    "len([4,4,4,4,4,4,5,5,4,4,4,5,4,4,4,4,4,4,4,4,5,5,4,4,4,4,4,4,4,4,4,4,4,4,4,4,4,4,5,5])"
   ]
  },
  {
   "cell_type": "code",
   "execution_count": 3,
   "metadata": {},
   "outputs": [
    {
     "data": {
      "text/plain": [
       "1.0"
      ]
     },
     "execution_count": 3,
     "metadata": {},
     "output_type": "execute_result"
    }
   ],
   "source": [
    "x = 1\n",
    "y = 3\n",
    "from math import ceil\n",
    "ceil(x*1.0/y)"
   ]
  },
  {
   "cell_type": "code",
   "execution_count": 5,
   "metadata": {},
   "outputs": [
    {
     "name": "stdout",
     "output_type": "stream",
     "text": [
      "6\n",
      "5\n",
      "4\n",
      "3\n"
     ]
    }
   ],
   "source": [
    "for i in range(6, 2, -1):\n",
    "    print(i)"
   ]
  },
  {
   "cell_type": "code",
   "execution_count": 7,
   "metadata": {},
   "outputs": [
    {
     "name": "stdout",
     "output_type": "stream",
     "text": [
      "[(1, 3), (2, 2)]\n"
     ]
    }
   ],
   "source": [
    "i,j = 2,3\n",
    "num_rows, num_cols = 3,4\n",
    "res = list(filter(lambda p: p[0] in range(num_rows) and p[1] in range(num_cols), [(i+1,j), (i-1, j), (i, j+1), (i, j-1)]))\n",
    "print(res)"
   ]
  },
  {
   "cell_type": "code",
   "execution_count": null,
   "metadata": {},
   "outputs": [],
   "source": [
    "txt = \"apple#banana#cherry#orange\"\n",
    "x = txt.split(\"#\")"
   ]
  },
  {
   "cell_type": "code",
   "execution_count": 29,
   "metadata": {},
   "outputs": [
    {
     "name": "stdout",
     "output_type": "stream",
     "text": [
      "Counter({2: 4, 1: 1, 5: 1})\n",
      "Counter({2: 3, 5: 1})\n",
      "Counter({2: 2})\n",
      "2\n"
     ]
    }
   ],
   "source": [
    "from collections import Counter\n",
    "def getMinFruits(fruits):\n",
    "    counts = Counter(fruits[1:])\n",
    "    while len(counts)>=2:\n",
    "        most_common_fruits = counts.most_common(2)\n",
    "        first, first_freq = most_common_fruits[0]\n",
    "        second, second_freq = most_common_fruits[1]\n",
    "        del counts[second]\n",
    "        counts[first] = first_freq-second_freq\n",
    "        if counts[first] == 0:\n",
    "            del counts[first] \n",
    "    return sum(counts.values())\n",
    "\n",
    "        \n",
    "\n",
    "\n",
    "# getMinFruits([3,3,1,1,2])\n",
    "# getMinFruits([2,2,2,5,1,2])\n",
    "# getMinFruits([1,2,5,6]) \n"
   ]
  }
 ],
 "metadata": {
  "kernelspec": {
   "display_name": "Python 3.10.9 64-bit",
   "language": "python",
   "name": "python3"
  },
  "language_info": {
   "codemirror_mode": {
    "name": "ipython",
    "version": 3
   },
   "file_extension": ".py",
   "mimetype": "text/x-python",
   "name": "python",
   "nbconvert_exporter": "python",
   "pygments_lexer": "ipython3",
   "version": "3.10.9"
  },
  "orig_nbformat": 4,
  "vscode": {
   "interpreter": {
    "hash": "bd385fe162c5ca0c84973b7dd5c518456272446b2b64e67c2a69f949ca7a1754"
   }
  }
 },
 "nbformat": 4,
 "nbformat_minor": 2
}
