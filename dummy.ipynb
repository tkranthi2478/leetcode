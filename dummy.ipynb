{
 "cells": [
  {
   "cell_type": "code",
   "execution_count": 13,
   "metadata": {},
   "outputs": [
    {
     "name": "stdout",
     "output_type": "stream",
     "text": [
      "9\n",
      "-1\n",
      "-1\n",
      "19\n",
      "19\n"
     ]
    }
   ],
   "source": [
    "def max_kk(S):\n",
    "    cur_sum = 0\n",
    "    max_sum = 0\n",
    "    positive = False\n",
    "    for i in range(len(S)):\n",
    "        item = S[i]\n",
    "        if item<0:\n",
    "            cur_sum = 0\n",
    "            i += 1\n",
    "        else:\n",
    "            cur_sum += item\n",
    "            positive = True\n",
    "        max_sum = max(max_sum, cur_sum)\n",
    "    return max_sum if positive else -1\n",
    "\n",
    "print(max_kk([1,2,-3, 4, 5, -6]))\n",
    "print(max_kk([-1, -2,-3, -4, -5, -6]))\n",
    "print(max_kk([-9]))\n",
    "print(max_kk([19]))\n",
    "print(max_kk([19, -1, 2, 3]))\n"
   ]
  },
  {
   "cell_type": "code",
   "execution_count": 75,
   "metadata": {},
   "outputs": [
    {
     "name": "stdout",
     "output_type": "stream",
     "text": [
      "4 :: 4\n",
      "1.0\n",
      "4 :: 4\n",
      "4.0\n",
      "4 :: 4\n",
      "6.0\n",
      "2 :: 4\n",
      "12.0\n"
     ]
    }
   ],
   "source": [
    "import collections\n",
    "import math\n",
    "def numssdfdfdfs(input):\n",
    "    counts = (collections.Counter(input))\n",
    "    p,q = 0, 0\n",
    "    for elt in input:\n",
    "        if elt<3:\n",
    "            p+=1\n",
    "        if elt<6:\n",
    "            q +=1 \n",
    "    counts = list((collections.Counter(input)).values())\n",
    "    counts = list(map(lambda x: math.factorial(x), counts))\n",
    "    freq = math.prod(counts) \n",
    "    print(p, \"::\" ,q)\n",
    "    if p==0:\n",
    "        return 0\n",
    "    if p==1:\n",
    "        return 2*q/freq\n",
    "    return p*(q-1)*2*1/freq\n",
    "\n",
    "print(numssdfdfdfs([1,1,1,1]))\n",
    "print(numssdfdfdfs([1,2,1,1]))\n",
    "print(numssdfdfdfs([1,2,1,2]))\n",
    "print(numssdfdfdfs([1,2,3,4]))\n"
   ]
  },
  {
   "cell_type": "code",
   "execution_count": null,
   "metadata": {},
   "outputs": [],
   "source": [
    "\n",
    "# how to break invalid semicolon\n",
    "\n",
    "def separate_emails(input):\n",
    "    markers = [0]\n",
    "    quote_counter = 0\n",
    "    for i in range(len(input)):\n",
    "        quote_counter += 1\n",
    "        if input == ';' and quote_counter%'2'==0:\n",
    "            cur = input[markers[-1]:i]\n",
    "            if '@' in cur and '.' in cur and 'com' in cur:\n",
    "                markers.append(i)\n",
    "    print(markers)\n",
    "\n"
   ]
  },
  {
   "cell_type": "code",
   "execution_count": 10,
   "metadata": {},
   "outputs": [],
   "source": [
    "class TreeNode(object):\n",
    "    def __init__(self, x):\n",
    "        self.val = x\n",
    "        self.left = None\n",
    "        self.right = None\n",
    "\n",
    "\n",
    "def serialize(root):\n",
    "        def rserialize(root, string): \n",
    "            if root is None:\n",
    "                string += 'None,'\n",
    "            else:\n",
    "                string += str(root.val) + ','\n",
    "                string = rserialize(root.left, string)\n",
    "                string = rserialize(root.right, string)\n",
    "            return string\n",
    "        \n",
    "        return rserialize(root, '')\n",
    "        \n",
    "\n",
    "def deserialize(data): \n",
    "    def rdeserialize(l):\n",
    "        if l[0] == 'None':\n",
    "            l.pop(0)\n",
    "            return None\n",
    "        root = TreeNode(l.pop(0))\n",
    "        root.left = rdeserialize(l)\n",
    "        root.right = rdeserialize(l)\n",
    "        return root\n",
    "    data_list = data.split(',')\n",
    "    root = rdeserialize(data_list)\n",
    "    return root \n",
    "\n",
    "\n",
    "x = serialize(deserialize('1,2,3,None,None,4,5'))\n",
    "print(x)"
   ]
  },
  {
   "cell_type": "code",
   "execution_count": 14,
   "metadata": {},
   "outputs": [],
   "source": [
    "def timers(a, b, c, d):\n",
    "    print(a)\n"
   ]
  },
  {
   "cell_type": "code",
   "execution_count": 44,
   "metadata": {},
   "outputs": [
    {
     "name": "stdout",
     "output_type": "stream",
     "text": [
      "18\n"
     ]
    },
    {
     "data": {
      "text/plain": [
       "['01:23',\n",
       " '01:32',\n",
       " '02:13',\n",
       " '02:31',\n",
       " '03:12',\n",
       " '03:21',\n",
       " '10:23',\n",
       " '10:32',\n",
       " '12:03',\n",
       " '12:30',\n",
       " '13:02',\n",
       " '13:20',\n",
       " '20:13',\n",
       " '20:31',\n",
       " '21:03',\n",
       " '21:30',\n",
       " '23:01',\n",
       " '23:10']"
      ]
     },
     "execution_count": 44,
     "metadata": {},
     "output_type": "execute_result"
    }
   ],
   "source": [
    "def permute(nums):\n",
    "    res = []\n",
    "    def rec_permute(cur, rem, res):\n",
    "        if not rem:\n",
    "            res.append(cur)\n",
    "        for i in range(len(rem)):\n",
    "            new_rem = rem[:]\n",
    "            new_cur = cur + [new_rem.pop(i)]\n",
    "            rec_permute(new_cur, new_rem, res)\n",
    "    rec_permute([], nums, res)\n",
    "    res = filter(lambda x: 0<=10*x[0]+x[1]<=23 and 0<=10*x[2]+x[3]<=59, res)\n",
    "    res = list(set(map(lambda x: f\"{x[0]}{x[1]}:{x[2]}{x[3]}\", res)))\n",
    "    res.sort()\n",
    "    print(len(res))\n",
    "    return res\n",
    "\n",
    "    \n",
    "\n",
    "permute([1,2,3,0])"
   ]
  },
  {
   "cell_type": "code",
   "execution_count": 40,
   "metadata": {},
   "outputs": [
    {
     "name": "stdout",
     "output_type": "stream",
     "text": [
      "0\n"
     ]
    }
   ],
   "source": [
    "from collections import Counter\n",
    "x= [1]\n",
    "y = Counter(x)\n",
    "print(y[2])\n"
   ]
  },
  {
   "cell_type": "code",
   "execution_count": 1,
   "metadata": {},
   "outputs": [],
   "source": [
    "nums = [-1,0,1,2,-1,-4]\n",
    "nums_2 = list(set(nums))\n",
    "nums_2.sort()"
   ]
  },
  {
   "cell_type": "code",
   "execution_count": 2,
   "metadata": {},
   "outputs": [
    {
     "name": "stdout",
     "output_type": "stream",
     "text": [
      "1 2\n"
     ]
    }
   ],
   "source": [
    "rank_map = {1:2}\n",
    "for (node_, rank) in rank_map.items():\n",
    "    print(node_, rank)"
   ]
  },
  {
   "cell_type": "code",
   "execution_count": null,
   "metadata": {},
   "outputs": [],
   "source": [
    "# https://leetcode.com/problems/kth-smallest-element-in-a-bst/description/\n",
    "# Traverfsal based question\n",
    "class Solution:\n",
    "    def kthSmallest(self, root: Optional[TreeNode], k: int) -> int:\n",
    "        def inorder(r):\n",
    "            return inorder(r.left) + [r.val] + inorder(r.right) if r else []\n",
    "        return inorder(root)[k - 1]"
   ]
  },
  {
   "cell_type": "code",
   "execution_count": 5,
   "metadata": {},
   "outputs": [],
   "source": [
    "class Trie:\n",
    "    def __init__(self):\n",
    "        self.root = {}\n",
    "\n",
    "    def insert(self, word):\n",
    "        cur = self.root\n",
    "        for letter in word:\n",
    "            if letter not in cur:\n",
    "                cur[letter] = {}\n",
    "            cur = cur[letter]\n",
    "        cur['*'] = ''\n",
    "\n",
    "    def search(self, word):\n",
    "        cur = self.root\n",
    "        for letter in word:\n",
    "            if letter not in cur:\n",
    "                return False\n",
    "            cur = cur[letter]\n",
    "        return '*' in cur\n",
    "        \n",
    "    def startsWith(self, prefix):\n",
    "        cur = self.root\n",
    "        for letter in prefix:\n",
    "            if letter not in cur:\n",
    "                return False\n",
    "            cur = cur[letter]\n",
    "        return True\n",
    "\n",
    "trte = Trie()\n",
    "words = [\"apple\", \"apped\", \"appled\"]\n",
    "for word in words:\n",
    "    trte.insert(word)\n",
    "print(1)\n",
    "\n",
    "\n",
    "          "
   ]
  },
  {
   "cell_type": "code",
   "execution_count": null,
   "metadata": {},
   "outputs": [],
   "source": [
    "x = 'abc'\n",
    "y = 'def'\n",
    "def bit_string(x):\n",
    "    res = 0\n",
    "    for char in x:\n",
    "        \n"
   ]
  },
  {
   "cell_type": "code",
   "execution_count": 9,
   "metadata": {},
   "outputs": [
    {
     "data": {
      "text/plain": [
       "[]"
      ]
     },
     "execution_count": 9,
     "metadata": {},
     "output_type": "execute_result"
    }
   ],
   "source": [
    "dfdf = [1, 2,3 ]\n",
    "dfdf[5:]"
   ]
  },
  {
   "cell_type": "code",
   "execution_count": 7,
   "metadata": {},
   "outputs": [
    {
     "name": "stdout",
     "output_type": "stream",
     "text": [
      "(1, 2)\n",
      "(2, 3)\n"
     ]
    }
   ],
   "source": [
    " "
   ]
  },
  {
   "cell_type": "code",
   "execution_count": 8,
   "metadata": {},
   "outputs": [
    {
     "name": "stdout",
     "output_type": "stream",
     "text": [
      "(0, 3)\n",
      "(1, 3)\n",
      "(2, 3)\n",
      "[[4, 5]]\n"
     ]
    }
   ],
   "source": [
    "def allTwoSums(target, nums):\n",
    "    start = 0\n",
    "    end = len(nums)-1\n",
    "    res= []\n",
    "    while start<end:\n",
    "        print(start, end)\n",
    "        if nums[start] + nums[end] > target:\n",
    "            end-=1\n",
    "        elif nums[start] + nums[end] < target:\n",
    "            start+=1\n",
    "        else:\n",
    "            res.append([nums[start], nums[end]])\n",
    "            start+=1\n",
    "            end-=1\n",
    "    return res\n",
    "\n",
    "print(allTwoSums(9, [2, 3, 4, 5]))"
   ]
  },
  {
   "cell_type": "code",
   "execution_count": 9,
   "metadata": {},
   "outputs": [
    {
     "data": {
      "text/plain": [
       "40"
      ]
     },
     "execution_count": 9,
     "metadata": {},
     "output_type": "execute_result"
    }
   ],
   "source": [
    "len([4,4,4,4,4,4,4,4,4,4,4,4,4,4,4,4,4,4,4,4,4,4,4,4,4,4,4,4,4,4,4,4,4,4,4,4,4,4,4,11])"
   ]
  },
  {
   "cell_type": "code",
   "execution_count": 10,
   "metadata": {},
   "outputs": [
    {
     "data": {
      "text/plain": [
       "40"
      ]
     },
     "execution_count": 10,
     "metadata": {},
     "output_type": "execute_result"
    }
   ],
   "source": [
    "len([4,4,4,4,4,4,5,5,4,4,4,5,4,4,4,4,4,4,4,4,5,5,4,4,4,4,4,4,4,4,4,4,4,4,4,4,4,4,5,5])"
   ]
  },
  {
   "cell_type": "code",
   "execution_count": 3,
   "metadata": {},
   "outputs": [
    {
     "data": {
      "text/plain": [
       "1.0"
      ]
     },
     "execution_count": 3,
     "metadata": {},
     "output_type": "execute_result"
    }
   ],
   "source": [
    "x = 1\n",
    "y = 3\n",
    "from math import ceil\n",
    "ceil(x*1.0/y)"
   ]
  },
  {
   "cell_type": "code",
   "execution_count": 5,
   "metadata": {},
   "outputs": [
    {
     "name": "stdout",
     "output_type": "stream",
     "text": [
      "6\n",
      "5\n",
      "4\n",
      "3\n"
     ]
    }
   ],
   "source": [
    "for i in range(6, 2, -1):\n",
    "    print(i)"
   ]
  },
  {
   "cell_type": "code",
   "execution_count": 7,
   "metadata": {},
   "outputs": [
    {
     "name": "stdout",
     "output_type": "stream",
     "text": [
      "[(1, 3), (2, 2)]\n"
     ]
    }
   ],
   "source": [
    "i,j = 2,3\n",
    "num_rows, num_cols = 3,4\n",
    "res = list(filter(lambda p: p[0] in range(num_rows) and p[1] in range(num_cols), [(i+1,j), (i-1, j), (i, j+1), (i, j-1)]))\n",
    "print(res)"
   ]
  },
  {
   "cell_type": "code",
   "execution_count": null,
   "metadata": {},
   "outputs": [],
   "source": [
    "txt = \"apple#banana#cherry#orange\"\n",
    "x = txt.split(\"#\")"
   ]
  },
  {
   "cell_type": "code",
   "execution_count": 29,
   "metadata": {},
   "outputs": [
    {
     "name": "stdout",
     "output_type": "stream",
     "text": [
      "Counter({2: 4, 1: 1, 5: 1})\n",
      "Counter({2: 3, 5: 1})\n",
      "Counter({2: 2})\n",
      "2\n"
     ]
    }
   ],
   "source": [
    "from collections import Counter\n",
    "def getMinFruits(fruits):\n",
    "    counts = Counter(fruits[1:])\n",
    "    while len(counts)>=2:\n",
    "        most_common_fruits = counts.most_common(2)\n",
    "        first, first_freq = most_common_fruits[0]\n",
    "        second, second_freq = most_common_fruits[1]\n",
    "        del counts[second]\n",
    "        counts[first] = first_freq-second_freq\n",
    "        if counts[first] == 0:\n",
    "            del counts[first] \n",
    "    return sum(counts.values())\n",
    "\n",
    "        \n",
    "\n",
    "\n",
    "# getMinFruits([3,3,1,1,2])\n",
    "# getMinFruits([2,2,2,5,1,2])\n",
    "# getMinFruits([1,2,5,6]) \n"
   ]
  }
 ],
 "metadata": {
  "kernelspec": {
   "display_name": "Python 3.10.9 64-bit",
   "language": "python",
   "name": "python3"
  },
  "language_info": {
   "codemirror_mode": {
    "name": "ipython",
    "version": 3
   },
   "file_extension": ".py",
   "mimetype": "text/x-python",
   "name": "python",
   "nbconvert_exporter": "python",
   "pygments_lexer": "ipython3",
   "version": "3.10.9"
  },
  "orig_nbformat": 4,
  "vscode": {
   "interpreter": {
    "hash": "bd385fe162c5ca0c84973b7dd5c518456272446b2b64e67c2a69f949ca7a1754"
   }
  }
 },
 "nbformat": 4,
 "nbformat_minor": 2
}
