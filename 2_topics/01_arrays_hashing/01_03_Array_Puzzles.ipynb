{
 "cells": [
  {
   "cell_type": "code",
   "execution_count": null,
   "metadata": {},
   "outputs": [],
   "source": [
    "# https://leetcode.com/problems/maximum-swap/description/\n",
    "# Seems easy -- but slightly messy\n",
    "def maximumSwap(num: int) -> int:\n",
    "    last_inds = {}\n",
    "    num = list(str(num))\n",
    "    for i, e in enumerate(num):\n",
    "        last_inds[int(e)] = i \n",
    "    for i, e in enumerate(num):\n",
    "        for x in range(9, int(e), -1):\n",
    "            if x in last_inds and  last_inds[x] >i:\n",
    "                num[i], num[last_inds[x]] = num[last_inds[x]], num[i]\n",
    "                return int(''.join(num))\n",
    "    return int(''.join(num))"
   ]
  },
  {
   "cell_type": "code",
   "execution_count": null,
   "metadata": {},
   "outputs": [],
   "source": [
    "# https://leetcode.com/discuss/interview-question/4585427/Meta-or-OA-or-Angry-Frogs/\n",
    "def frogDistance(blocks):\n",
    "    n = len(blocks)\n",
    "    l_dips = [0] * n\n",
    "    r_raises = [0] * n\n",
    "    for i in range(1, n):\n",
    "        l_dips[i] = l_dips[i-1] + 1 if blocks[i] <= blocks[i-1] else 0\n",
    "    for i in range(n-2, -1, -1):\n",
    "        r_raises[i] = r_raises[i+1] + 1 if blocks[i] <= blocks[i+1] else 0\n",
    "    res = max(l_dips[i] + r_raises[i] + 1 for i in range(n))\n",
    "    return res\n",
    "\n",
    "print(frogDistance([2, 6, 8, 5]))  # Output: 3\n",
    "print(frogDistance([1, 5, 5, 2, 6]))  # Output: 4\n",
    "print(frogDistance([1, 1, 1, 1]))  # Output: 4\n",
    "print(frogDistance([1, 2, 3, 4, 5]))  # Output: 5\n",
    "print(frogDistance([5, 4, 3, 2, 1]))  # Output: 5\n",
    "print(frogDistance([1,1])) # output 2"
   ]
  },
  {
   "cell_type": "code",
   "execution_count": null,
   "metadata": {},
   "outputs": [],
   "source": [
    "def three_sorted_arrays(arr1, arr2, arr3):\n",
    "    res = []\n",
    "    a, b, c = 0, 0, 0\n",
    "    while True:\n",
    "        A = arr1[a] if a<len(arr1) else float('inf')\n",
    "        B = arr2[b] if b<len(arr2) else float('inf')\n",
    "        C = arr3[c] if c<len(arr3) else float('inf')\n",
    "        if A<B and A<C:\n",
    "            a += 1\n",
    "            min_ = A\n",
    "        if B<A and B<C:\n",
    "            b += 1\n",
    "            min_ = B\n",
    "        else:\n",
    "            c+=1\n",
    "            min_ = C \n",
    "        # if min_ is inf, we have reached the end of all 3 arrays\n",
    "        if min_ == float('inf'):\n",
    "            break \n",
    "        if res and res[-1] == min_:\n",
    "            continue  \n",
    "        res.append(min_) \n",
    "    return res"
   ]
  },
  {
   "cell_type": "code",
   "execution_count": null,
   "metadata": {},
   "outputs": [],
   "source": [
    "# https://leetcode.com/problems/boats-to-save-people/\n",
    "def num_boats(people, limit) -> int:\n",
    "        # pair the extremes\n",
    "        people.sort()\n",
    "        # two pointers each at the extermests\n",
    "        i, j = 0, len(people) - 1\n",
    "        ans = 0\n",
    "        while i <= j:\n",
    "            ans += 1\n",
    "            if people[i] + people[j] <= limit: # advance left only if the \n",
    "                i += 1 \n",
    "            j -= 1 \n",
    "        return ans"
   ]
  }
 ],
 "metadata": {
  "kernelspec": {
   "display_name": "Python 2.7.18 64-bit ('2.7.18')",
   "language": "python",
   "name": "python3"
  },
  "language_info": {
   "name": "python",
   "version": "2.7.18"
  },
  "orig_nbformat": 4,
  "vscode": {
   "interpreter": {
    "hash": "d4fb2e5c5fbd1b7ac3c45498fbe8beed7c55352b2ef39a4963899e56de0c4ffa"
   }
  }
 },
 "nbformat": 4,
 "nbformat_minor": 2
}
