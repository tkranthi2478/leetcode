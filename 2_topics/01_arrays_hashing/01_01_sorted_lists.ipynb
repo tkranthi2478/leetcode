{
 "cells": [
  {
   "cell_type": "markdown",
   "metadata": {},
   "source": [
    "* They just make thinking easy\n",
    "* They are typically O(n^2) solutions"
   ]
  },
  {
   "cell_type": "code",
   "execution_count": null,
   "metadata": {},
   "outputs": [],
   "source": [
    "# https://leetcode.com/problems/minimum-absolute-difference-between-elements-with-constraint/description/\n",
    "\n",
    "# Sorted List\n",
    "import bisect, math\n",
    "\n",
    "def minAbsoluteDifference(nums, x):\n",
    "    sorted_queue = []\n",
    "    ans = math.inf\n",
    "    for i, num in enumerate(nums):\n",
    "        ind = bisect.bisect_left(sorted_queue, num)\n",
    "        sorted_queue.insert(ind, num) #o(n) time\n",
    "        j = i+x\n",
    "        if j<len(nums):\n",
    "            k = bisect.bisect_left(sorted_queue, nums[j])\n",
    "            if k > 0:\n",
    "                ans = min(ans, abs(nums[j]-sorted_queue[k-1]))\n",
    "            if k < len(sorted_queue):\n",
    "                ans = min(ans, abs(nums[j]-sorted_queue[k]))\n",
    "    return ans\n",
    "        "
   ]
  },
  {
   "cell_type": "code",
   "execution_count": 30,
   "metadata": {},
   "outputs": [
    {
     "name": "stdout",
     "output_type": "stream",
     "text": [
      "BANC\n"
     ]
    },
    {
     "data": {
      "text/plain": [
       "'b'"
      ]
     },
     "execution_count": 30,
     "metadata": {},
     "output_type": "execute_result"
    }
   ],
   "source": [
    "from collections import Counter\n",
    "def minWindow(s: str, t: str) -> str:\n",
    "    counts = Counter(t)\n",
    "    stacks = {key: [] for key in t}\n",
    "    num_match = 0\n",
    "    l = 0\n",
    "    res, ans = float('inf'), \"\"\n",
    "    for r, c in enumerate(s):\n",
    "        if c not in stacks:\n",
    "            continue\n",
    "        stacks[c].append(r)\n",
    "        if len(stacks[c]) == counts[c]:\n",
    "            num_match += 1 #count towards num_match only once we fill the first time\n",
    "        elif len(stacks[c]) > counts[c]:\n",
    "            stacks[c].pop(0)\n",
    "        l = min(stack[0] for stack in stacks.values() if stack)\n",
    "        if num_match == len(counts) and res > r-l+1:\n",
    "            ans = s[l:r+1]\n",
    "            res = r-l+1 \n",
    "    return ans\n",
    "\n",
    "\n",
    "# test cases\n",
    "print(minWindow(\"ADOBECODEBANC\", \"ABC\")) # 4\n",
    "minWindow(\"ab\", \"b\") # 4\n",
    "    \n",
    "        \n",
    "\n",
    "        "
   ]
  }
 ],
 "metadata": {
  "kernelspec": {
   "display_name": "Python 3",
   "language": "python",
   "name": "python3"
  },
  "language_info": {
   "codemirror_mode": {
    "name": "ipython",
    "version": 3
   },
   "file_extension": ".py",
   "mimetype": "text/x-python",
   "name": "python",
   "nbconvert_exporter": "python",
   "pygments_lexer": "ipython3",
   "version": "3.9.6"
  },
  "orig_nbformat": 4
 },
 "nbformat": 4,
 "nbformat_minor": 2
}
