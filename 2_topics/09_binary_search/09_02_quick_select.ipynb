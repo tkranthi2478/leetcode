{
 "cells": [
  {
   "cell_type": "code",
   "execution_count": null,
   "metadata": {},
   "outputs": [],
   "source": [
    "import random\n",
    "\n",
    "def findKthLargest(nums, k):\n",
    "    def partition(left, right, pivot_index):\n",
    "        pivot = nums[pivot_index]\n",
    "        # Move pivot to end\n",
    "        nums[pivot_index], nums[right] = nums[right], nums[pivot_index]\n",
    "        store_index = left\n",
    "\n",
    "        # Move elements greater than pivot to the left\n",
    "        for i in range(left, right):\n",
    "            if nums[i] > pivot:  # Note: \">\" for Kth largest\n",
    "                nums[store_index], nums[i] = nums[i], nums[store_index]\n",
    "                store_index += 1\n",
    "\n",
    "        # Move pivot to its final position\n",
    "        nums[right], nums[store_index] = nums[store_index], nums[right]\n",
    "        return store_index\n",
    "\n",
    "    def quick_select(left, right, k_smallest):\n",
    "        if left == right:\n",
    "            return nums[left]\n",
    "\n",
    "        pivot_random = random.randint(left, right)\n",
    "        pivot_final = partition(left, right, pivot_random)\n",
    "\n",
    "        if k_smallest == pivot_final:\n",
    "            return nums[k_smallest]\n",
    "        elif k_smallest < pivot_final:\n",
    "            return quick_select(left, pivot_final - 1, k_smallest)\n",
    "        else:\n",
    "            return quick_select(pivot_final + 1, right, k_smallest)\n",
    "\n",
    "    # Kth largest is (k-1)th if sorted in descending order\n",
    "    return quick_select(0, len(nums) - 1, k - 1)"
   ]
  }
 ],
 "metadata": {
  "kernelspec": {
   "display_name": "Python 3",
   "language": "python",
   "name": "python3"
  },
  "language_info": {
   "name": "python",
   "version": "3.10.18"
  },
  "orig_nbformat": 4
 },
 "nbformat": 4,
 "nbformat_minor": 2
}
