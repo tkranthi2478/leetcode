{
 "cells": [
  {
   "cell_type": "code",
   "execution_count": null,
   "metadata": {},
   "outputs": [],
   "source": [
    "# https://leetcode.com/problems/maximum-profit-in-job-scheduling/description/ -- Binary Search DP\n",
    "\n",
    "import bisect, math\n",
    "\n",
    "def jobScheduling(startTime, endTime, profit):\n",
    "        jobs = [[ endTime[i], startTime[i], profit[i]] for i in range(len(startTime))]\n",
    "        jobs.sort()\n",
    "        profits = [0] * (len(jobs)+1)\n",
    "        for i in range(1, len(profits)):\n",
    "            _, start, profit = jobs[i-1]\n",
    "            comp_index = bisect.bisect_left(jobs, [start, math.inf, math.inf]) \n",
    "            profits[i] = max(profits[comp_index] + profit, profits[i-1])\n",
    "        return profits[-1] \n",
    "\n"
   ]
  },
  {
   "cell_type": "code",
   "execution_count": null,
   "metadata": {},
   "outputs": [],
   "source": []
  }
 ],
 "metadata": {
  "kernelspec": {
   "display_name": "Python 3",
   "language": "python",
   "name": "python3"
  },
  "language_info": {
   "codemirror_mode": {
    "name": "ipython",
    "version": 3
   },
   "file_extension": ".py",
   "mimetype": "text/x-python",
   "name": "python",
   "nbconvert_exporter": "python",
   "pygments_lexer": "ipython3",
   "version": "3.10.9"
  },
  "orig_nbformat": 4
 },
 "nbformat": 4,
 "nbformat_minor": 2
}
