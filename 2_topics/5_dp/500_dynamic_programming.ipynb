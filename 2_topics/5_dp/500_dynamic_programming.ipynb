{
 "cells": [
  {
   "cell_type": "markdown",
   "metadata": {},
   "source": [
    "### Easy \n",
    "| Problem             | Idea | \n",
    "| --------               | -------- | \n",
    "|   [BUY SELL STOCK](https://leetcode.com/problems/best-time-to-buy-and-sell-stock/)      | store cur_max_profit, min_price  |\n",
    "|   [Steps Problem - Distinct Ways](https://leetcode.com/problems/climbing-stairs/)       | T(n)=T(n-1)+T(n-2)         | \n",
    "|   [House Robber](https://leetcode.com/problems/house-robber/description/)               |          | \n",
    "|   [Decode Ways] (https://leetcode.com/problems/decode-ways/description/)\n",
    "|   [Counting Bits](https://leetcode.com/problems/counting-bits/description/)             | res += [j+1 for j in res]|\n",
    "|   [Kadane](https://leetcode.com/problems/maximum-subarray)                              | cur_sum = max(cur_sum, cur_sum + num)|\n",
    "\n",
    "\n",
    "\n",
    "### Medium\n",
    "| Problem             | Idea | \n",
    "| --------               | -------- | \n",
    "|   [Knapsack]     | |\n",
    "|   [Target Sum](https://leetcode.com/problems/target-sum/description/)      | Knapsack Variation         | \n",
    "|   [COIN CHANGE PROBLEM](https://leetcode.com/problems/coin-change/description/)    |          | \n",
    "|   [LONGEST COMMON SUBSEQUENCE/ LONGEST COMMON WORD] | |\n",
    "|   [ NUMBER OF BINARY TREES??]  |\n",
    "\n",
    "\n",
    "\n",
    "\n",
    "### Others\n",
    "\n",
    "* Longest Increasing Subsequence\n",
    "* Weighted Interval Scheduling Problem -- 1d, 2d\n",
    "* Highest Subarry Product\n",
    "\n",
    "### Specials \n",
    "https://leetcode.com/problems/valid-parenthesis-string/description/\n",
    "\n",
    "\n",
    "## String DPS\n",
    "* https://www.geeksforgeeks.org/longest-common-subsequence-dp-4/\n",
    "\n",
    "\n",
    "\n"
   ]
  },
  {
   "cell_type": "code",
   "execution_count": 1,
   "metadata": {},
   "outputs": [],
   "source": [
    "from typing import List\n",
    "\n",
    "\n",
    "def findTargetSumWays( nums: List[int], target: int) -> int:\n",
    "\n",
    "    #sum+target\n",
    "    target+=sum(nums)\n",
    "    if target < 0 or target %2:\n",
    "        return 0\n",
    "    target //=2\n",
    "\n",
    "    f = [1] + [0]*(target)\n",
    "\n",
    "    for x in nums:\n",
    "        for c in range(target,-1,-1):\n",
    "            if c>=x:\n",
    "                f[c] = f[c]+f[c-x]\n",
    "    return f[target]\n",
    "findTargetSumWays([1,6], 1)"
   ]
  },
  {
   "cell_type": "code",
   "execution_count": null,
   "metadata": {},
   "outputs": [],
   "source": [
    "# https://leetcode.com/problems/longest-palindromic-substring/description/\n",
    "# see the loops closely\n",
    "def longestPalindrome(s: str) -> str:\n",
    "    max_len = 0\n",
    "    max_pal = \"\"\n",
    "    for c in range(len(s)):\n",
    "        l, r = c, c\n",
    "        while l>=0 and r<len(s) and s[l]==s[r]:\n",
    "            if r-l+1 > max_len:\n",
    "                max_len, max_pal = r-l+1, s[l: r+1]\n",
    "            r+=1\n",
    "            l-=1\n",
    "        l, r = c, c+1\n",
    "        while l>=0 and r<len(s) and s[l]==s[r]:\n",
    "            if r-l+1 > max_len:\n",
    "                max_len, max_pal = r-l+1, s[l:r+1]\n",
    "            r+=1\n",
    "            l-=1     \n",
    "    return max_pal"
   ]
  },
  {
   "cell_type": "code",
   "execution_count": null,
   "metadata": {},
   "outputs": [],
   "source": [
    "# https://leetcode.com/problems/valid-parenthesis-string/\n",
    "class Solution:\n",
    "    def checkValidString(self, s: str) -> bool:\n",
    "        min_net = 0 # can never be negative\n",
    "        max_net = 0\n",
    "        for char in s:\n",
    "            if char == \"(\":\n",
    "                min_net += 1\n",
    "                max_net += 1\n",
    "            elif char == \")\":\n",
    "                min_net = max(min_net-1, 0)\n",
    "                max_net -= 1\n",
    "                if max_net < 0:\n",
    "                    return False\n",
    "            elif char == \"*\":\n",
    "                max_net += 1\n",
    "                min_net = max(min_net-1, 0)\n",
    "        return not min_net"
   ]
  }
 ],
 "metadata": {
  "kernelspec": {
   "display_name": "Python 3.10.9 64-bit",
   "language": "python",
   "name": "python3"
  },
  "language_info": {
   "codemirror_mode": {
    "name": "ipython",
    "version": 3
   },
   "file_extension": ".py",
   "mimetype": "text/x-python",
   "name": "python",
   "nbconvert_exporter": "python",
   "pygments_lexer": "ipython3",
   "version": "3.10.9"
  },
  "orig_nbformat": 4,
  "vscode": {
   "interpreter": {
    "hash": "bd385fe162c5ca0c84973b7dd5c518456272446b2b64e67c2a69f949ca7a1754"
   }
  }
 },
 "nbformat": 4,
 "nbformat_minor": 2
}
