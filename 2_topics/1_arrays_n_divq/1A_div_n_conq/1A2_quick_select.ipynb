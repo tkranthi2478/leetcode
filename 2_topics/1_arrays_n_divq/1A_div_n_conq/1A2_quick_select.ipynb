{
 "cells": [
  {
   "cell_type": "code",
   "execution_count": null,
   "metadata": {},
   "outputs": [],
   "source": [
    "import random\n",
    "def findKthLargest(nums, k) -> int:\n",
    "    def quick_select(nums, k):\n",
    "        pivot = random.choice(nums)\n",
    "        left, mid, right = [], [], []\n",
    "\n",
    "        for num in nums:\n",
    "            if num > pivot:\n",
    "                left.append(num)\n",
    "            elif num < pivot:\n",
    "                right.append(num)\n",
    "            else:\n",
    "                mid.append(num)\n",
    "        \n",
    "        if k <= len(left):\n",
    "            return quick_select(left, k)\n",
    "        \n",
    "        if k > len(left) + len(mid) :\n",
    "            return quick_select(right, k - len(left) - len(mid))\n",
    "        \n",
    "        return pivot\n",
    "    \n",
    "    return quick_select(nums, k)\n"
   ]
  }
 ],
 "metadata": {
  "kernelspec": {
   "display_name": "Python 2.7.18 64-bit ('2.7.18')",
   "language": "python",
   "name": "python3"
  },
  "language_info": {
   "name": "python",
   "version": "2.7.18"
  },
  "orig_nbformat": 4,
  "vscode": {
   "interpreter": {
    "hash": "d4fb2e5c5fbd1b7ac3c45498fbe8beed7c55352b2ef39a4963899e56de0c4ffa"
   }
  }
 },
 "nbformat": 4,
 "nbformat_minor": 2
}
