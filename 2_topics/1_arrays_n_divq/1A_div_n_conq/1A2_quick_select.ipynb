{
 "cells": [
  {
   "cell_type": "code",
   "execution_count": null,
   "metadata": {},
   "outputs": [],
   "source": [
    "import random\n",
    "def findKthLargest(nums, k) -> int:\n",
    "    def quick_select(nums, k):\n",
    "        pivot = random.choice(nums)\n",
    "        left, mid, right = [], [], []\n",
    "\n",
    "        for num in nums:\n",
    "            if num > pivot:\n",
    "                left.append(num)\n",
    "            elif num < pivot:\n",
    "                right.append(num)\n",
    "            else:\n",
    "                mid.append(num)\n",
    "        \n",
    "        if k <= len(left):\n",
    "            return quick_select(left, k)\n",
    "        \n",
    "        if k > len(left) + len(mid) :\n",
    "            return quick_select(right, k - len(left) - len(mid))\n",
    "        \n",
    "        return pivot\n",
    "    \n",
    "    return quick_select(nums, k)\n"
   ]
  }
 ],
 "metadata": {
  "language_info": {
   "name": "python"
  },
  "orig_nbformat": 4
 },
 "nbformat": 4,
 "nbformat_minor": 2
}
