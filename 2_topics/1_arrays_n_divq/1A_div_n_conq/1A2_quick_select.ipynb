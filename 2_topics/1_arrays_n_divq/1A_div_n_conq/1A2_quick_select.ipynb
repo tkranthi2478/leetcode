{
 "cells": [
  {
   "cell_type": "code",
   "execution_count": 1,
   "metadata": {},
   "outputs": [],
   "source": [
    "import random\n",
    "\n",
    "def findKthLargest(nums, k):\n",
    "    def quick_select(nums, k):\n",
    "        pivot = random.choice(nums)\n",
    "        left = [x for x in nums if x > pivot]\n",
    "        mid = [x for x in nums if x == pivot]\n",
    "        right = [x for x in nums if x < pivot]\n",
    "\n",
    "        if k <= len(left):\n",
    "            return quick_select(left, k)\n",
    "        elif k > len(left) + len(mid):\n",
    "            return quick_select(right, k - len(left) - len(mid))\n",
    "        else:\n",
    "            return pivot\n",
    "\n",
    "    return quick_select(nums, k)"
   ]
  }
 ],
 "metadata": {
  "kernelspec": {
   "display_name": "Python 3",
   "language": "python",
   "name": "python3"
  },
  "language_info": {
   "name": "python",
   "version": "3.10.9"
  },
  "orig_nbformat": 4
 },
 "nbformat": 4,
 "nbformat_minor": 2
}
