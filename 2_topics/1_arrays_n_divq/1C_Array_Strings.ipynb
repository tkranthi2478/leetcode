{
 "cells": [
  {
   "cell_type": "code",
   "execution_count": null,
   "metadata": {},
   "outputs": [],
   "source": [
    "# https://leetcode.com/problems/simplify-path/description/\n",
    "\n",
    "#Two passes\n",
    "def simplifyPath(path: str) -> str:\n",
    "    i = 0\n",
    "    stack = []\n",
    "    while i < len(path):\n",
    "        while i < len(path) and path[i] == '/':\n",
    "            i += 1\n",
    "            continue\n",
    "        start = i\n",
    "        while i < len(path) and path[i] != '/':\n",
    "            i += 1\n",
    "            continue \n",
    "        cur = path[start:i]\n",
    "        if cur:\n",
    "            if cur == '..':\n",
    "                if stack:\n",
    "                    stack.pop() \n",
    "                else:\n",
    "                    stack = []\n",
    "            elif cur != '.':\n",
    "                stack.append(cur)\n",
    "            else:\n",
    "                continue\n",
    "    return '/'+'/'.join(stack)\n",
    "\n",
    "\n",
    "#EThree Passes\n",
    "def simplifyPath(path: str) -> str:\n",
    "    stack = []\n",
    "    directories = path.split('/')\n",
    "    for dir in directories:\n",
    "        if dir == '.' or not dir:\n",
    "            continue\n",
    "        elif dir == '..':\n",
    "            if stack:\n",
    "                stack.pop()\n",
    "        else:\n",
    "            stack.append(dir)\n",
    "    return '/'+'/'.join(stack)\n",
    "        "
   ]
  },
  {
   "cell_type": "code",
   "execution_count": null,
   "metadata": {},
   "outputs": [],
   "source": [
    "# Palindrome check\n",
    "# We can use one check to substitute for 3\n",
    "# https://leetcode.com/problems/valid-palindrome/description/?envType=company&envId=facebook&favoriteSlug=facebook-three-months\n",
    "# we just need to check l<r -- no need to check of l<len(s) and r>=0\n",
    "\n",
    "def isPalindrome(self, s: str) -> bool:\n",
    "        l, r = 0, len(s)-1\n",
    "        while l < r:\n",
    "            while l < r and not s[l].isalnum():\n",
    "                l += 1\n",
    "            while l <r and not s[r].isalnum():\n",
    "                r -= 1\n",
    "            if s[l].lower() != s[r].lower():\n",
    "                return False\n",
    "            l +=1; r -= 1\n",
    "        return True"
   ]
  },
  {
   "cell_type": "code",
   "execution_count": null,
   "metadata": {},
   "outputs": [],
   "source": [
    "# https://leetcode.com/problems/valid-palindrome-ii/description/\n",
    "# Find if is a palindrome after deducting 1 char\n",
    "\n",
    "\n",
    "def validPalindrome(self, s: str) -> bool:\n",
    "        def isPalindrome(s, i, j):\n",
    "            while i<j: \n",
    "                if s[i] != s[j]:  \n",
    "                    return False \n",
    "                i+=1\n",
    "                j-=1 \n",
    "            return True\n",
    "        i, j = 0, len(s)-1\n",
    "        while i<j:\n",
    "            if s[i]!=s[j]: \n",
    "                return isPalindrome(s, i+1,j) or isPalindrome(s, i,j-1)\n",
    "            else:\n",
    "                i+=1\n",
    "                j-=1\n",
    "        return True"
   ]
  },
  {
   "cell_type": "code",
   "execution_count": null,
   "metadata": {},
   "outputs": [],
   "source": [
    "# https://leetcode.com/problems/valid-word-abbreviation/description/"
   ]
  }
 ],
 "metadata": {
  "kernelspec": {
   "display_name": "Python 2.7.18 64-bit ('2.7.18')",
   "language": "python",
   "name": "python3"
  },
  "language_info": {
   "codemirror_mode": {
    "name": "ipython",
    "version": 2
   },
   "file_extension": ".py",
   "mimetype": "text/x-python",
   "name": "python",
   "nbconvert_exporter": "python",
   "pygments_lexer": "ipython2",
   "version": "2.7.18"
  },
  "orig_nbformat": 4,
  "vscode": {
   "interpreter": {
    "hash": "d4fb2e5c5fbd1b7ac3c45498fbe8beed7c55352b2ef39a4963899e56de0c4ffa"
   }
  }
 },
 "nbformat": 4,
 "nbformat_minor": 2
}
