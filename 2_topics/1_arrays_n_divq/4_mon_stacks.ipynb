{
 "cells": [
  {
   "cell_type": "markdown",
   "metadata": {},
   "source": [
    "# Rules about Monotoinic Stacks\n",
    "1. Monotonic Stacks always include the current index -- thus enumerate\n",
    "2. Monotonic stacks have indices and not element\n",
    "3. Monotonic increasing/decreasing stack will have min/max so far at the first element\n",
    "\n",
    "Extra Thinking\n",
    "1. If you are unsure if a monotonic stack can work -- try monotonically inc/dec as input -- it will be clear\n"
   ]
  },
  {
   "cell_type": "code",
   "execution_count": null,
   "metadata": {},
   "outputs": [],
   "source": [
    "# https://leetcode.com/problems/daily-temperatures/description/\n",
    "\n",
    "\n",
    "def dailyTemperatures(temperatures):\n",
    "    results = [0] * len(temperatures)\n",
    "    decreasing_stack = []\n",
    "    for i, temp in enumerate(temperatures):\n",
    "        while decreasing_stack and temperatures[decreasing_stack[-1]] < temp:\n",
    "            index = decreasing_stack.pop(-1)\n",
    "            results[index] = i - index\n",
    "        decreasing_stack.append(i) \n",
    "    return results"
   ]
  },
  {
   "cell_type": "code",
   "execution_count": null,
   "metadata": {},
   "outputs": [],
   "source": [
    "# https://leetcode.com/problems/132-pattern/submissions/1207703452/\n",
    "import math\n",
    "\n",
    "def find132pattern(nums):\n",
    "    mon_dec_stack = [] #contains [num, min_before_num] \n",
    "    min_before_num = math.inf\n",
    "    for num in nums:\n",
    "        while mon_dec_stack and mon_dec_stack[-1][0]<=num:\n",
    "            mon_dec_stack.pop()\n",
    "        if mon_dec_stack and mon_dec_stack[-1][1]< num:\n",
    "            return True\n",
    "        mon_dec_stack.append([num, min_before_num])\n",
    "        min_before_num = min(min_before_num, num)\n",
    "    return False"
   ]
  },
  {
   "cell_type": "code",
   "execution_count": null,
   "metadata": {},
   "outputs": [],
   "source": [
    "# https://leetcode.com/problems/buildings-with-an-ocean-view/description/\n",
    "# Easy Monotonic Stack\n",
    "def findBuildings(heights):\n",
    "    index_stack = []\n",
    "    for ind, height in enumerate(heights):\n",
    "        while index_stack and heights[index_stack[-1]] <= height:\n",
    "            index_stack.pop()\n",
    "        index_stack.append(ind)\n",
    "    return index_stack\n"
   ]
  },
  {
   "cell_type": "code",
   "execution_count": null,
   "metadata": {},
   "outputs": [],
   "source": [
    "# https://leetcode.com/problems/daily-temperatures/description/\n",
    "\n",
    "def dailyTemperatures(temperatures):\n",
    "    results = [0] * len(temperatures)\n",
    "    decreasing_stack = []\n",
    "    for i, temp in enumerate(temperatures):\n",
    "        while decreasing_stack and temperatures[decreasing_stack[-1]] < temp:\n",
    "            index = decreasing_stack.pop(-1)\n",
    "            results[index] = i - index\n",
    "        decreasing_stack.append(i) \n",
    "    return results"
   ]
  },
  {
   "cell_type": "code",
   "execution_count": null,
   "metadata": {},
   "outputs": [],
   "source": [
    "# https://leetcode.com/problems/remove-k-digits/description/\n",
    "def removeKdigits(self, num: str, k: int) -> str:\n",
    "    mon_inc_stack = []\n",
    "    for digit in num:\n",
    "        while k and mon_inc_stack and mon_inc_stack[-1] > digit:\n",
    "            mon_inc_stack.pop()\n",
    "            k -= 1\n",
    "        mon_inc_stack.append(digit) \n",
    "    finalStack = mon_inc_stack[:-k] if k else mon_inc_stack \n",
    "    return \"\".join(finalStack).lstrip('0') or \"0\""
   ]
  },
  {
   "cell_type": "code",
   "execution_count": null,
   "metadata": {},
   "outputs": [],
   "source": [
    "# https://leetcode.com/problems/longest-continuous-subarray-with-absolute-diff-less-than-or-equal-to-limit/\n",
    "# mon_decreasing_stack has max of the window at its 0th element\n",
    "# mon_increasing_stack has min of the window at its 0th element\n",
    "# These can be updated as we slide the left pointer by simply poping\n",
    "\n",
    "from collections import deque\n",
    "\n",
    "def longestSubarray(nums, limit) -> int:\n",
    "        mon_dec_stack = deque()\n",
    "        mon_inc_stack = deque()\n",
    "        left = 0\n",
    "        for num in nums: \n",
    "            while  mon_dec_stack and mon_dec_stack[-1] < num:\n",
    "                mon_dec_stack.pop() \n",
    "            while mon_inc_stack  and mon_inc_stack[-1] > num:\n",
    "                mon_inc_stack.pop()\n",
    "            mon_dec_stack.append(num)\n",
    "            mon_inc_stack.append(num)\n",
    "            if mon_dec_stack[0] - mon_inc_stack[0] > limit:\n",
    "                if mon_dec_stack[0]==nums[left]:\n",
    "                    mon_dec_stack.popleft()\n",
    "                if mon_inc_stack[0]==nums[left]:\n",
    "                    mon_inc_stack.popleft()\n",
    "                left += 1\n",
    "        return len(nums)-left\n",
    "\n",
    "import heapq\n",
    "\n",
    "def longestSubarray2(nums, limit) -> int:\n",
    "        ans = 1\n",
    "        min_hq = [] \n",
    "        max_hq = [] \n",
    "        l = 0\n",
    "        for r in range(len(nums)):\n",
    "            heapq.heappush(min_hq, (nums[r],r))\n",
    "            heapq.heappush(max_hq, (-nums[r],r))\n",
    "\n",
    "            while min_hq[0][1] < l:\n",
    "                heapq.heappop(min_hq)\n",
    "            while max_hq[0][1] < l:\n",
    "                heapq.heappop(max_hq)\n",
    "\n",
    "            if -max_hq[0][0] - min_hq[0][0] <= limit:\n",
    "                ans = max(ans, r - l + 1)\n",
    "            else:\n",
    "                l += 1\n",
    "        return ans"
   ]
  },
  {
   "cell_type": "code",
   "execution_count": null,
   "metadata": {},
   "outputs": [],
   "source": [
    "# https://leetcode.com/problems/sum-of-subarray-minimums/editorial/\n",
    "\n",
    "# Monotonic Stack ulti Problem\n",
    "\n",
    "def sumSubarrayMins(arr):\n",
    "        mon_stack = []\n",
    "        total = 0\n",
    "        for r in range(len(arr)+1):\n",
    "            while mon_stack and (r==len(arr) or arr[r] < arr[mon_stack[-1]]): \n",
    "                pop_ind = mon_stack.pop()\n",
    "                l = mon_stack[-1] if mon_stack else -1\n",
    "                total +=  (r-pop_ind) * (pop_ind - l) * arr[pop_ind]\n",
    "            mon_stack.append(r)\n",
    "        return total%(10**9 + 7)"
   ]
  }
 ],
 "metadata": {
  "kernelspec": {
   "display_name": "Python 2.7.18 64-bit ('2.7.18')",
   "language": "python",
   "name": "python3"
  },
  "language_info": {
   "name": "python",
   "version": "2.7.18"
  },
  "orig_nbformat": 4,
  "vscode": {
   "interpreter": {
    "hash": "d4fb2e5c5fbd1b7ac3c45498fbe8beed7c55352b2ef39a4963899e56de0c4ffa"
   }
  }
 },
 "nbformat": 4,
 "nbformat_minor": 2
}
