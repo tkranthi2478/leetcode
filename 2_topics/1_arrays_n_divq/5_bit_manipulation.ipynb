{
 "cells": [
  {
   "cell_type": "code",
   "execution_count": 1,
   "metadata": {},
   "outputs": [
    {
     "name": "stdout",
     "output_type": "stream",
     "text": [
      "2\n"
     ]
    }
   ],
   "source": [
    "# https://leetcode.com/problems/single-number-ii/editorial/?envType=study-plan-v2&envId=top-interview-150\n",
    "\n",
    "print(7&2)\n"
   ]
  },
  {
   "cell_type": "code",
   "execution_count": null,
   "metadata": {},
   "outputs": [],
   "source": [
    "# https://leetcode.com/problems/bitwise-and-of-numbers-range/description/?envType=study-plan-v2&envId=top-interview-150\n",
    "\n",
    "def rangeBitwiseAnd(left, right):\n",
    "    while left < right:\n",
    "        # turn off rightmost 1-bit\n",
    "        right = right & (right - 1)\n",
    "    return left & right\n",
    "\n",
    "def rangeBitwiseAnd2(left: int, right: int) -> int:\n",
    "        shift = 0\n",
    "        while left < right:\n",
    "            left = left >> 1\n",
    "            right = right >> 1\n",
    "            shift += 1\n",
    "        return left << shift\n",
    "#Strike of rights till we find equality\n",
    "#  Example 111 and 110 --- >> we reach 11 by striking off 1 element"
   ]
  }
 ],
 "metadata": {
  "kernelspec": {
   "display_name": "Python 2.7.18 64-bit ('2.7.18')",
   "language": "python",
   "name": "python3"
  },
  "language_info": {
   "codemirror_mode": {
    "name": "ipython",
    "version": 2
   },
   "file_extension": ".py",
   "mimetype": "text/x-python",
   "name": "python",
   "nbconvert_exporter": "python",
   "pygments_lexer": "ipython2",
   "version": "2.7.18"
  },
  "orig_nbformat": 4,
  "vscode": {
   "interpreter": {
    "hash": "d4fb2e5c5fbd1b7ac3c45498fbe8beed7c55352b2ef39a4963899e56de0c4ffa"
   }
  }
 },
 "nbformat": 4,
 "nbformat_minor": 2
}
