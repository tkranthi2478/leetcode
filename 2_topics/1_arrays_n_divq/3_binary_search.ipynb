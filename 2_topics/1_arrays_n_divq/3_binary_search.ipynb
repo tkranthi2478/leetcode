{
 "cells": [
  {
   "cell_type": "markdown",
   "metadata": {},
   "source": [
    "\n",
    "```python\n",
    "    #Default Loop - 1\n",
    "    l, r = 0, len(nums)-1\n",
    "    while l <=r: # equality only if l can become m-1 or else infinite loop\n",
    "        m = (l + r) // 2\n",
    "    #Default Loop - 2\n",
    "    l, r = 0, len(nums)-1\n",
    "    while l <r: # equality only if l can become m-1 or else infinite loop\n",
    "        m = (l + r) // 2\n",
    "```"
   ]
  },
  {
   "cell_type": "code",
   "execution_count": 1,
   "metadata": {},
   "outputs": [],
   "source": [
    "# Binary Search, F\n",
    "def search( nums, target) -> int:\n",
    "        l = 0\n",
    "        r = len(nums) - 1\n",
    "        while l <= r:\n",
    "            m = (l + r) // 2\n",
    "            if nums[m] == target:\n",
    "                return m\n",
    "            if nums[m] < target:\n",
    "                l = m + 1\n",
    "            else:\n",
    "                r = m - 1\n",
    "        return -1\n",
    "\n",
    "#  https://leetcode.com/problems/find-peak-element/\n",
    "def findPeakElement(nums) -> int:\n",
    "    l, r = 0, len(nums)-1\n",
    "    while l<r:\n",
    "        mid = (l+r)//2\n",
    "        if nums[mid]>nums[mid+1]:\n",
    "            r = mid\n",
    "        else:\n",
    "            l = mid+1\n",
    "    return l\n",
    "        \n",
    "\n",
    "# Insert position\n",
    "def searchInsert( nums, target: int) -> int:\n",
    "    left, right = 0, len(nums) - 1\n",
    "    while left <= right:\n",
    "        m = (left + right) // 2\n",
    "        if nums[m] == target:\n",
    "            return m\n",
    "        if nums[m] <  target:\n",
    "            left = m + 1\n",
    "        else:\n",
    "            right = m - 1\n",
    "    return left\n",
    "\n",
    "\n",
    "#Fnding the closest elmenet\n",
    "def findClosestElements(arr, k, x):\n",
    "        l,r = 0,len(arr)-k\n",
    "        while l < r:\n",
    "            mid = (l+r)//2\n",
    "            #we are evaluating if window [mid, mid+k-1] is better than [mid+1, mid+k]\n",
    "            #by comparing l's distance with mid and mid+k\n",
    "            if x-arr[mid] > arr[mid+k]-x:\n",
    "                l = mid + 1\n",
    "            else:\n",
    "                r = mid  \n",
    "        return arr[l:l+k]\n",
    "\n",
    "def closetkElt( nums, target) -> int:\n",
    "        l,r  = 0, len(nums)-1\n",
    "        while l < r:\n",
    "            mid = (l+r)//2\n",
    "            #we are evaluating if window [mid] is better than [mid+1]\n",
    "            #by comparing l's distance with m\n",
    "            if target-nums[mid] > nums[mid+1]-target:\n",
    "                l = mid + 1\n",
    "            else:\n",
    "                r = mid  \n",
    "        return nums[l:l+1]"
   ]
  }
 ],
 "metadata": {
  "kernelspec": {
   "display_name": "Python 3.10.9 64-bit",
   "language": "python",
   "name": "python3"
  },
  "language_info": {
   "codemirror_mode": {
    "name": "ipython",
    "version": 3
   },
   "file_extension": ".py",
   "mimetype": "text/x-python",
   "name": "python",
   "nbconvert_exporter": "python",
   "pygments_lexer": "ipython3",
   "version": "3.10.9"
  },
  "orig_nbformat": 4,
  "vscode": {
   "interpreter": {
    "hash": "bd385fe162c5ca0c84973b7dd5c518456272446b2b64e67c2a69f949ca7a1754"
   }
  }
 },
 "nbformat": 4,
 "nbformat_minor": 2
}
