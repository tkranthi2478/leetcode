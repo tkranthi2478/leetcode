{
 "cells": [
  {
   "cell_type": "code",
   "execution_count": 11,
   "metadata": {},
   "outputs": [
    {
     "data": {
      "text/plain": [
       "2"
      ]
     },
     "execution_count": 11,
     "metadata": {},
     "output_type": "execute_result"
    }
   ],
   "source": [
    "# I  Array marking problems\n",
    "# https://leetcode.com/problems/find-all-duplicates-in-an-array/description/\n",
    "\n",
    "# Strategy: Mark index using negative sign in the array\n",
    "from typing import List\n",
    "\n",
    "#array marking problem --- all elements in range [1, N] and only duplicate\n",
    "def findDuplicates(nums: List[int]) -> List[int]:\n",
    "    res = []\n",
    "    for i in range(len(nums)):\n",
    "        link_ind = abs(nums[i])-1\n",
    "        if nums[link_ind]<0:\n",
    "            res.append(abs(nums[i]))\n",
    "        nums[link_ind] = -nums[link_ind]\n",
    "    return res\n",
    "\n",
    "# https://leetcode.com/problems/first-missing-positive/     ----   🤔\n",
    "\n",
    "#array marking problem --- Only the first missing number \n",
    "#   -- twist is to account for zero, negs\n",
    "\n",
    "\n",
    "# XOR can only find first duolicate\n",
    "# https://leetcode.com/problems/find-all-numbers-disappeared-in-an-array/description/\n",
    "\n",
    "def findDuplicateXOR(nums):\n",
    "    res = 0 \n",
    "    for num in nums:\n",
    "        res ^= num        \n",
    "    return res\n",
    "findDuplicateXOR([1,2,2,3])\n",
    "\n"
   ]
  }
 ],
 "metadata": {
  "kernelspec": {
   "display_name": "Python 3.10.9 64-bit",
   "language": "python",
   "name": "python3"
  },
  "language_info": {
   "codemirror_mode": {
    "name": "ipython",
    "version": 3
   },
   "file_extension": ".py",
   "mimetype": "text/x-python",
   "name": "python",
   "nbconvert_exporter": "python",
   "pygments_lexer": "ipython3",
   "version": "3.10.9"
  },
  "orig_nbformat": 4,
  "vscode": {
   "interpreter": {
    "hash": "bd385fe162c5ca0c84973b7dd5c518456272446b2b64e67c2a69f949ca7a1754"
   }
  }
 },
 "nbformat": 4,
 "nbformat_minor": 2
}
