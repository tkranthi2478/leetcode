{
 "cells": [
  {
   "cell_type": "code",
   "execution_count": null,
   "metadata": {},
   "outputs": [],
   "source": [
    "# https://leetcode.com/problems/maximum-swap/description/\n",
    "# Seems easy -- but slightly messy\n",
    "def maximumSwap(num: int) -> int:\n",
    "    last_inds = {}\n",
    "    num = list(str(num))\n",
    "    for i, e in enumerate(num):\n",
    "        last_inds[int(e)] = i \n",
    "    for i, e in enumerate(num):\n",
    "        for x in range(9, int(e), -1):\n",
    "            if x in last_inds and  last_inds[x] >i:\n",
    "                num[i], num[last_inds[x]] = num[last_inds[x]], num[i]\n",
    "                return int(''.join(num))\n",
    "    return int(''.join(num))"
   ]
  }
 ],
 "metadata": {
  "kernelspec": {
   "display_name": "Python 2.7.18 64-bit ('2.7.18')",
   "language": "python",
   "name": "python3"
  },
  "language_info": {
   "name": "python",
   "version": "2.7.18"
  },
  "orig_nbformat": 4,
  "vscode": {
   "interpreter": {
    "hash": "d4fb2e5c5fbd1b7ac3c45498fbe8beed7c55352b2ef39a4963899e56de0c4ffa"
   }
  }
 },
 "nbformat": 4,
 "nbformat_minor": 2
}
