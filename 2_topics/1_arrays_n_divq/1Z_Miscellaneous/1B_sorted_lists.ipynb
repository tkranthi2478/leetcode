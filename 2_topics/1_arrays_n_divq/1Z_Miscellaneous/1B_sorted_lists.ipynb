{
 "cells": [
  {
   "cell_type": "markdown",
   "metadata": {},
   "source": [
    "* They just make thinking easy\n",
    "* They are typically O(n^2) solutions"
   ]
  },
  {
   "cell_type": "code",
   "execution_count": null,
   "metadata": {},
   "outputs": [],
   "source": [
    "# https://leetcode.com/problems/minimum-absolute-difference-between-elements-with-constraint/description/\n",
    "\n",
    "# Sorted List\n",
    "import bisect, math\n",
    "\n",
    "def minAbsoluteDifference(nums, x):\n",
    "    sorted_queue = []\n",
    "    ans = math.inf\n",
    "    for i, num in enumerate(nums):\n",
    "        ind = bisect.bisect_left(sorted_queue, num)\n",
    "        sorted_queue.insert(ind, num) #o(n) time\n",
    "        j = i+x\n",
    "        if j<len(nums):\n",
    "            k = bisect.bisect_left(sorted_queue, nums[j])\n",
    "            if k > 0:\n",
    "                ans = min(ans, abs(nums[j]-sorted_queue[k-1]))\n",
    "            if k < len(sorted_queue):\n",
    "                ans = min(ans, abs(nums[j]-sorted_queue[k]))\n",
    "    return ans\n",
    "        "
   ]
  }
 ],
 "metadata": {
  "kernelspec": {
   "display_name": "Python 2.7.18 64-bit ('2.7.18')",
   "language": "python",
   "name": "python3"
  },
  "language_info": {
   "name": "python",
   "version": "2.7.18"
  },
  "orig_nbformat": 4,
  "vscode": {
   "interpreter": {
    "hash": "d4fb2e5c5fbd1b7ac3c45498fbe8beed7c55352b2ef39a4963899e56de0c4ffa"
   }
  }
 },
 "nbformat": 4,
 "nbformat_minor": 2
}
