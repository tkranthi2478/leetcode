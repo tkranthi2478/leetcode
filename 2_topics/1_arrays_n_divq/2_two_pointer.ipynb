{
 "cells": [
  {
   "cell_type": "code",
   "execution_count": 6,
   "metadata": {},
   "outputs": [],
   "source": [
    "#Sliding Windows \n",
    "# 1. Variable Size -- two subtypes\n",
    "  # 1A. Iterative shift l pointer -- Hopping logic will be tough\n",
    "  # 1B. Direct Hop\n",
    "# 2. Fixed Size        - 2 pointers indepdendent sliding "
   ]
  },
  {
   "cell_type": "code",
   "execution_count": 2,
   "metadata": {},
   "outputs": [],
   "source": [
    "# https://leetcode.com/problems/frequency-of-the-most-frequent-element/"
   ]
  },
  {
   "cell_type": "code",
   "execution_count": 24,
   "metadata": {},
   "outputs": [
    {
     "data": {
      "text/plain": [
       "6"
      ]
     },
     "execution_count": 24,
     "metadata": {},
     "output_type": "execute_result"
    }
   ],
   "source": [
    "# https://leetcode.com/problems/max-consecutive-ones-iii/\n",
    "# 1A\n",
    "def longestOnes( nums, k) -> int:\n",
    "    l = 0\n",
    "    cur_zeroes = 0\n",
    "    max_ones = 0\n",
    "    for r in range(len(nums)): \n",
    "        if not nums[r]:\n",
    "            cur_zeroes += 1\n",
    "        while cur_zeroes > k:\n",
    "            if not nums[l]:\n",
    "                cur_zeroes -= 1\n",
    "            l+=1\n",
    "        max_ones = max(r-l+1, max_ones)\n",
    "    return max_ones\n",
    "longestOnes([1,1,1,0,0,0,1,1,1,1,0], 2)"
   ]
  },
  {
   "cell_type": "code",
   "execution_count": null,
   "metadata": {},
   "outputs": [],
   "source": [
    "# Type 1A\n",
    "# https://leetcode.com/problems/longest-substring-without-repeating-characters/\n",
    "def lengthOfLongestSubstring(s: str) -> int:\n",
    "    l = 0\n",
    "    basket = set()\n",
    "    res = 0\n",
    "    for r in range(len(s)):\n",
    "        while s[r] in basket:\n",
    "            basket.discard(s[l])\n",
    "            l+=1\n",
    "        basket.add(s[r])\n",
    "        res = max(res, r-l+1)\n",
    "    return res"
   ]
  },
  {
   "cell_type": "code",
   "execution_count": null,
   "metadata": {},
   "outputs": [],
   "source": [
    "# Type 1A\n",
    "# https://leetcode.com/problems/minimum-size-subarray-sum/\n",
    "def minSubArrayLen( target: int, nums) -> int:\n",
    "    min_len = len(nums)+1\n",
    "    l = 0\n",
    "    cur_sum = 0\n",
    "    for r in range(len(nums)):\n",
    "        cur_sum += nums[r]\n",
    "        while target <= cur_sum:\n",
    "            min_len = min(r-l+1, min_len)\n",
    "            cur_sum -= nums[l]\n",
    "            l += 1\n",
    "    return min_len if min_len<=len(nums) else 0"
   ]
  },
  {
   "cell_type": "code",
   "execution_count": 7,
   "metadata": {},
   "outputs": [],
   "source": [
    "# Type 1B\n",
    "# https://leetcode.com/problems/fruit-into-baskets/\n",
    "\n",
    "def totalFruit(fruits):\n",
    "    l = 0\n",
    "    recent_inds = {}\n",
    "    res = 0\n",
    "    for r, f in enumerate(fruits):\n",
    "        recent_inds[f] = r\n",
    "        if len(recent_inds) == 3: \n",
    "            min_key = min(recent_inds, key=recent_inds.get)\n",
    "            l = recent_inds.pop(min_key) + 1\n",
    "        res = max(res, r-l+1) \n",
    "    return res\n"
   ]
  },
  {
   "cell_type": "code",
   "execution_count": 8,
   "metadata": {},
   "outputs": [],
   "source": [
    "# Type 1A\n",
    "#Conservative Sliding Window\n",
    "# https://leetcode.com/problems/longest-repeating-character-replacement/description/\n",
    "\n",
    "def characterReplacement(s: str, k: int) -> int:\n",
    "        # l = 0\n",
    "        # counts = {}\n",
    "        # res = 0\n",
    "        # for r in range(len(s)):\n",
    "        #     counts[s[r]] = 1 + counts.get(s[r], 0)\n",
    "        #     while k + max(counts.keys()) < r-l+1:\n",
    "        #         counts[s[l]]-=1\n",
    "        #         l+=1\n",
    "        #     res = max(res, r-l+1)\n",
    "        # return res\n",
    "        l = 0\n",
    "        counts = {}\n",
    "        res = 0\n",
    "        max_count = 0\n",
    "        for r in range(len(s)):\n",
    "            counts[s[r]] = 1 + counts.get(s[r], 0)\n",
    "            max_count = max(counts[s[r]], max_count)\n",
    "            while k + max_count < r-l+1:\n",
    "                counts[s[l]]-=1\n",
    "                l+=1\n",
    "            res = max(res, r-l+1)\n",
    "        return res\n",
    "# Rules \n",
    "# 1. Counts is always up to date\n",
    "# 2. Since l, r are monotonic --  O(n)\n",
    "# 3. We don't make a hop to the most appropriate l rather we build conservatively -- becauase that needs so many datastructers\n",
    "# 4. Commmented vs Uncommented Version\n",
    "#     Commented uses counts to determine max_f -- extra cost\n",
    "#     Uncommented has a trick --- we don't update maxf when decreasing becuaes\n",
    "#         though this is possible it going to update res unles max_count sees a dcrease\n",
    "\n"
   ]
  },
  {
   "cell_type": "code",
   "execution_count": null,
   "metadata": {},
   "outputs": [],
   "source": [
    "# 1 A\n",
    "# https://leetcode.com/problems/longest-subarray-of-1s-after-deleting-one-element/\n",
    "from typing import List\n",
    "def longestSubarray(nums: List[int]) -> int:\n",
    "    l = 0\n",
    "    max_len = 0\n",
    "    zero_index = -1\n",
    "    for r in range(len(nums)):\n",
    "        if not nums[r]:\n",
    "            if zero_index !=-1:\n",
    "                l = zero_index + 1\n",
    "            zero_index = r      \n",
    "        max_len = max(max_len, r-l+1)\n",
    "    return max_len-1"
   ]
  },
  {
   "cell_type": "code",
   "execution_count": 9,
   "metadata": {},
   "outputs": [
    {
     "data": {
      "text/plain": [
       "True"
      ]
     },
     "execution_count": 9,
     "metadata": {},
     "output_type": "execute_result"
    }
   ],
   "source": [
    "# Type 2\n",
    "from collections import Counter\n",
    "# https://leetcode.com/problems/permutation-in-string/submissions/1117442950/\n",
    "# Notes : Fixed Size Window\n",
    "\n",
    "def checkInclusion(s1: str, s2: str) -> bool:\n",
    "    s1_counter = Counter(s1)\n",
    "    s2_counter = Counter(s2[:len(s1)])\n",
    "\n",
    "    for i in range(len(s2) - len(s1) + 1):\n",
    "        if s2_counter == s1_counter:\n",
    "            return True\n",
    "\n",
    "        if i + len(s1) < len(s2):\n",
    "            s2_counter[s2[i]] -= 1\n",
    "            if s2_counter[s2[i]] == 0:\n",
    "                del s2_counter[s2[i]]\n",
    "            s2_counter[s2[i + len(s1)]] += 1\n",
    "\n",
    "    return False\n",
    "checkInclusion(\"ab\", \"eidbaooo\")\n",
    "# checkInclusion(\"adc\", \"dcda\")"
   ]
  },
  {
   "cell_type": "code",
   "execution_count": null,
   "metadata": {},
   "outputs": [],
   "source": [
    "# Type 2\n",
    "# https://leetcode.com/problems/maximum-number-of-vowels-in-a-substring-of-given-length/\n",
    "def maxVowels(self, s: str, k: int) -> int:\n",
    "        l, r = 0, k\n",
    "        vowels = {'a', 'e', 'i', 'o', 'u'}\n",
    "        count, max_count = 0, 0\n",
    "        for r in range(len(s)):\n",
    "            #you bring in s[r] and remove s[r-k]\n",
    "            if s[r] in vowels:\n",
    "                count+=1\n",
    "            if r>=k:\n",
    "                if s[r-k] in vowels:\n",
    "                    count-=1\n",
    "            max_count = max(count, max_count )\n",
    "        return max_count"
   ]
  },
  {
   "cell_type": "code",
   "execution_count": null,
   "metadata": {},
   "outputs": [],
   "source": [
    "# Type2: https://leetcode.com/problems/container-with-most-water/description/\n",
    "\n",
    "#Sliding will explore a subset of solutions each possibly better than other\n",
    "\n",
    "def maxArea(height: List[int]) -> int:\n",
    "    l, r = 0, len(height)-1\n",
    "    max_area = 0\n",
    "    while l<r:\n",
    "        cur_area = min(height[l], height[r]) * (r-l)\n",
    "        max_area = max(max_area, cur_area)\n",
    "        if height[l]<= height[r]:\n",
    "            #l must definitely be advanced to progress to a better solution\n",
    "            l+=1\n",
    "        else:\n",
    "            r-=1\n",
    "    return max_area"
   ]
  }
 ],
 "metadata": {
  "kernelspec": {
   "display_name": "Python 3",
   "language": "python",
   "name": "python3"
  },
  "language_info": {
   "codemirror_mode": {
    "name": "ipython",
    "version": 2
   },
   "file_extension": ".py",
   "mimetype": "text/x-python",
   "name": "python",
   "nbconvert_exporter": "python",
   "pygments_lexer": "ipython2",
   "version": "2.7.18"
  },
  "orig_nbformat": 4
 },
 "nbformat": 4,
 "nbformat_minor": 2
}
