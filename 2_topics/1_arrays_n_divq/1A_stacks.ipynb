{
 "cells": [
  {
   "cell_type": "code",
   "execution_count": null,
   "metadata": {},
   "outputs": [],
   "source": [
    "#Simple Stack Problem\n",
    "# https://leetcode.com/problems/remove-all-adjacent-duplicates-in-string-ii/description/\n",
    "def removeDuplicates(s: str, k: int) -> str:\n",
    "    stack = []\n",
    "    for char in s:\n",
    "        if stack and stack[-1][0] ==char:\n",
    "            stack[-1][1] += 1\n",
    "            if stack[-1][1] == k:\n",
    "                stack.pop()\n",
    "        else:\n",
    "            stack.append([char, 1])\n",
    "    return \"\".join([x[0]*x[1] for x in stack])\n"
   ]
  }
 ],
 "metadata": {
  "kernelspec": {
   "display_name": "Python 2.7.18 64-bit ('2.7.18')",
   "language": "python",
   "name": "python3"
  },
  "language_info": {
   "name": "python",
   "version": "2.7.18"
  },
  "orig_nbformat": 4,
  "vscode": {
   "interpreter": {
    "hash": "d4fb2e5c5fbd1b7ac3c45498fbe8beed7c55352b2ef39a4963899e56de0c4ffa"
   }
  }
 },
 "nbformat": 4,
 "nbformat_minor": 2
}
