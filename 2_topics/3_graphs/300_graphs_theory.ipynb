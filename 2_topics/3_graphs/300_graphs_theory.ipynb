{
 "cells": [
  {
   "cell_type": "code",
   "execution_count": 2,
   "metadata": {},
   "outputs": [
    {
     "name": "stdout",
     "output_type": "stream",
     "text": [
      "New Component\n",
      "New Component\n"
     ]
    }
   ],
   "source": [
    "graph = {\n",
    "  '5' : ['3','7'],\n",
    "  '3' : ['2', '4'],\n",
    "  '7' : ['8'],\n",
    "  '2' : [],\n",
    "  '4' : ['8'],\n",
    "  '8' : [],\n",
    "  '9' : ['10'],\n",
    "  '10': ['9']\n",
    "}\n",
    "\n",
    "graph = {\n",
    "  'a': ['b', 'd', 'e'],\n",
    "  'b': ['a', 'c', 'd', 'e', 'f'],\n",
    "  'c': ['b', 'e', 'f'],\n",
    "  'd': ['a', 'b', 'e', 'g', 'h'],\n",
    "  'e': ['a', 'b', 'c', 'd', 'f', 'g', 'h', 'i'],\n",
    "  'f': [ 'b', 'c', 'e', 'h', 'i'],\n",
    "  'g': [ 'd', 'e', 'h'],\n",
    "  'h': [ 'd', 'e', 'f', 'g', 'i'],\n",
    "  'i': [ 'h', 'e', 'f'],\n",
    "\n",
    "}\n",
    "\n",
    "\n",
    "#DFS Each Node\n",
    "visited = set() # Set to keep track of visited nodes of graph.\n",
    "\n",
    "\n",
    "dfs inside dfs\n",
    "\n",
    "import collections\n",
    "def num_paths():\n",
    "  num_paths =0\n",
    "  def dfs_node(visited, pattern):   \n",
    "    node = pattern[-1]\n",
    "    num_pos = 0\n",
    "    nonlocal num_paths\n",
    "    for c in graph[node]:\n",
    "      if not visited[(c, node)]:\n",
    "        new_visited = visited.copy()\n",
    "        new_visited[(node,c)] = True\n",
    "        new_visited[(c,node)] = True\n",
    "        new_pattern = pattern+ [c]\n",
    "        dfs_node(new_visited, new_pattern)\n",
    "      num_pos+=1\n",
    "    if not num_pos:\n",
    "      num_paths += 1\n",
    "  \n",
    "  for node in graph:\n",
    "    visited = collections.defaultdict(lambda: False) \n",
    "    dfs_node(visited, [node])\n",
    "\n",
    "  \n",
    "\n",
    "\n"
   ]
  },
  {
   "cell_type": "markdown",
   "metadata": {},
   "source": [
    "Complexity of DFS/BFS\n",
    "* O(n+m) for Adjacency List\n",
    "* O(n^2) for Adjacency Matrix\n"
   ]
  },
  {
   "cell_type": "markdown",
   "metadata": {},
   "source": [
    "### Applications of DFS\n",
    "\n",
    "* Cycle Detection:\n",
    "  * Undirected -- repeat of visited node\n",
    "  * Directed graph -- See Can Topological Sort"
   ]
  },
  {
   "cell_type": "code",
   "execution_count": null,
   "metadata": {},
   "outputs": [],
   "source": [
    "graph = {\n",
    "  '5' : ['3','7'],\n",
    "  '3' : ['2', '4'],\n",
    "  '7' : ['8'],\n",
    "  '2' : [],\n",
    "  '4' : ['8'],\n",
    "  '8' : [],\n",
    "  '9' : ['10'],\n",
    "  '10': ['9']\n",
    "}\n",
    "\n",
    "\n",
    "\n",
    "visited = [] # List for visited nodes.\n",
    "queue = []     #Initialize a queue\n",
    "\n",
    "def bfs_node(visited, node): #function for BFS\n",
    "  visited.append(node)\n",
    "  queue.append(node)\n",
    "  while queue:          # Creating loop to visit each node\n",
    "    m = queue.pop(0) \n",
    "    for neighbour in graph[m]:\n",
    "      if neighbour not in visited:\n",
    "        visited.append(neighbour)\n",
    "        queue.append(neighbour)\n",
    "\n",
    "#DFS Entire Graph\n",
    "for node in graph:\n",
    "  if node not in visited:\n",
    "    print('New Component')\n",
    "    bfs_node(visited, node)\n"
   ]
  },
  {
   "cell_type": "markdown",
   "metadata": {},
   "source": [
    "### BFS Applications\n",
    "* Shortest Distance from the source to desination or parent to all nodes"
   ]
  },
  {
   "cell_type": "markdown",
   "metadata": {},
   "source": []
  },
  {
   "cell_type": "markdown",
   "metadata": {},
   "source": [
    "### DAGs\n",
    "* directed Graphs with no backedge\n",
    "* They can be topolocially sorted"
   ]
  },
  {
   "cell_type": "code",
   "execution_count": null,
   "metadata": {},
   "outputs": [],
   "source": [
    "# Topological Sort\n",
    "from collections import deque\n",
    "\n",
    "def can_be_top_sorted(graph):\n",
    "    num_nodes = len(graph)\n",
    "    indegree = [0] * num_nodes\n",
    "    queue = deque()\n",
    "    for i in range(num_nodes):\n",
    "        if indegree[i] == 0:\n",
    "            queue.append(i)\n",
    "\n",
    "    nodesVisited = 0\n",
    "    while queue:\n",
    "        node = queue.popleft()\n",
    "        nodesVisited += 1\n",
    "\n",
    "        for neighbor in graph[node]:\n",
    "            indegree[neighbor] -= 1\n",
    "            if indegree[neighbor] == 0:\n",
    "                queue.append(neighbor)\n",
    "\n",
    "    return nodesVisited == num_nodes\n",
    "\n",
    "\n",
    "def dfs(self, node, adj, visit, recursion_stack_of_nodes):\n",
    "        # If the node is already in the stack, we have a cycle.\n",
    "        if recursion_stack_of_nodes[node]:\n",
    "            return True\n",
    "        if visit[node]:\n",
    "            return False\n",
    "        # Mark the current node as visited and part of current recursion stack.\n",
    "        visit[node] = True\n",
    "        recursion_stack_of_nodes[node] = True\n",
    "        for neighbor in adj[node]:\n",
    "            if self.dfs(neighbor, adj, visit, recursion_stack_of_nodes):\n",
    "                return True\n",
    "        # Remove the node from the stack.\n",
    "        recursion_stack_of_nodes[node] = False\n",
    "        return False\n",
    "\n",
    "def can_be_top_sorted(self, num_nodes, adj):\n",
    "    visit = [False] * num_nodes\n",
    "    inStack = [False] * num_nodes\n",
    "    for i in range(num_nodes):\n",
    "        if self.dfs(i, adj, visit, inStack):\n",
    "            return False\n",
    "    return True\n",
    "\n",
    "\n",
    "def findOrder( numCourses, prerequisites):\n",
    "    def dfs(node, visited):\n",
    "        if visited[node]==-1:# this course had not been added into the res, but visited again; there is a cycle!\n",
    "            return False\n",
    "        if visited[node]==1:# this course had been successfully added into the res\n",
    "            return True\n",
    "        visited[node]=-1 # set the current course as currently being visited\n",
    "        for n in adj[node]:\n",
    "            if not dfs(n,visited):\n",
    "                return False # if there is a cycle detected at any point, terminate!\n",
    "        res.append(node) # no cycle found, dfs finished, good to add the course into the res\n",
    "        visited[node]=1  # this course finished\n",
    "        return True\n",
    "    \n",
    "    adj=[[] for i in range(numCourses)]\n",
    "    res=[]\n",
    "    for u,v in prerequisites:\n",
    "        adj[v].append(u)\n",
    "    visited=[0]*numCourses\n",
    "    for i in range(numCourses):\n",
    "        if not dfs(i,visited):\n",
    "            # if False, there must be a cycle; terminate by returning an empty list\n",
    "            return []\n",
    "    return res[::-1]"
   ]
  },
  {
   "cell_type": "markdown",
   "metadata": {},
   "source": [
    "### Trees"
   ]
  }
 ],
 "metadata": {
  "kernelspec": {
   "display_name": "Python 3.10.9 64-bit",
   "language": "python",
   "name": "python3"
  },
  "language_info": {
   "codemirror_mode": {
    "name": "ipython",
    "version": 3
   },
   "file_extension": ".py",
   "mimetype": "text/x-python",
   "name": "python",
   "nbconvert_exporter": "python",
   "pygments_lexer": "ipython3",
   "version": "3.10.9"
  },
  "orig_nbformat": 4,
  "vscode": {
   "interpreter": {
    "hash": "bd385fe162c5ca0c84973b7dd5c518456272446b2b64e67c2a69f949ca7a1754"
   }
  }
 },
 "nbformat": 4,
 "nbformat_minor": 2
}
