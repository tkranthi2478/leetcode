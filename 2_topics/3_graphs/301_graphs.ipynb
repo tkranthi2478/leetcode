{
 "cells": [
  {
   "cell_type": "code",
   "execution_count": null,
   "metadata": {},
   "outputs": [],
   "source": [
    "# https://leetcode.com/problems/distribute-coins-in-binary-tree/description/\n",
    "\n",
    "# extreme version of DFS\n",
    "\n",
    "\n"
   ]
  },
  {
   "cell_type": "code",
   "execution_count": null,
   "metadata": {},
   "outputs": [],
   "source": [
    "# https://leetcode.com/problems/minimum-fuel-cost-to-report-to-the-capital/"
   ]
  },
  {
   "cell_type": "code",
   "execution_count": null,
   "metadata": {},
   "outputs": [],
   "source": [
    "# https://leetcode.com/problems/clone-graph/\n",
    "# Clone Graph\n",
    "class Solution:\n",
    "    def cloneGraph(self, node):\n",
    "        return self.dfs(node, {None: None})\n",
    "\n",
    "    def dfs(self, node, graph):\n",
    "        if node not in graph:\n",
    "            graph[node] = Node(node.val)\n",
    "            for i in node.neighbors:\n",
    "                graph[node].neighbors.append(self.dfs(i, graph))\n",
    "        return graph[node]\n"
   ]
  },
  {
   "cell_type": "code",
   "execution_count": null,
   "metadata": {},
   "outputs": [],
   "source": [
    "# Number of Components\n",
    "# https://leetcode.com/problems/number-of-connected-components-in-an-undirected-graph/\n",
    "class Solution:\n",
    "\n",
    "    def countComponents(self, n: int, edges: List[List[int]]) -> int:\n",
    "        #construct graph\n",
    "        graph = collections.defaultdict(list)\n",
    "        for x, y in edges:\n",
    "            graph[x].append(y)\n",
    "            graph[y].append(x)\n",
    "        seen = set()\n",
    "        def dfs(node):\n",
    "            seen.add(node)\n",
    "            for neighbor in graph[node]:\n",
    "                if neighbor not in seen:\n",
    "                    dfs(neighbor)\n",
    "        count = 0\n",
    "        for node in range(n):\n",
    "            #see how node visit check must be done twice\n",
    "            if node not in seen:\n",
    "                dfs(node)\n",
    "                count += 1\n",
    "        return count\n",
    "\n",
    "        \n",
    "        "
   ]
  }
 ],
 "metadata": {
  "kernelspec": {
   "display_name": "Python 3.10.9 64-bit",
   "language": "python",
   "name": "python3"
  },
  "language_info": {
   "name": "python",
   "version": "3.10.9"
  },
  "orig_nbformat": 4,
  "vscode": {
   "interpreter": {
    "hash": "bd385fe162c5ca0c84973b7dd5c518456272446b2b64e67c2a69f949ca7a1754"
   }
  }
 },
 "nbformat": 4,
 "nbformat_minor": 2
}
