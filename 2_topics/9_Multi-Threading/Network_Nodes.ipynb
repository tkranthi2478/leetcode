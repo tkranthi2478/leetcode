{
 "cells": [
  {
   "cell_type": "code",
   "execution_count": null,
   "metadata": {},
   "outputs": [],
   "source": [
    "# 💬 “Each node in a linear network must run the same program and discover the total number of nodes using asynchronous message passing. How would you implement it?”\n",
    "\n",
    "import time\n",
    "\n",
    "class Message:\n",
    "    def __init__(self, count):\n",
    "        self.count = count\n",
    "\n",
    "class NodeCount:\n",
    "    def __init__(self):\n",
    "        self.count = -1\n",
    "\n",
    "    def is_left_most(self):\n",
    "        return False\n",
    "\n",
    "    def is_right_most(self):\n",
    "        return False\n",
    "\n",
    "    def send_left(self, message):\n",
    "        pass\n",
    "\n",
    "    def send_right(self, message):\n",
    "        pass\n",
    "\n",
    "    def get_count(self):\n",
    "        if self.is_left_most():\n",
    "            self.send_right(Message(1))\n",
    "        while self.count == -1:\n",
    "            time.sleep(0.1)\n",
    "        return self.count\n",
    "\n",
    "    def receive_from_left(self, message):\n",
    "        if self.is_right_most():\n",
    "            message.count += 1\n",
    "            self.send_left(message)\n",
    "        else:\n",
    "            self.send_right(Message(message.count + 1))\n",
    "\n",
    "    def receive_from_right(self, message):\n",
    "        if self.is_left_most():\n",
    "            self.count = message.count\n",
    "        else:\n",
    "            self.send_left(message)"
   ]
  }
 ],
 "metadata": {
  "language_info": {
   "name": "python"
  }
 },
 "nbformat": 4,
 "nbformat_minor": 2
}
