{
 "cells": [
  {
   "cell_type": "code",
   "execution_count": 4,
   "metadata": {},
   "outputs": [],
   "source": [
    "# BRACKET VALIDATION\n",
    "#  1. At all points ( should overpower )\n",
    "#  2. At the end net brackets = 0\n",
    "# Bracket Correction\n",
    "#  1. At all points ( should overpower )\n"
   ]
  },
  {
   "cell_type": "code",
   "execution_count": 1,
   "metadata": {},
   "outputs": [],
   "source": [
    "# https://leetcode.com/problems/valid-parentheses/\n",
    "class Solution:\n",
    "    def isValid(self, s: str) -> bool:\n",
    "        stack = []\n",
    "        complements = {')':'(',']':'[', '}':'{' }\n",
    "        for char in s:\n",
    "            if char in ['(','{','[']:\n",
    "                stack.append(char)\n",
    "            elif char in [')','}',']'] and stack and stack[-1] == complements[char]:\n",
    "                stack.pop()\n",
    "            else:\n",
    "                return False\n",
    "        return not stack"
   ]
  },
  {
   "cell_type": "code",
   "execution_count": null,
   "metadata": {},
   "outputs": [],
   "source": [
    "# case sensitive?\n",
    "# Only prefix exact match ?\n",
    "\n",
    "\n",
    "# Trie\n",
    "\n",
    "\n",
    "\n",
    "\n",
    "\n",
    "\n",
    "\n",
    "\n",
    "\n",
    "\n",
    "\n",
    "\n",
    "\n",
    "\n",
    "\n",
    "\n",
    "\n",
    "\n",
    "\n",
    "\n",
    "\n",
    "\n",
    "\n",
    "\n",
    "\n",
    "\n"
   ]
  },
  {
   "cell_type": "code",
   "execution_count": 2,
   "metadata": {},
   "outputs": [],
   "source": [
    "# https://leetcode.com/problems/minimum-remove-to-make-valid-parentheses/\n",
    "    \n",
    "def minRemoveToMakeValid(s):\n",
    "    index_stack = []\n",
    "    del_indices = set()\n",
    "    for i, char in enumerate(s):\n",
    "        if char ==\"(\":\n",
    "            index_stack.append(i)\n",
    "        elif char == \")\":\n",
    "            if index_stack:\n",
    "                index_stack.pop()\n",
    "            else:\n",
    "                del_indices.add(i)\n",
    "    #we have to remove del_indices, index_stack remanants\n",
    "    del_indices = del_indices.union(set(index_stack))\n",
    "    res = []\n",
    "    for i, char in enumerate(s):\n",
    "        if i not in del_indices:\n",
    "            print(i, char)\n",
    "            res.append(char)\n",
    "    return \"\".join(res)"
   ]
  },
  {
   "cell_type": "code",
   "execution_count": null,
   "metadata": {},
   "outputs": [],
   "source": [
    "# https://leetcode.com/problems/valid-parenthesis-string/description/\n",
    "def checkValidString(s: str) -> bool:\n",
    "    lo = hi = 0\n",
    "    for c in s:\n",
    "        lo += 1 if c == '(' else -1  # lo::  ⬆️ - '('        ⬇️ -  when '*' , ')'\n",
    "        hi += 1 if c != ')' else -1  # hi::  ⬆️ - '(', '*'   ⬇️ -  when ')'\n",
    "        if hi < 0: \n",
    "            return False\n",
    "        lo = max(lo, 0)\n",
    "        # Why should we reset -ve lo?\n",
    "        # 1. lo won't impact high\n",
    "        # 2. lo wont impact validity at any point except the last point\n",
    "        # consider this case *)(*\n",
    "    return lo == 0"
   ]
  },
  {
   "cell_type": "code",
   "execution_count": null,
   "metadata": {},
   "outputs": [],
   "source": [
    "# https://leetcode.com/problems/minimum-add-to-make-parentheses-valid/submissions/1343927937/"
   ]
  }
 ],
 "metadata": {
  "kernelspec": {
   "display_name": "Python 3",
   "language": "python",
   "name": "python3"
  },
  "language_info": {
   "codemirror_mode": {
    "name": "ipython",
    "version": 2
   },
   "file_extension": ".py",
   "mimetype": "text/x-python",
   "name": "python",
   "nbconvert_exporter": "python",
   "pygments_lexer": "ipython2",
   "version": "2.7.18"
  },
  "orig_nbformat": 4
 },
 "nbformat": 4,
 "nbformat_minor": 2
}
