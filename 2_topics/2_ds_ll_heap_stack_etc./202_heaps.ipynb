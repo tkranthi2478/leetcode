{
 "cells": [
  {
   "cell_type": "code",
   "execution_count": null,
   "metadata": {},
   "outputs": [],
   "source": [
    "# https://leetcode.com/problems/furthest-building-you-can-reach/\n",
    "\n",
    "import heapq \n",
    "\n",
    "#if we don't update bricks live -- we will not complete the problem\n",
    "\n",
    "\n",
    "def furthestBuilding( heights, bricks, ladders) -> int:\n",
    "    min_heap = []\n",
    "    for i in range(1, len(heights)):\n",
    "        diff = heights[i]-heights[i-1]\n",
    "        if diff<=0:\n",
    "            continue\n",
    "        heapq.heappush(min_heap, diff)\n",
    "        if len(min_heap)>ladders:\n",
    "            bricks -= heapq.heappop(min_heap)\n",
    "        if bricks < 0:\n",
    "            return i-1\n",
    "    return len(heights)-1"
   ]
  }
 ],
 "metadata": {
  "language_info": {
   "name": "python"
  },
  "orig_nbformat": 4
 },
 "nbformat": 4,
 "nbformat_minor": 2
}
