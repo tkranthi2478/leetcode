{
 "cells": [
  {
   "cell_type": "markdown",
   "metadata": {},
   "source": [
    "# Reversing a Linked List\n",
    "1. Iterative Approach: Make the cur to the first postion\n",
    "2. Recursive Approach: Very Tough to replicate"
   ]
  },
  {
   "cell_type": "code",
   "execution_count": null,
   "metadata": {},
   "outputs": [],
   "source": [
    "# https://leetcode.com/problems/reverse-linked-list/\n",
    "from typing import Optional\n",
    "\n",
    "class ListNode:\n",
    "    def __init__(self, val=0, next=None):\n",
    "        self.val = val\n",
    "        self.next = next\n",
    "\n",
    "\n",
    "\n",
    "def reverseList(self, head: Optional[ListNode]) -> Optional[ListNode]:\n",
    "        cur = head\n",
    "        left = None \n",
    "        #     ---None left_Start ...... left_end start end ....\n",
    "        while cur:\n",
    "            #save right\n",
    "            right = cur.next\n",
    "            #update cur\n",
    "            cur.next = left\n",
    "            #attach cur to left\n",
    "            left = cur\n",
    "            #update cur to refer to right\n",
    "            cur = right\n",
    "        return left\n",
    "\n",
    "        \n",
    "             "
   ]
  },
  {
   "cell_type": "code",
   "execution_count": 1,
   "metadata": {},
   "outputs": [],
   "source": [
    "def initListNodeFromArray(self, nums):\n",
    "    head = ListNode(None)\n",
    "    prev, p = head, head\n",
    "    for num in nums:\n",
    "        pre = p\n",
    "        p.val = num\n",
    "        q = ListNode(None)\n",
    "        p.next = q\n",
    "        p = p.next\n",
    "    pre.next = None\n",
    "    return head"
   ]
  },
  {
   "cell_type": "code",
   "execution_count": 2,
   "metadata": {},
   "outputs": [],
   "source": [
    "def printListNode(self, head):\n",
    "    print(\"printListnode\")\n",
    "    while head:\n",
    "        print(\"%d\" % (head.val))\n",
    "        head = head.next"
   ]
  },
  {
   "cell_type": "code",
   "execution_count": null,
   "metadata": {},
   "outputs": [],
   "source": []
  }
 ],
 "metadata": {
  "kernelspec": {
   "display_name": "Python 2.7.18 64-bit ('2.7.18')",
   "language": "python",
   "name": "python3"
  },
  "language_info": {
   "codemirror_mode": {
    "name": "ipython",
    "version": 2
   },
   "file_extension": ".py",
   "mimetype": "text/x-python",
   "name": "python",
   "nbconvert_exporter": "python",
   "pygments_lexer": "ipython2",
   "version": "2.7.18"
  },
  "orig_nbformat": 4,
  "vscode": {
   "interpreter": {
    "hash": "d4fb2e5c5fbd1b7ac3c45498fbe8beed7c55352b2ef39a4963899e56de0c4ffa"
   }
  }
 },
 "nbformat": 4,
 "nbformat_minor": 2
}
