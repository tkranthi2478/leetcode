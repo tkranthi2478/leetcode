{
 "cells": [
  {
   "cell_type": "markdown",
   "metadata": {},
   "source": [
    "### Patterns in Linked List\n",
    "1. Floyds Fast, Slow Algorithm --- May take O(n) to converge at starting point but to converge anywhere O(1)\n",
    "2. Reversing a Linked List -- Don't use RECURSION. It can only be used for out order printing\n",
    "3. Dummy Head"
   ]
  },
  {
   "cell_type": "code",
   "execution_count": 1,
   "metadata": {},
   "outputs": [],
   "source": [
    "class ListNode:\n",
    "    def __init__(self, val=0, next=None):\n",
    "        self.val = val\n",
    "        self.next = next"
   ]
  },
  {
   "cell_type": "code",
   "execution_count": null,
   "metadata": {},
   "outputs": [],
   "source": [
    "# https://leetcode.com/problems/linked-list-cycle/description/\n",
    "def hasCycle(self, head):\n",
    "    fast, slow = head, head\n",
    "    while fast and fast.next:\n",
    "        fast = fast.next.next\n",
    "        slow = slow.next\n",
    "        if fast == slow:\n",
    "            return True\n",
    "    return False\n",
    "\n",
    "# Extreme Version of Fast Slow pointers \n",
    "# https://leetcode.com/problems/find-the-duplicate-number/\n",
    "\n",
    "#             2 --- 3\n",
    "#            /       \\\n",
    "#      O -- C         4\n",
    "#            \\       /\n",
    "#             A --- 3\n",
    "# A is the point of convergence of fast, slow pointers\n",
    "# C is the cycle point\n",
    "# O is the start of chain\n",
    "# Logically dist(O->C) = dist(A->C)\n",
    "# Proof: Let dist(O->C) = p, dist(A->C) = q and len_cycle = r\n",
    "#         dist travelled by fast = 2 * distance travelled by slow\n",
    "#         ⟾ p + r + r - q = 2 (p + r - q)\n",
    "#         ⟾             p = q\n",
    "\n",
    "\n",
    "def findDuplicate(self, nums) -> int:\n",
    "        fast, slow = 0, 0\n",
    "        while True:\n",
    "            fast = nums[nums[fast]]\n",
    "            slow = nums[slow]\n",
    "            if fast == slow:\n",
    "                break\n",
    "        slow2 = 0\n",
    "        while slow!=slow2:\n",
    "            slow, slow2 = nums[slow], nums[slow2]\n",
    "        return slow"
   ]
  },
  {
   "cell_type": "code",
   "execution_count": 2,
   "metadata": {},
   "outputs": [],
   "source": [
    "# https://leetcode.com/problems/remove-duplicates-from-sorted-list-ii\n",
    "def deleteDuplicates(head):\n",
    "        prev = dummy_head = ListNode(val=None, next=head) \n",
    "        cur = prev.next\n",
    "        while cur and cur.next:\n",
    "            if cur.next.val == prev.next.val:\n",
    "                while cur and cur.val == prev.next.val:\n",
    "                    cur = cur.next\n",
    "                prev.next = cur \n",
    "            else:\n",
    "                cur, prev = cur.next, prev.next\n",
    "        return dummy_head.next"
   ]
  },
  {
   "cell_type": "code",
   "execution_count": null,
   "metadata": {},
   "outputs": [],
   "source": [
    "# https://leetcode.com/problems/remove-nth-node-from-end-of-list/description/?envType=study-plan-v2&envId=top-interview-150\n",
    "def removeNthFromEnd(head, n):\n",
    "    dummy_head = ListNode(next=head)\n",
    "    l = r = dummy_head\n",
    "    for _ in range(n+1): \n",
    "        r = r.next  \n",
    "    while r:\n",
    "        l, r = l.next, r.next\n",
    "    l.next = l.next.next\n",
    "    return dummy_head.next\n",
    "        "
   ]
  },
  {
   "cell_type": "code",
   "execution_count": null,
   "metadata": {},
   "outputs": [],
   "source": [
    "# https://leetcode.com/problems/reverse-linked-list/\n",
    "from typing import Optional\n",
    "\n",
    "class ListNode:\n",
    "    def __init__(self, val=0, next=None):\n",
    "        self.val = val\n",
    "        self.next = next\n",
    "\n",
    "\n",
    "\n",
    "def reverseList(self, head: Optional[ListNode]) -> Optional[ListNode]:\n",
    "        cur = head\n",
    "        left = None \n",
    "        #     ---None left_Start ...... left_end start end ....\n",
    "        while cur:\n",
    "            #save right\n",
    "            right = cur.next\n",
    "            #update cur's link\n",
    "            cur.next = left\n",
    "            #update left to cover cur\n",
    "            left = cur\n",
    "            #update cur to refer to right\n",
    "            cur = right\n",
    "        return left\n",
    "\n",
    "        \n",
    "             "
   ]
  },
  {
   "cell_type": "code",
   "execution_count": 1,
   "metadata": {},
   "outputs": [],
   "source": [
    "def initListNodeFromArray(self, nums):\n",
    "    head = ListNode(None)\n",
    "    prev, p = head, head\n",
    "    for num in nums:\n",
    "        pre = p\n",
    "        p.val = num\n",
    "        q = ListNode(None)\n",
    "        p.next = q\n",
    "        p = p.next\n",
    "    pre.next = None\n",
    "    return head"
   ]
  },
  {
   "cell_type": "code",
   "execution_count": 2,
   "metadata": {},
   "outputs": [],
   "source": [
    "def printListNode(self, head):\n",
    "    print(\"printListnode\")\n",
    "    while head:\n",
    "        print(\"%d\" % (head.val))\n",
    "        head = head.next"
   ]
  },
  {
   "cell_type": "code",
   "execution_count": null,
   "metadata": {},
   "outputs": [],
   "source": [
    "# https://leetcode.com/problems/odd-even-linked-list/\n",
    "# Practice set"
   ]
  }
 ],
 "metadata": {
  "kernelspec": {
   "display_name": "Python 2.7.18 64-bit ('2.7.18')",
   "language": "python",
   "name": "python3"
  },
  "language_info": {
   "codemirror_mode": {
    "name": "ipython",
    "version": 2
   },
   "file_extension": ".py",
   "mimetype": "text/x-python",
   "name": "python",
   "nbconvert_exporter": "python",
   "pygments_lexer": "ipython2",
   "version": "2.7.18"
  },
  "orig_nbformat": 4,
  "vscode": {
   "interpreter": {
    "hash": "d4fb2e5c5fbd1b7ac3c45498fbe8beed7c55352b2ef39a4963899e56de0c4ffa"
   }
  }
 },
 "nbformat": 4,
 "nbformat_minor": 2
}
