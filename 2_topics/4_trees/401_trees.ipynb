{
 "cells": [
  {
   "cell_type": "markdown",
   "metadata": {},
   "source": [
    "### Tree Patterns\n",
    "1. Pre Order \n",
    "    * Encode Decode Tree\n",
    "    * Validate BST\n",
    "2. Post Order(Bottom UP)\n",
    "    * insert in to BST\n",
    "    * Diameter of a Tree\n",
    "    * Least Common Ancestor\n",
    "    * \n",
    "3. In Order \n",
    "    \n",
    "4. Level Order \n",
    "   * Number Theory/Snakes Ladders"
   ]
  },
  {
   "cell_type": "code",
   "execution_count": null,
   "metadata": {},
   "outputs": [],
   "source": [
    "def rserialize(root): \n",
    "    if not root:\n",
    "        return None\n",
    "    else:\n",
    "        left = rserialize(root.left)\n",
    "        right = rserialize(root.left)\n",
    "        if left and right:\n",
    "            append = 3\n",
    "        elif left:\n",
    "            append = 1\n",
    "        elif right:\n",
    "            append = 2\n",
    "        else:\n",
    "            append = 0\n",
    "        return root.val + '_' + append + ',' + left + ',' + right \n",
    "\n",
    "class Node(object):\n",
    "    def __init__(self, x):\n",
    "        self.val = x\n",
    "        self.left = None\n",
    "        self.right = None\n",
    "\n",
    "one = Node(1)\n",
    "two = Node(2)\n",
    "twenty_three = Node(23, one, two)\n",
    "twenty_three = Node(23, one, two)\n",
    "five = Node(5)\n",
    "three = Node(3, None, \n",
    "\n"
   ]
  },
  {
   "cell_type": "code",
   "execution_count": 4,
   "metadata": {},
   "outputs": [],
   "source": [
    "\n",
    "# https://leetcode.com/problems/insert-into-a-binary-search-tree/description/\n",
    "# Storing parent as we go deep vs. Updating each chain as we go deep(only 1 update is true update)\n",
    "\n",
    "class TreeNode:\n",
    "    def __init__(self, val=0, left=None, right=None):\n",
    "        self.val = val\n",
    "        self.left = left\n",
    "        self.right = right\n",
    "\n",
    "\n",
    "def insertIntoBST(root, val):\n",
    "    if not root:\n",
    "        return TreeNode(val)\n",
    "        #updating each node\n",
    "    if val >= root.val:\n",
    "        root.right = insertIntoBST(root.right, val)\n",
    "    else:\n",
    "        root.left = insertIntoBST(root.left, val)\n",
    "    return root\n",
    "\n",
    "# https://leetcode.com/problems/diameter-of-binary-tree\n",
    "def diameterOfBinaryTree(root):\n",
    "    if not root:\n",
    "        return 0\n",
    "    diameter = 0\n",
    "    def depth(root):\n",
    "        if not root:\n",
    "            return 0\n",
    "        l, r = depth(root.left), depth(root.right)\n",
    "        nonlocal diameter\n",
    "        diameter = max(l+r, diameter)\n",
    "        return max(l, r) + 1\n",
    "    depth(root)\n",
    "    return diameter"
   ]
  },
  {
   "cell_type": "code",
   "execution_count": null,
   "metadata": {},
   "outputs": [],
   "source": [
    "# https://leetcode.com/problems/delete-node-in-a-bst/"
   ]
  },
  {
   "cell_type": "code",
   "execution_count": null,
   "metadata": {},
   "outputs": [],
   "source": [
    "# Construct Binary Tree from Preorder and Inorder Traversal\n",
    "# https://leetcode.com/problems/construct-binary-tree-from-preorder-and-inorder-traversal/description/?envType=study-plan-v2&envId=top-interview-150\n",
    "\n",
    "def buildTree(preorder, inorder):\n",
    "    if not preorder:\n",
    "        return None \n",
    "    mid = inorder.index(preorder[0]) \n",
    "    # mid used for splitting inorder -- skipping mid\n",
    "    # mid+1 used for splitting preoder -- skipping first_elt not mid\n",
    "    # why so??\n",
    "    # preorder(node)  = [node, ...preorder(node.left), ...preorder(node.right)]\n",
    "    # inorder(node)   = [...inorder(node.left), node, ...inorder(node.right)]\n",
    "    # postorder(node) = [...postorder(node.left), ...postorder(node.right), node]\n",
    "    left = buildTree(preorder[1:mid+1], inorder[:mid])\n",
    "    right = buildTree(preorder[mid+1:], inorder[mid+1:])\n",
    "    return TreeNode(preorder[0], left, right)\n",
    "\n",
    "def buildTree(self, inorder, postorder):\n",
    "    if not postorder:\n",
    "        return None \n",
    "    mid = inorder.index(postorder[-1])  \n",
    "    left = buildTree(inorder[:mid], postorder[0:mid])\n",
    "    right = buildTree(inorder[mid+1:], postorder[mid:-1])\n",
    "    return TreeNode(postorder[-1], left, right)"
   ]
  },
  {
   "cell_type": "code",
   "execution_count": null,
   "metadata": {},
   "outputs": [],
   "source": [
    "#pending\n",
    "# https://leetcode.com/problems/flatten-binary-tree-to-linked-list/editorial/?envType=study-plan-v2&envId=top-interview-150"
   ]
  },
  {
   "cell_type": "code",
   "execution_count": null,
   "metadata": {},
   "outputs": [],
   "source": [
    "# https://leetcode.com/problems/sum-root-to-leaf-numbers/description/\n",
    "# Tree Easy\n",
    "def sumNumbers(self, root: Optional[TreeNode]) -> int:\n",
    "        self.ans = 0\n",
    "        def rec_sum(node, cur):\n",
    "            if not node:\n",
    "                return\n",
    "            elif node.right or node.left:\n",
    "                rec_sum(node.left, cur*10+node.val)\n",
    "                rec_sum(node.right, cur*10+node.val)\n",
    "            else:\n",
    "                self.ans += cur*10+node.val\n",
    "        rec_sum(root, 0)\n",
    "        return self.ans"
   ]
  },
  {
   "cell_type": "code",
   "execution_count": null,
   "metadata": {},
   "outputs": [],
   "source": [
    "# https://leetcode.com/problems/lowest-common-ancestor-of-a-binary-tree/?envType=study-plan-v2&envId=top-interview-150\n",
    "class TreeNode:\n",
    "    def __init__(self, x):\n",
    "        self.val = x\n",
    "        self.left = None\n",
    "        self.right = None\n",
    "\n",
    "\n",
    "def lowestCommonAncestor(root, p, q):\n",
    "    if not root:\n",
    "        return None\n",
    "    if root == p or root == q:\n",
    "        return root\n",
    "    left = lowestCommonAncestor(root.left, p, q)\n",
    "    right = lowestCommonAncestor(root.right, p, q)\n",
    "    if left and right:\n",
    "        return root\n",
    "    else:\n",
    "        return left or right\n"
   ]
  },
  {
   "cell_type": "code",
   "execution_count": null,
   "metadata": {},
   "outputs": [],
   "source": [
    "# https://leetcode.com/problems/validate-binary-search-tree/description/\n",
    "class Solution:\n",
    "    def isValidBST(self, root: Optional[TreeNode]) -> bool:\n",
    "        def rec_valid(node, left, right):\n",
    "            if not node:\n",
    "                return True\n",
    "            if not left < node.val < right:\n",
    "                return False\n",
    "            return self.isValidBST(node.left, left, node.val) and rec_valid(node.right, node.val, right)\n",
    "        return self.rec_valid(root, -math.inf, math.inf)"
   ]
  },
  {
   "cell_type": "code",
   "execution_count": null,
   "metadata": {},
   "outputs": [],
   "source": [
    "# BFS friendly\n",
    "# https://leetcode.com/problems/maximum-level-sum-of-a-binary-tree/editorial/\n",
    "import collections\n",
    "\n",
    "def maxLevelSum(root) -> int:\n",
    "        max_sum, ans, level = float('-inf'), 0, 0\n",
    "\n",
    "        q = collections.deque()\n",
    "        q.append(root)\n",
    "\n",
    "        while q:\n",
    "            level += 1\n",
    "            sum_at_current_level = 0\n",
    "            # Iterate over all the nodes in the current level.\n",
    "            for _ in range(len(q)):\n",
    "                node = q.popleft()\n",
    "                sum_at_current_level += node.val\n",
    "\n",
    "                if node.left:\n",
    "                    q.append(node.left)\n",
    "                if node.right:\n",
    "                    q.append(node.right)\n",
    "\n",
    "            if max_sum < sum_at_current_level:\n",
    "                max_sum, ans = sum_at_current_level, level\n",
    "           \n",
    "        return ans"
   ]
  }
 ],
 "metadata": {
  "kernelspec": {
   "display_name": "Python 2.7.18 64-bit ('2.7.18')",
   "language": "python",
   "name": "python3"
  },
  "language_info": {
   "codemirror_mode": {
    "name": "ipython",
    "version": 2
   },
   "file_extension": ".py",
   "mimetype": "text/x-python",
   "name": "python",
   "nbconvert_exporter": "python",
   "pygments_lexer": "ipython2",
   "version": "2.7.18"
  },
  "orig_nbformat": 4,
  "vscode": {
   "interpreter": {
    "hash": "d4fb2e5c5fbd1b7ac3c45498fbe8beed7c55352b2ef39a4963899e56de0c4ffa"
   }
  }
 },
 "nbformat": 4,
 "nbformat_minor": 2
}
