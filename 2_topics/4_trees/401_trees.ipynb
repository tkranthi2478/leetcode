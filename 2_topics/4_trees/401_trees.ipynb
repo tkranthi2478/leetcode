{
 "cells": [
  {
   "cell_type": "code",
   "execution_count": 4,
   "metadata": {},
   "outputs": [],
   "source": [
    "from typing import Optional\n",
    "# https://leetcode.com/problems/insert-into-a-binary-search-tree/description/\n",
    "# Storing parent as we go deep vs. Updating each chain as we go deep(only 1 update is true update)\n",
    "\n",
    "class TreeNode:\n",
    "    def __init__(self, val=0, left=None, right=None):\n",
    "        self.val = val\n",
    "        self.left = left\n",
    "        self.right = right\n",
    "\n",
    "def insertIntoBST(root, val) :\n",
    "    def rec_insert(node, val, parent):\n",
    "        if not node:\n",
    "            if not parent:\n",
    "                return TreeNode(val)\n",
    "            else:\n",
    "                if val < parent.val:\n",
    "                    parent.left = TreeNode(val)\n",
    "                else:\n",
    "                    parent.right = TreeNode(val)\n",
    "                return root\n",
    "            return\n",
    "        if val < node.val:\n",
    "            return rec_insert(node.left, val, node)\n",
    "        else:\n",
    "            return rec_insert(node.right, val, node)\n",
    "    return rec_insert(root, val, None)\n",
    "\n",
    "\n",
    "def insertIntoBST(root, val):\n",
    "    if not root:\n",
    "        return TreeNode(val)\n",
    "        #updating each node\n",
    "    if val >= root.val:\n",
    "        root.right = insertIntoBST(root.right, val)\n",
    "    else:\n",
    "        root.left = insertIntoBST(root.left, val)\n",
    "    return root"
   ]
  },
  {
   "cell_type": "code",
   "execution_count": null,
   "metadata": {},
   "outputs": [],
   "source": [
    "# BFS friendly\n",
    "# https://leetcode.com/problems/maximum-level-sum-of-a-binary-tree/editorial/\n",
    "import collections\n",
    "\n",
    "def maxLevelSum(root) -> int:\n",
    "        max_sum, ans, level = float('-inf'), 0, 0\n",
    "\n",
    "        q = collections.deque()\n",
    "        q.append(root)\n",
    "\n",
    "        while q:\n",
    "            level += 1\n",
    "            sum_at_current_level = 0\n",
    "            # Iterate over all the nodes in the current level.\n",
    "            for _ in range(len(q)):\n",
    "                node = q.popleft()\n",
    "                sum_at_current_level += node.val\n",
    "\n",
    "                if node.left:\n",
    "                    q.append(node.left)\n",
    "                if node.right:\n",
    "                    q.append(node.right)\n",
    "\n",
    "            if max_sum < sum_at_current_level:\n",
    "                max_sum, ans = sum_at_current_level, level\n",
    "           \n",
    "        return ans"
   ]
  }
 ],
 "metadata": {
  "kernelspec": {
   "display_name": "Python 2.7.18 64-bit ('2.7.18')",
   "language": "python",
   "name": "python3"
  },
  "language_info": {
   "codemirror_mode": {
    "name": "ipython",
    "version": 2
   },
   "file_extension": ".py",
   "mimetype": "text/x-python",
   "name": "python",
   "nbconvert_exporter": "python",
   "pygments_lexer": "ipython2",
   "version": "2.7.18"
  },
  "orig_nbformat": 4,
  "vscode": {
   "interpreter": {
    "hash": "d4fb2e5c5fbd1b7ac3c45498fbe8beed7c55352b2ef39a4963899e56de0c4ffa"
   }
  }
 },
 "nbformat": 4,
 "nbformat_minor": 2
}
