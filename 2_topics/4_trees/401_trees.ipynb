{
 "cells": [
  {
   "cell_type": "code",
   "execution_count": 4,
   "metadata": {},
   "outputs": [],
   "source": [
    "from typing import Optional\n",
    "import math\n",
    "# https://leetcode.com/problems/insert-into-a-binary-search-tree/description/\n",
    "# Storing parent as we go deep vs. Updating each chain as we go deep(only 1 update is true update)\n",
    "\n",
    "class TreeNode:\n",
    "    def __init__(self, val=0, left=None, right=None):\n",
    "        self.val = val\n",
    "        self.left = left\n",
    "        self.right = right\n",
    "\n",
    "def insertIntoBST(root, val) :\n",
    "    def rec_insert(node, val, parent):\n",
    "        if not node:\n",
    "            if not parent:\n",
    "                return TreeNode(val)\n",
    "            else:\n",
    "                if val < parent.val:\n",
    "                    parent.left = TreeNode(val)\n",
    "                else:\n",
    "                    parent.right = TreeNode(val)\n",
    "                return root\n",
    "            return\n",
    "        if val < node.val:\n",
    "            return rec_insert(node.left, val, node)\n",
    "        else:\n",
    "            return rec_insert(node.right, val, node)\n",
    "    return rec_insert(root, val, None)\n",
    "\n",
    "\n",
    "def insertIntoBST(root, val):\n",
    "    if not root:\n",
    "        return TreeNode(val)\n",
    "        #updating each node\n",
    "    if val >= root.val:\n",
    "        root.right = insertIntoBST(root.right, val)\n",
    "    else:\n",
    "        root.left = insertIntoBST(root.left, val)\n",
    "    return root"
   ]
  },
  {
   "cell_type": "code",
   "execution_count": null,
   "metadata": {},
   "outputs": [],
   "source": [
    "# https://leetcode.com/problems/delete-node-in-a-bst/"
   ]
  },
  {
   "cell_type": "code",
   "execution_count": null,
   "metadata": {},
   "outputs": [],
   "source": [
    "# Construct Binary Tree from Preorder and Inorder Traversal\n",
    "# https://leetcode.com/problems/construct-binary-tree-from-preorder-and-inorder-traversal/description/?envType=study-plan-v2&envId=top-interview-150\n",
    "\n",
    "def buildTree(preorder, inorder):\n",
    "    if not preorder:\n",
    "        return None \n",
    "    mid = inorder.index(preorder[0]) \n",
    "    # mid used for splitting inorder -- skipping mid\n",
    "    # mid+1 used for splitting preoder -- skipping first_elt not mid\n",
    "    # why so??\n",
    "    # preorder(node)  = [node, ...preorder(node.left), ...preorder(node.right)]\n",
    "    # inorder(node)   = [...inorder(node.left), node, ...inorder(node.right)]\n",
    "    # postorder(node) = [...postorder(node.left), ...postorder(node.right), node]\n",
    "    left = buildTree(preorder[1:mid+1], inorder[:mid])\n",
    "    right = buildTree(preorder[mid+1:], inorder[mid+1:])\n",
    "    return TreeNode(preorder[0], left, right)\n",
    "\n",
    "def buildTree(self, inorder, postorder):\n",
    "    if not postorder:\n",
    "        return None \n",
    "    mid = inorder.index(postorder[-1])  \n",
    "    left = buildTree(inorder[:mid], postorder[0:mid])\n",
    "    right = buildTree(inorder[mid+1:], postorder[mid:-1])\n",
    "    return TreeNode(postorder[-1], left, right)"
   ]
  },
  {
   "cell_type": "code",
   "execution_count": null,
   "metadata": {},
   "outputs": [],
   "source": [
    "#pending\n",
    "# https://leetcode.com/problems/flatten-binary-tree-to-linked-list/editorial/?envType=study-plan-v2&envId=top-interview-150"
   ]
  },
  {
   "cell_type": "code",
   "execution_count": null,
   "metadata": {},
   "outputs": [],
   "source": [
    "# https://leetcode.com/problems/sum-root-to-leaf-numbers/description/\n",
    "# Tree Easy\n",
    "def sumNumbers(self, root: Optional[TreeNode]) -> int:\n",
    "        self.ans = 0\n",
    "        def rec_sum(node, cur):\n",
    "            if not node:\n",
    "                return\n",
    "            elif node.right or node.left:\n",
    "                rec_sum(node.left, cur*10+node.val)\n",
    "                rec_sum(node.right, cur*10+node.val)\n",
    "            else:\n",
    "                self.ans += cur*10+node.val\n",
    "        rec_sum(root, 0)\n",
    "        return self.ans"
   ]
  },
  {
   "cell_type": "code",
   "execution_count": null,
   "metadata": {},
   "outputs": [],
   "source": [
    "# https://leetcode.com/problems/lowest-common-ancestor-of-a-binary-tree/?envType=study-plan-v2&envId=top-interview-150\n",
    "class TreeNode:\n",
    "    def __init__(self, x):\n",
    "        self.val = x\n",
    "        self.left = None\n",
    "        self.right = None\n",
    "\n",
    "class Solution:\n",
    "    def lowestCommonAncestor(self, root: 'TreeNode', p: 'TreeNode', q: 'TreeNode') -> 'TreeNode':\n",
    "        if not root:\n",
    "            return None\n",
    "        if root == p or root == q:\n",
    "            #returns non null if either of node is contained\n",
    "            return root\n",
    "        left = self.lowestCommonAncestor(root.left, p, q)\n",
    "        right = self.lowestCommonAncestor(root.right, p, q)\n",
    "        if left and right:\n",
    "            #returns node if both the nodes are contained\n",
    "            return root\n",
    "        else:\n",
    "            #returns non null if either of node is contained\n",
    "            return left or right\n"
   ]
  },
  {
   "cell_type": "code",
   "execution_count": null,
   "metadata": {},
   "outputs": [],
   "source": [
    "# https://leetcode.com/problems/validate-binary-search-tree/description/\n",
    "class Solution:\n",
    "    def isValidBST(self, root: Optional[TreeNode]) -> bool:\n",
    "        def rec_valid(node, left, right):\n",
    "            if not node:\n",
    "                return True\n",
    "            if not left < node.val < right:\n",
    "                return False\n",
    "            return self..isValidBST(node.left, left, node.val) and rec_valid(node.right, node.val, right)\n",
    "        return self.rec_valid(root, -math.inf, math.inf)"
   ]
  },
  {
   "cell_type": "code",
   "execution_count": null,
   "metadata": {},
   "outputs": [],
   "source": [
    "# BFS friendly\n",
    "# https://leetcode.com/problems/maximum-level-sum-of-a-binary-tree/editorial/\n",
    "import collections\n",
    "\n",
    "def maxLevelSum(root) -> int:\n",
    "        max_sum, ans, level = float('-inf'), 0, 0\n",
    "\n",
    "        q = collections.deque()\n",
    "        q.append(root)\n",
    "\n",
    "        while q:\n",
    "            level += 1\n",
    "            sum_at_current_level = 0\n",
    "            # Iterate over all the nodes in the current level.\n",
    "            for _ in range(len(q)):\n",
    "                node = q.popleft()\n",
    "                sum_at_current_level += node.val\n",
    "\n",
    "                if node.left:\n",
    "                    q.append(node.left)\n",
    "                if node.right:\n",
    "                    q.append(node.right)\n",
    "\n",
    "            if max_sum < sum_at_current_level:\n",
    "                max_sum, ans = sum_at_current_level, level\n",
    "           \n",
    "        return ans"
   ]
  }
 ],
 "metadata": {
  "kernelspec": {
   "display_name": "Python 2.7.18 64-bit ('2.7.18')",
   "language": "python",
   "name": "python3"
  },
  "language_info": {
   "codemirror_mode": {
    "name": "ipython",
    "version": 2
   },
   "file_extension": ".py",
   "mimetype": "text/x-python",
   "name": "python",
   "nbconvert_exporter": "python",
   "pygments_lexer": "ipython2",
   "version": "2.7.18"
  },
  "orig_nbformat": 4,
  "vscode": {
   "interpreter": {
    "hash": "d4fb2e5c5fbd1b7ac3c45498fbe8beed7c55352b2ef39a4963899e56de0c4ffa"
   }
  }
 },
 "nbformat": 4,
 "nbformat_minor": 2
}
