{
 "cells": [
  {
   "cell_type": "markdown",
   "metadata": {},
   "source": [
    "# Rules about Monotoinic Stacks\n",
    "1. Monotonic Stacks always include the current index -- thus enumerate\n",
    "2. Monotonic stacks have indices and not element(90% time)    -- sometimes elts are enough\n",
    "3. Monotonic increasing/decreasing stack will have min/max so far at the first element\n",
    "4. Should we use < or <=  -- depends -- \n",
    "   * Find Buildings               -- we need to pop equals            --> <=\n",
    "   * Daily Temps, next greater    -- we need to wait for bigger temp  --> <\n",
    "\n",
    "Extra Thinking\n",
    "1. If you are unsure if a monotonic stack can work -- try monotonically inc/dec as input -- it will be clear\n"
   ]
  },
  {
   "cell_type": "code",
   "execution_count": null,
   "metadata": {},
   "outputs": [
    {
     "name": "stdout",
     "output_type": "stream",
     "text": [
      "[1, 1, 4, 2, 1, 1, 0, 0]\n"
     ]
    }
   ],
   "source": [
    "# https://leetcode.com/problems/daily-temperatures/description/\n",
    "\n",
    "from collections import deque\n",
    "def dailyTemperatures(temperatures):\n",
    "    res = [0] * len(temperatures)\n",
    "    decreasing_stack = deque()\n",
    "    for i, t in enumerate(temperatures):\n",
    "        while decreasing_stack and temperatures[decreasing_stack[-1]] < t:\n",
    "            idx = decreasing_stack.pop()\n",
    "            res[idx] = i - idx\n",
    "        decreasing_stack.append(i)\n",
    "    return res\n",
    "\n",
    "print(dailyTemperatures([73, 74, 75, 71, 69, 72, 76, 73])) # expected [1, 1, 4, 2, 1, 1, 0, 0]"
   ]
  },
  {
   "cell_type": "code",
   "execution_count": null,
   "metadata": {},
   "outputs": [],
   "source": [
    "# https://leetcode.com/problems/buildings-with-an-ocean-view/description/\n",
    "# Easy Monotonic Stack\n",
    "def findBuildings(heights):\n",
    "    index_stack = []\n",
    "    for ind, height in enumerate(heights):\n",
    "        while index_stack and heights[index_stack[-1]] <= height:\n",
    "            index_stack.pop()\n",
    "        index_stack.append(ind)\n",
    "    return index_stack\n"
   ]
  },
  {
   "cell_type": "code",
   "execution_count": 3,
   "metadata": {},
   "outputs": [],
   "source": [
    "# https://leetcode.com/problems/next-greater-element-i/editorial/\n",
    "# Elements based Mon Stack not indices\n",
    "from collections import deque\n",
    "def nextGreaterElement(nums1, nums2):\n",
    "    d_stack, greater = deque(), {}\n",
    "    for n in nums2:\n",
    "        while d_stack and d_stack[-1] < n:\n",
    "            greater[d_stack.pop()] = n\n",
    "        d_stack.append(n)\n",
    "    return [greater.get(n, -1) for n in nums1]"
   ]
  },
  {
   "cell_type": "code",
   "execution_count": null,
   "metadata": {},
   "outputs": [],
   "source": [
    "# https://leetcode.com/problems/132-pattern/submissions/1207703452/\n",
    "import math\n",
    "# why use increasing stack and not a decreasing stack?\n",
    "#  [1  3  2] -- 3 -> 2 tranistion is possble \n",
    "\n",
    "def find132pattern(nums):\n",
    "    mon_dec_stack = [] #contains [num, min_before_num] \n",
    "    min_before_num = math.inf\n",
    "    for num in nums:\n",
    "        while mon_dec_stack and mon_dec_stack[-1][0]<=num: \n",
    "            mon_dec_stack.pop()\n",
    "        if mon_dec_stack and mon_dec_stack[-1][1]< num: \n",
    "            return True\n",
    "        mon_dec_stack.append([num, min_before_num])\n",
    "        min_before_num = min(min_before_num, num)\n",
    "    return False"
   ]
  },
  {
   "cell_type": "code",
   "execution_count": null,
   "metadata": {},
   "outputs": [],
   "source": [
    "# https://leetcode.com/problems/remove-k-digits/description/\n",
    "# we have to store the largest elt so far + min before \n",
    "# why a decreasing stack works and not an increasing stack?\n",
    "# \n",
    "def removeKdigits(self, num: str, k: int) -> str:\n",
    "    mon_inc_stack = []\n",
    "    for digit in num:\n",
    "        while k and mon_inc_stack and mon_inc_stack[-1] > digit:\n",
    "            mon_inc_stack.pop()\n",
    "            k -= 1\n",
    "        mon_inc_stack.append(digit) \n",
    "    finalStack = mon_inc_stack[:-k] if k else mon_inc_stack \n",
    "    return \"\".join(finalStack).lstrip('0') or \"0\""
   ]
  },
  {
   "cell_type": "code",
   "execution_count": null,
   "metadata": {},
   "outputs": [],
   "source": [
    "# https://leetcode.com/problems/longest-continuous-subarray-with-absolute-diff-less-than-or-equal-to-limit/\n",
    "# mon_decreasing_stack has max of the window at its 0th element\n",
    "# mon_increasing_stack has min of the window at its 0th element\n",
    "# These can be updated as we slide the left pointer by simply poping\n",
    "\n",
    "from collections import deque\n",
    "\n",
    "def longestSubarray(nums, limit) -> int:\n",
    "        dec_stack = deque()  # decreasing deque for max\n",
    "        inc_stack = deque()  # increasing deque for min\n",
    "        l = 0\n",
    "        res = 0\n",
    "        for r, num in enumerate(nums):\n",
    "            while dec_stack and num > dec_stack[-1]:\n",
    "                dec_stack.pop()\n",
    "            dec_stack.append(num)\n",
    "            while inc_stack and num < inc_stack[-1]:\n",
    "                inc_stack.pop()\n",
    "            inc_stack.append(num)\n",
    "            # as long as we have max-min > limit -- we are in violation\n",
    "            while dec_stack[0] - inc_stack[0] > limit: \n",
    "                if dec_stack[0] == nums[l]: #  if l is current max advance l, update stack\n",
    "                    dec_stack.popleft()\n",
    "                if inc_stack[0] == nums[l]: #  if l is current min advance l, update stack\n",
    "                    inc_stack.popleft()\n",
    "                l += 1\n",
    "            res = max(res, r - l + 1)\n",
    "        return res\n",
    "\n",
    "import heapq\n",
    "\n",
    "def longestSubarray2(nums, limit) -> int:\n",
    "        ans = 1\n",
    "        min_hq = [] \n",
    "        max_hq = [] \n",
    "        l = 0\n",
    "        for r in range(len(nums)):\n",
    "            heapq.heappush(min_hq, (nums[r],r))\n",
    "            heapq.heappush(max_hq, (-nums[r],r))\n",
    "\n",
    "            while min_hq[0][1] < l:\n",
    "                heapq.heappop(min_hq)\n",
    "            while max_hq[0][1] < l:\n",
    "                heapq.heappop(max_hq)\n",
    "\n",
    "            if -max_hq[0][0] - min_hq[0][0] <= limit:\n",
    "                ans = max(ans, r - l + 1)\n",
    "            else:\n",
    "                l += 1\n",
    "        return ans"
   ]
  },
  {
   "cell_type": "code",
   "execution_count": null,
   "metadata": {},
   "outputs": [],
   "source": [
    "# https://leetcode.com/problems/sum-of-subarray-minimums/editorial/\n",
    "\n",
    "# Monotonic Stack ulti Problem\n",
    "\n",
    "def sumSubarrayMins(arr):\n",
    "        mon_stack = []\n",
    "        total = 0\n",
    "        for r in range(len(arr)+1):\n",
    "            while mon_stack and (r==len(arr) or arr[r] < arr[mon_stack[-1]]): \n",
    "                pop_ind = mon_stack.pop()\n",
    "#               |----subarrays where arr[pop_ind]=min----|\n",
    "#               Start ↓         pop_ind            End ↓\n",
    "#               |----------------|------------------|\n",
    "#               l+1           ←      →             r-1\n",
    "#                [l + 1, pop_ind]  x [pop_ind, r - 1]\n",
    "                l = mon_stack[-1] if mon_stack else -1\n",
    "                total +=  (r-pop_ind) * (pop_ind - l) * arr[pop_ind]\n",
    "            mon_stack.append(r)\n",
    "        return total%(10**9 + 7)"
   ]
  }
 ],
 "metadata": {
  "kernelspec": {
   "display_name": "Python 3",
   "language": "python",
   "name": "python3"
  },
  "language_info": {
   "codemirror_mode": {
    "name": "ipython",
    "version": 3
   },
   "file_extension": ".py",
   "mimetype": "text/x-python",
   "name": "python",
   "nbconvert_exporter": "python",
   "pygments_lexer": "ipython3",
   "version": "3.10.18"
  },
  "orig_nbformat": 4
 },
 "nbformat": 4,
 "nbformat_minor": 2
}
