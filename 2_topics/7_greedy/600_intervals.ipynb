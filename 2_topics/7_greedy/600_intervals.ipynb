{
 "cells": [
  {
   "cell_type": "code",
   "execution_count": null,
   "metadata": {},
   "outputs": [],
   "source": [
    "# https://leetcode.com/problems/maximum-profit-in-job-scheduling/description/ -- Binary Search DP\n",
    "# https://leetcode.com/problems/most-profit-assigning-work/description/"
   ]
  },
  {
   "cell_type": "code",
   "execution_count": null,
   "metadata": {},
   "outputs": [],
   "source": [
    "# https://leetcode.com/problems/longest-happy-string/description/?envType=featured-list&envId=top-microsoft-questions?envType=featured-list&envId=top-microsoft-questions"
   ]
  },
  {
   "cell_type": "code",
   "execution_count": 3,
   "metadata": {},
   "outputs": [],
   "source": [
    "# https://leetcode.com/problems/interval-list-intersections/description/\n",
    "\n",
    "\n",
    "\n",
    "def intervalIntersection(firstList , secondList):\n",
    "    i, j = 0, 0\n",
    "    res = [] \n",
    "    while i<len(firstList) and j<len(secondList): \n",
    "        max_start = max(firstList[i][0], secondList[j][0])\n",
    "        min_end = min(firstList[i][1], secondList[j][1])\n",
    "        if max_start<=min_end:\n",
    "            res.append([max_start, min_end])\n",
    "        #increment the pointer with lower end\n",
    "        if firstList[i][1] < secondList[j][1]:\n",
    "            i+=1\n",
    "        else:\n",
    "            j+=1\n",
    "    return res"
   ]
  },
  {
   "cell_type": "code",
   "execution_count": null,
   "metadata": {},
   "outputs": [],
   "source": [
    "# See the problems sorting logic\n",
    "# https://leetcode.com/problems/merge-intervals/description/\n",
    "def merge(intervals):\n",
    "    intervals.sort()\n",
    "    res = []\n",
    "    merge_end = \"-\"\n",
    "    for start, end in intervals: \n",
    "        if merge_end == \"-\":\n",
    "            merge_start, merge_end = start, end\n",
    "        if start <= merge_end:\n",
    "            merge_end = max(end, merge_end)\n",
    "        else:\n",
    "            res.append([merge_start, merge_end])\n",
    "            merge_start, merge_end = start, end\n",
    "    return res + [[merge_start, merge_end]]\n",
    "\n",
    "# https://leetcode.com/problems/minimum-number-of-arrows-to-burst-balloons/?envType=study-plan-v2&envId=top-interview-150\n",
    "\n",
    "def findMinArrowShots(self, points: List[List[int]]) -> int:\n",
    "    points.sort(key= lambda x: x[1])\n",
    "    arr = 0\n",
    "    cur = -math.inf\n",
    "    for l,r in points: \n",
    "        if l > cur:\n",
    "            cur = r\n",
    "            arr += 1\n",
    "    return arr\n",
    "\n"
   ]
  }
 ],
 "metadata": {
  "kernelspec": {
   "display_name": "Python 2.7.18 64-bit ('2.7.18')",
   "language": "python",
   "name": "python3"
  },
  "language_info": {
   "codemirror_mode": {
    "name": "ipython",
    "version": 2
   },
   "file_extension": ".py",
   "mimetype": "text/x-python",
   "name": "python",
   "nbconvert_exporter": "python",
   "pygments_lexer": "ipython2",
   "version": "2.7.18"
  },
  "orig_nbformat": 4,
  "vscode": {
   "interpreter": {
    "hash": "d4fb2e5c5fbd1b7ac3c45498fbe8beed7c55352b2ef39a4963899e56de0c4ffa"
   }
  }
 },
 "nbformat": 4,
 "nbformat_minor": 2
}
