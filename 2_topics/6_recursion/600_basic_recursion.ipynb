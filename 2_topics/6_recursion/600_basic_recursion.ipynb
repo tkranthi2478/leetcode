{
 "cells": [
  {
   "cell_type": "code",
   "execution_count": null,
   "metadata": {},
   "outputs": [],
   "source": [
    "def exhuastive_recursion(cur_ans, rem_choices, result):\n",
    "   if not rem_choices:\n",
    "        result.add(cur_ans)     \n",
    "   for each_choice in rem_choices: \n",
    "        rem_choices = rem_choices.copy.remove(each_choice) #don't forget to copy\n",
    "        exhuastive_recursion(cur_ans, rem_choices, result)\n",
    "\n",
    "def backrack(cur_ans, rem_choices, result)->bool:\n",
    "     if not rem_choices:\n",
    "        result.add(cur_ans)     \n",
    "     for each_choice in rem_choices: \n",
    "          rem_choices = rem_choices.remove(each_choice) #don't forget to copy\n",
    "          if backrack(cur_ans, rem_choices, result):\n",
    "               return True\n",
    "          else:\n",
    "               rem_choices.add_back(each_choice)\n",
    "     return False\n",
    "\n",
    "  "
   ]
  },
  {
   "cell_type": "code",
   "execution_count": null,
   "metadata": {},
   "outputs": [],
   "source": [
    "# Subsets \n",
    "# https://leetcode.com/problems/subsets/\n",
    "def subsets(nums):\n",
    "    res = []\n",
    "    def rec_subsets(cur, rem, res):\n",
    "        if not rem:\n",
    "            res.append(cur)\n",
    "        else:\n",
    "            elt = rem.pop()\n",
    "            rec_subsets(cur[:], rem[:], res)\n",
    "            rec_subsets(cur[:]+[elt], rem[:], res)\n",
    "    rec_subsets([], nums, res)\n",
    "    return res"
   ]
  },
  {
   "cell_type": "code",
   "execution_count": null,
   "metadata": {},
   "outputs": [],
   "source": [
    "# https://leetcode.com/problems/permutations/description/\n",
    "# Permutations \n",
    "\n",
    "def permute(nums):\n",
    "    res = []\n",
    "    #rem is to maintain what elements are not yet part of permutation\n",
    "    def rec_permute(cur, rem, res):\n",
    "        if not rem:\n",
    "            res.append(cur)\n",
    "        for i in range(len(rem)):\n",
    "            new_rem = rem[:] #rem must be copied not modified in place\n",
    "            new_cur = cur + [new_rem.pop(i)]\n",
    "            rec_permute(new_cur, new_rem, res)\n",
    "    rec_permute([], nums, res)\n",
    "    return res\n",
    "    "
   ]
  },
  {
   "cell_type": "code",
   "execution_count": null,
   "metadata": {},
   "outputs": [],
   "source": [
    "# optimized backtracking\n",
    "\n",
    "# https://leetcode.com/problems/matchsticks-to-square/\n",
    "def makesquare(matchsticks) -> bool:\n",
    "    length = sum (matchsticks) // 4\n",
    "    sides = [0] * 4\n",
    "    if sum (matchsticks) / 4 != length:\n",
    "        return False\n",
    "    #reduces unnecessary decision trees\n",
    "    matchsticks.sort(reverse=True)\n",
    "    def backtrack(i):\n",
    "        if i == len(matchsticks):\n",
    "            return True\n",
    "        for j in range(4):\n",
    "            if sides [j] + matchsticks[i] <= length:\n",
    "                #place in the jth side\n",
    "                sides [j] += matchsticks [i] \n",
    "                #check if feasible\n",
    "                if backtrack(i + 1):\n",
    "                    return True\n",
    "                #undo the choice\n",
    "                sides [j] -= matchsticks [i]\n",
    "        return False\n",
    "    return backtrack(0)"
   ]
  },
  {
   "cell_type": "code",
   "execution_count": null,
   "metadata": {},
   "outputs": [],
   "source": [
    "# https://leetcode.com/problems/maximum-length-of-a-concatenated-string-with-unique-characters/description/"
   ]
  }
 ],
 "metadata": {
  "kernelspec": {
   "display_name": "Python 2.7.18 64-bit ('2.7.18')",
   "language": "python",
   "name": "python3"
  },
  "language_info": {
   "name": "python",
   "version": "2.7.18"
  },
  "orig_nbformat": 4,
  "vscode": {
   "interpreter": {
    "hash": "d4fb2e5c5fbd1b7ac3c45498fbe8beed7c55352b2ef39a4963899e56de0c4ffa"
   }
  }
 },
 "nbformat": 4,
 "nbformat_minor": 2
}
