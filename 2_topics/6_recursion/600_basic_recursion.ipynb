{
 "cells": [
  {
   "cell_type": "markdown",
   "metadata": {},
   "source": [
    "```\n",
    "def exhuastive_recursion(cur_ans, rem_choices, result):\n",
    "   if not rem_choices:\n",
    "        result.add(cur_ans)     \n",
    "   for each_choice in rem_choices: \n",
    "        rem_choices = rem_choices.copy.remove(each_choice) #don't forget to copy\n",
    "        exhuastive_recursion(cur_ans, rem_choices, result)\n",
    "\n",
    "def backrack(cur_ans, rem_choices, result)->bool:\n",
    "     if not rem_choices:\n",
    "        result.add(cur_ans)     \n",
    "     for each_choice in rem_choices: \n",
    "          rem_choices = rem_choices.remove(each_choice) #don't forget to copy\n",
    "          if backrack(cur_ans, rem_choices, result):\n",
    "               return True\n",
    "          else:\n",
    "               rem_choices.add_back(each_choice)\n",
    "     return False\n",
    "```\n",
    "\n",
    "| exhuastive | backrack |\n",
    "|---|---|\n",
    "| copies | choice + undo |\n",
    "| must for optimize/count all valid solns| must for setting global state |\n",
    "  "
   ]
  },
  {
   "cell_type": "code",
   "execution_count": null,
   "metadata": {},
   "outputs": [],
   "source": [
    "# Subsets \n",
    "# https://leetcode.com/problems/subsets/\n",
    "def subsets(nums):\n",
    "    def rec_subsets(nums, res):\n",
    "        if not nums:\n",
    "            return \n",
    "        e = nums.pop()\n",
    "        res +=  [x.copy()+[e] for x in res]\n",
    "        return rec_subsets(nums, res)\n",
    "    return rec_subsets( nums, [[]])"
   ]
  },
  {
   "cell_type": "code",
   "execution_count": null,
   "metadata": {},
   "outputs": [],
   "source": [
    "# https://leetcode.com/problems/permutations/description/\n",
    "# Permutations \n",
    "\n",
    "def permute(nums):\n",
    "    res = []\n",
    "    #rem is to maintain what elements are not yet part of permutation\n",
    "    def rec_permute(cur, rem, res):\n",
    "        if not rem:\n",
    "            res.append(cur)\n",
    "        for i in range(len(rem)):\n",
    "            new_rem = rem[:] #rem must be copied not modified in place\n",
    "            new_cur = cur + [new_rem.pop(i)]\n",
    "            rec_permute(new_cur, new_rem, res)\n",
    "    rec_permute([], nums, res)\n",
    "    return res\n",
    "    "
   ]
  },
  {
   "cell_type": "code",
   "execution_count": 3,
   "metadata": {},
   "outputs": [],
   "source": [
    "# optimized backtracking\n",
    "\n",
    "# https://leetcode.com/problems/matchsticks-to-square/\n",
    "def makesquare(matchsticks) :\n",
    "    matchsticks.sort()\n",
    "    total = sum(matchsticks)\n",
    "    if total%4:\n",
    "        return False\n",
    "    target = total//4\n",
    "    sides = [0,0,0,0]\n",
    "    def rec_evaluate(): \n",
    "        if not matchsticks:\n",
    "            return True\n",
    "        e = matchsticks.pop()\n",
    "        for i in range(4):\n",
    "            if sides[i] + e <= target:\n",
    "                sides[i] += e\n",
    "                if rec_evaluate():\n",
    "                    return True\n",
    "                sides[i] -= e #undo sub local choice\n",
    "        matchsticks.append(e) #undo overall\n",
    "        return False"
   ]
  },
  {
   "cell_type": "code",
   "execution_count": null,
   "metadata": {},
   "outputs": [],
   "source": [
    "# https://leetcode.com/problems/maximum-length-of-a-concatenated-string-with-unique-characters/description/"
   ]
  }
 ],
 "metadata": {
  "kernelspec": {
   "display_name": "Python 2.7.18 64-bit ('2.7.18')",
   "language": "python",
   "name": "python3"
  },
  "language_info": {
   "codemirror_mode": {
    "name": "ipython",
    "version": 2
   },
   "file_extension": ".py",
   "mimetype": "text/x-python",
   "name": "python",
   "nbconvert_exporter": "python",
   "pygments_lexer": "ipython2",
   "version": "2.7.18"
  },
  "orig_nbformat": 4,
  "vscode": {
   "interpreter": {
    "hash": "d4fb2e5c5fbd1b7ac3c45498fbe8beed7c55352b2ef39a4963899e56de0c4ffa"
   }
  }
 },
 "nbformat": 4,
 "nbformat_minor": 2
}
