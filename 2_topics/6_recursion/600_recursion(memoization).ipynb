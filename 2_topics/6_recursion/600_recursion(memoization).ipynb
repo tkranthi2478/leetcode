{
 "cells": [
  {
   "cell_type": "code",
   "execution_count": null,
   "metadata": {},
   "outputs": [],
   "source": [
    "\n",
    "# https://leetcode.com/problems/maximum-number-of-operations-with-the-same-score-ii/\n",
    "from functools import cache\n",
    "\n",
    "def maxOperations(nums):\n",
    "        n= len(nums) \n",
    "        @cache\n",
    "        def dfs(l, r, score):\n",
    "            if l==r or l>r:\n",
    "                return 0\n",
    "            res = 0\n",
    "            if nums[l] + nums[l+1] == score:\n",
    "                res = 1 + dfs(l+2, r, score)\n",
    "            if nums[l] + nums[r] == score:\n",
    "                res = max(res, 1 + dfs(l+1, r-1, score))\n",
    "            if nums[r]+ nums[r-1] == score:\n",
    "                res = max(res, 1 + dfs(l, r-2, score))\n",
    "            return res\n",
    "        \n",
    "        return 1 + max( \n",
    "            dfs(1, n-2, nums[0] + nums[-1]),\n",
    "            dfs(2, n-1, nums[0] + nums[1]), \n",
    "            dfs(0, n-3, nums[-1] + nums[-2])\n",
    "        )\n"
   ]
  }
 ],
 "metadata": {
  "kernelspec": {
   "display_name": "Python 2.7.18 64-bit ('2.7.18')",
   "language": "python",
   "name": "python3"
  },
  "language_info": {
   "name": "python",
   "version": "2.7.18"
  },
  "orig_nbformat": 4,
  "vscode": {
   "interpreter": {
    "hash": "d4fb2e5c5fbd1b7ac3c45498fbe8beed7c55352b2ef39a4963899e56de0c4ffa"
   }
  }
 },
 "nbformat": 4,
 "nbformat_minor": 2
}
