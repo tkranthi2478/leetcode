{
 "cells": [
  {
   "cell_type": "markdown",
   "metadata": {},
   "source": [
    "# Set 1\n",
    "### Arrays -- Duplicates, Misses etc. || No extra Space -- O(n) constraint\n",
    "| Application | |Pattern |\n",
    "|---|---|---|\n",
    "| Find the ONLY elt that appears twice, freq of every elt ∈ {0, 1, 2} + all elts belong to set [1, 2, ... n]       |&nbsp;| Array Marking/LinkedList|\n",
    "| Find ALL elts that appear twice, freq of every elt ∈ {0, 1, 2} + all elts belong to set [1, 2, ... n]       |&nbsp;| Array Marking|\n",
    "| find the ONLY element that appears only ones while all others appear EXACTLY                                |&nbsp;| XoR Approach |\n",
    "| find the ONLY element from [0, 1, ... N] that is missing whiile all others appear exactly once              |&nbsp;| XoR Approach |\n"
   ]
  },
  {
   "cell_type": "code",
   "execution_count": null,
   "metadata": {},
   "outputs": [],
   "source": [
    "# https://leetcode.com/problems/find-the-duplicate-number/description/\n",
    "def findDuplicate(nums):\n",
    "    fast, slow = 0, 0\n",
    "    while True:\n",
    "        fast = nums[nums[fast]]\n",
    "        slow = nums[slow]\n",
    "        if fast == slow:\n",
    "            break\n",
    "    slow2 = 0\n",
    "    while slow!=slow2:\n",
    "        slow, slow2 = nums[slow], nums[slow2]\n",
    "    return slow\n",
    "\n",
    "\n",
    "\n",
    " \n",
    "# https://leetcode.com/problems/find-all-duplicates-in-an-array/description/\n",
    "# Strategy: Mark index using negative sign in the array  map n to index n-1\n",
    "def findDuplicates(nums):\n",
    "    res = []\n",
    "    for i in range(len(nums)):\n",
    "        link_ind = abs(nums[i])-1\n",
    "        if nums[link_ind]<0:\n",
    "            res.append(abs(nums[i]))\n",
    "        nums[link_ind] = -nums[link_ind]\n",
    "    return res\n",
    "\n",
    " \n",
    "# https://leetcode.com/problems/missing-number/\n",
    "def missingNumber(nums):\n",
    "    missing = len(nums) # we choose len(nums) \n",
    "    # xor is commutative and associative\n",
    "    # double xoring the same element results in 0 \n",
    "    # xor of 0 and missing number results in missing number\n",
    "    for i, num in enumerate(nums):\n",
    "        missing ^= i ^ num\n",
    "    return missing\n",
    "\n",
    "\n",
    "\n",
    "\n",
    "# https://leetcode.com/problems/single-number/\n",
    "def singleNumber(nums):\n",
    "    res = 0 \n",
    "    for num in nums:\n",
    "        res ^= num        \n",
    "    return res\n",
    "\n",
    "\n",
    "\n",
    "# https://leetcode.com/problems/first-missing-positive/     ----   🤔\n",
    "\n",
    "#array marking problem --- Only the first missing number \n",
    "#   -- twist is to account for zero, negs\n",
    "\n",
    "\n"
   ]
  },
  {
   "cell_type": "code",
   "execution_count": 1,
   "metadata": {},
   "outputs": [],
   "source": [
    "# https://leetcode.com/problems/single-number-ii/"
   ]
  },
  {
   "cell_type": "code",
   "execution_count": 2,
   "metadata": {},
   "outputs": [],
   "source": [
    "# https://leetcode.com/problems/bitwise-and-of-numbers-range/description/?envType=study-plan-v2&envId=top-interview-150\n",
    "\n",
    "def rangeBitwiseAnd(left, right):\n",
    "    while left < right:\n",
    "        # turn off rightmost 1-bit\n",
    "        right = right & (right - 1)\n",
    "    return left & right\n",
    "\n",
    "def rangeBitwiseAnd2(left: int, right: int) -> int:\n",
    "        shift = 0\n",
    "        while left < right:\n",
    "            left = left >> 1\n",
    "            right = right >> 1\n",
    "            shift += 1\n",
    "        return left << shift\n",
    "#Strike of rights till we find equality\n",
    "#  Example 111 and 110 --- >> we reach 11 by striking off 1 element"
   ]
  },
  {
   "cell_type": "code",
   "execution_count": null,
   "metadata": {},
   "outputs": [],
   "source": [
    "# https://leetcode.com/problems/single-number-ii/editorial/?envType=study-plan-v2&envId=top-interview-150"
   ]
  },
  {
   "cell_type": "code",
   "execution_count": 8,
   "metadata": {},
   "outputs": [
    {
     "name": "stdout",
     "output_type": "stream",
     "text": [
      "1000 10\n",
      "1010\n"
     ]
    }
   ],
   "source": [
    "# \n",
    "a, b = 8 ,2\n",
    "# print binary representation of a and b with 0b prefix\n",
    "print(bin(a)[2:], bin(b)[2:])\n",
    "print(bin(a | b)[2:])\n",
    "\n"
   ]
  },
  {
   "cell_type": "code",
   "execution_count": null,
   "metadata": {},
   "outputs": [],
   "source": []
  }
 ],
 "metadata": {
  "kernelspec": {
   "display_name": "Python 3",
   "language": "python",
   "name": "python3"
  },
  "language_info": {
   "codemirror_mode": {
    "name": "ipython",
    "version": 3
   },
   "file_extension": ".py",
   "mimetype": "text/x-python",
   "name": "python",
   "nbconvert_exporter": "python",
   "pygments_lexer": "ipython3",
   "version": "3.10.18"
  },
  "orig_nbformat": 4
 },
 "nbformat": 4,
 "nbformat_minor": 2
}
