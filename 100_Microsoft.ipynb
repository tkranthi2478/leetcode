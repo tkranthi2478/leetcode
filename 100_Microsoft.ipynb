{
 "cells": [
  {
   "cell_type": "code",
   "execution_count": null,
   "metadata": {},
   "outputs": [],
   "source": [
    "# https://leetcode.com/problems/lru-cache/?envType=featured-list&envId=top-microsoft-questions?envType=featured-list&envId=top-microsoft-questions\n",
    "\n",
    "\n",
    "class Node:\n",
    "    def __init__(self, k, v):\n",
    "        self.key, self.val = k, v\n",
    "        self.prev, self.next  = None, None\n",
    "        \n",
    "class LRUCache:\n",
    "    def __init__(self, capacity):\n",
    "        self.capacity = capacity\n",
    "        self.index_map = {}\n",
    "        self.queue_left, self.queue_right = Node(\"#\", 0), Node(\"-\", 0)\n",
    "        self.queue_left.next, self.queue_right.prev = self.queue_right, self.queue_left\n",
    "\n",
    "    def get(self, key):\n",
    "        if key not in self.index_map:\n",
    "            return -1\n",
    "        node = self.index_map[key]\n",
    "        self.remove_node(node)\n",
    "        self.add_node(node)\n",
    "        return node.val\n",
    "\n",
    "    def put(self, key, value):\n",
    "        if key in self.index_map:#dont update but just delete and readd\n",
    "            self.remove_node(self.index_map[key])\n",
    "            del self.index_map[key]\n",
    "        if len(self.index_map) == self.capacity:\n",
    "            node_to_remove = self.queue_right.prev\n",
    "            self.remove_node(node_to_remove)\n",
    "            del self.index_map[node_to_remove.key]\n",
    "        new_node = Node(key, value)\n",
    "        self.add_node(new_node)\n",
    "        self.index_map[key] = new_node \n",
    "\n",
    "    def remove_node(self, node):\n",
    "        prev_node, next_node =  node.prev, node.next\n",
    "        prev_node.next, next_node.prev = next_node, prev_node\n",
    "\n",
    "    def add_node(self, node):\n",
    "        next_node, prev_node = self.queue_left.next, self.queue_left\n",
    "        prev_node.next = next_node.prev = node \n",
    "        node.next, node.prev = next_node, prev_node"
   ]
  }
 ],
 "metadata": {
  "kernelspec": {
   "display_name": "Python 2.7.18 64-bit ('2.7.18')",
   "language": "python",
   "name": "python3"
  },
  "language_info": {
   "name": "python",
   "version": "2.7.18"
  },
  "orig_nbformat": 4,
  "vscode": {
   "interpreter": {
    "hash": "d4fb2e5c5fbd1b7ac3c45498fbe8beed7c55352b2ef39a4963899e56de0c4ffa"
   }
  }
 },
 "nbformat": 4,
 "nbformat_minor": 2
}
