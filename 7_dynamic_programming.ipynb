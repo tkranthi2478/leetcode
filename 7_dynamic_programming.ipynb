{
 "cells": [
  {
   "cell_type": "code",
   "execution_count": 1,
   "metadata": {},
   "outputs": [],
   "source": [
    "from typing import List\n",
    "\n",
    "\n",
    "def findTargetSumWays( nums: List[int], target: int) -> int:\n",
    "\n",
    "    #sum+target\n",
    "    target+=sum(nums)\n",
    "    if target < 0 or target %2:\n",
    "        return 0\n",
    "    target //=2\n",
    "\n",
    "    f = [1] + [0]*(target)\n",
    "\n",
    "    for x in nums:\n",
    "        for c in range(target,-1,-1):\n",
    "            if c>=x:\n",
    "                f[c] = f[c]+f[c-x]\n",
    "    return f[target]\n",
    "findTargetSumWays([1,6], 1)"
   ]
  },
  {
   "cell_type": "code",
   "execution_count": null,
   "metadata": {},
   "outputs": [],
   "source": [
    "# https://leetcode.com/problems/longest-palindromic-substring/description/\n",
    "# see the loops closely\n",
    "def longestPalindrome(s: str) -> str:\n",
    "    max_len = 0\n",
    "    max_pal = \"\"\n",
    "    for c in range(len(s)):\n",
    "        l, r = c, c\n",
    "        while l>=0 and r<len(s) and s[l]==s[r]:\n",
    "            if r-l+1 > max_len:\n",
    "                max_len, max_pal = r-l+1, s[l: r+1]\n",
    "            r+=1\n",
    "            l-=1\n",
    "        l, r = c, c+1\n",
    "        while l>=0 and r<len(s) and s[l]==s[r]:\n",
    "            if r-l+1 > max_len:\n",
    "                max_len, max_pal = r-l+1, s[l:r+1]\n",
    "            r+=1\n",
    "            l-=1     \n",
    "    return max_pal"
   ]
  }
 ],
 "metadata": {
  "kernelspec": {
   "display_name": "Python 3.10.9 64-bit",
   "language": "python",
   "name": "python3"
  },
  "language_info": {
   "codemirror_mode": {
    "name": "ipython",
    "version": 3
   },
   "file_extension": ".py",
   "mimetype": "text/x-python",
   "name": "python",
   "nbconvert_exporter": "python",
   "pygments_lexer": "ipython3",
   "version": "3.10.9"
  },
  "orig_nbformat": 4,
  "vscode": {
   "interpreter": {
    "hash": "bd385fe162c5ca0c84973b7dd5c518456272446b2b64e67c2a69f949ca7a1754"
   }
  }
 },
 "nbformat": 4,
 "nbformat_minor": 2
}
