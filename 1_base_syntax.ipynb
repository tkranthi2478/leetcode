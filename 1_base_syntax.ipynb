{
 "cells": [
  {
   "cell_type": "code",
   "execution_count": 1,
   "metadata": {},
   "outputs": [
    {
     "name": "stdout",
     "output_type": "stream",
     "text": [
      "2\n",
      "shallow equality\n",
      "-1\n",
      "defaultdict(<function def_value at 0x10de04670>, {'a': 1, 'd': 'Not Present'})\n",
      "1\n",
      "defaultdict(<function <lambda> at 0x10de04550>, {1: 1, 2: 1})\n",
      "Counter({'k': 2, 'r': 2, 'a': 2, 'n': 1, 't': 1, 'h': 1, 'i': 1, 'u': 1, 'm': 1})\n"
     ]
    }
   ],
   "source": [
    "#Dictionary\n",
    "\n",
    "\n",
    "dict = {1:2, 2:-1}\n",
    "dict.clear() #deletes everything\n",
    "\n",
    "#Length\n",
    "print(len(dict))\n",
    "\n",
    "#shallow comparision\n",
    "x1={1:2}\n",
    "y1={1:2}\n",
    "if x1==y1:\n",
    "    print(\"shallow equality\" )\n",
    "\n",
    "#Min, Max\n",
    "min_key = min(dict, key=dict.get)\n",
    "\n",
    "#print val removing the max key\n",
    "print(dict.pop(min_key))\n",
    "#------------------------------------------\n",
    "\n",
    "\n",
    "#Without Default Dict -- How to escape key error? .get(key, 0)\n",
    "no_error_dict = {}\n",
    "key = '1'\n",
    "no_error_dict[key] = no_error_dict.get(key, 0) + 1\n",
    "\n",
    "\n",
    "#Default Dict\n",
    "from collections import defaultdict \n",
    "\n",
    "def def_value(): \n",
    "    #takes no value\n",
    "    return \"Not Present\"\n",
    "d = defaultdict(def_value) \n",
    "d[\"a\"] = 1\n",
    "d[\"d\"]\n",
    "print(d)\n",
    "\n",
    "x = defaultdict( lambda : 1)\n",
    "print(x[1])\n",
    "x[2]\n",
    "print(x)\n",
    "\n",
    "\n",
    "# Counter Dict\n",
    "from collections import Counter\n",
    "Counter(['apple','red','apple','red','red','pear'])\n",
    "print(Counter('kranthikumar'))\n",
    "\n"
   ]
  },
  {
   "cell_type": "code",
   "execution_count": null,
   "metadata": {},
   "outputs": [],
   "source": [
    "#Set\n",
    "set_1 = {1,2}\n",
    "empty_set = set()\n",
    "set_1.add(2)\n",
    "set_1.discard(1)\n"
   ]
  },
  {
   "cell_type": "code",
   "execution_count": 98,
   "metadata": {},
   "outputs": [
    {
     "name": "stdout",
     "output_type": "stream",
     "text": [
      "(1, 'a')\n",
      "(2, 'b')\n"
     ]
    }
   ],
   "source": [
    "#Priority Queue\n",
    "import heapq\n",
    "min_heap = [(1, 'a'), (2,'b')]\n",
    "heapq.heapify(min_heap)             # for a min heap\n",
    "print(heapq.heappop(min_heap))\n",
    "heapq.heappush(min_heap, (3, 'c')) \n",
    "print(heapq.heappop(min_heap))\n",
    "\n",
    "#There is no max heap, "
   ]
  },
  {
   "cell_type": "code",
   "execution_count": 7,
   "metadata": {},
   "outputs": [
    {
     "name": "stdout",
     "output_type": "stream",
     "text": [
      "[4, 8, 12, 16, 20, 24, 28, 32, 36, 40, 44, 48, 52]\n",
      "['who', 'with', 'walks']\n",
      "[('abc', 3), ('efg', 1), ('hij', 2)]\n",
      "[('efg', 1), ('hij', 2), ('abc', 3)]\n"
     ]
    }
   ],
   "source": [
    "# Arrays \n",
    "numbers = [2, 4, 6, 8, 10, 12, 14, 16, 18, 20, 22, 24, 26]\n",
    "\n",
    "#Map is like f(x) for each elt\n",
    "map_result = map(lambda x: x + x, numbers)\n",
    "print(list(map_result))\n",
    "list_comp_result = [ele*ele for ele in numbers]\n",
    "\n",
    "#filter\n",
    "scores = ['who', 'with', 'walks', 'does', 'sample']\n",
    "filtered = filter(lambda word: word.startswith('w'), scores)\n",
    "print(list(filtered))\n",
    "four_mul = lambda num: num % 4 == 0 \n",
    "filter(four_mul, range(1970, 2000))\n",
    "\n",
    "\n",
    "#Sorting -- takes collection first, lambda next\n",
    "x = (('efg', 1), ('abc', 3), ('hij', 2))\n",
    "print(sorted(x)) # does work -- sorts by first elt\n",
    "print(sorted(x, key=lambda ele: ele[1], reverse=False))\n",
    "\n"
   ]
  }
 ],
 "metadata": {
  "kernelspec": {
   "display_name": "Python 3.10.9 64-bit",
   "language": "python",
   "name": "python3"
  },
  "language_info": {
   "codemirror_mode": {
    "name": "ipython",
    "version": 3
   },
   "file_extension": ".py",
   "mimetype": "text/x-python",
   "name": "python",
   "nbconvert_exporter": "python",
   "pygments_lexer": "ipython3",
   "version": "3.10.9"
  },
  "orig_nbformat": 4,
  "vscode": {
   "interpreter": {
    "hash": "bd385fe162c5ca0c84973b7dd5c518456272446b2b64e67c2a69f949ca7a1754"
   }
  }
 },
 "nbformat": 4,
 "nbformat_minor": 2
}
