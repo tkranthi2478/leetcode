{
 "cells": [
  {
   "cell_type": "code",
   "execution_count": null,
   "metadata": {},
   "outputs": [],
   "source": [
    "class Trie:\n",
    "    def __init__(self):\n",
    "        self.root = {}\n",
    "\n",
    "    def insert(self, word):\n",
    "        cur = self.root\n",
    "        for letter in word:\n",
    "            if letter not in cur:\n",
    "                cur[letter] = {}\n",
    "            cur = cur[letter]\n",
    "        cur['*'] = ''\n",
    "\n",
    "    def search(self, word):\n",
    "        cur = self.root\n",
    "        for letter in word:\n",
    "            if letter not in cur:\n",
    "                return False\n",
    "            cur = cur[letter]\n",
    "        return '*' in cur\n",
    "        \n",
    "    def startsWith(self, prefix):\n",
    "        cur = self.root\n",
    "        for letter in prefix:\n",
    "            if letter not in cur:\n",
    "                return False\n",
    "            cur = cur[letter]\n",
    "        return True\n",
    "\n",
    "trte = Trie()\n",
    "words = [\"apple\", \"apped\", \"appled\"]\n",
    "for word in words:\n",
    "    trte.insert(word)"
   ]
  },
  {
   "cell_type": "code",
   "execution_count": null,
   "metadata": {},
   "outputs": [],
   "source": [
    "# https://leetcode.com/problems/find-the-length-of-the-longest-common-prefix/description/\n",
    "def longestCommonPrefix(arr1, arr2):\n",
    "        root = {}\n",
    "        for num in arr1:\n",
    "            cur = root\n",
    "            for char in str(num):\n",
    "                if char not in cur:\n",
    "                    cur[char] = {}\n",
    "                cur = cur[char]\n",
    "        max_len = 0\n",
    "        for num in arr2:\n",
    "            cur = root\n",
    "            i = 0\n",
    "            for char in str(num):\n",
    "                if char in cur:\n",
    "                    cur = cur[char]\n",
    "                    i+=1\n",
    "                else:\n",
    "                    break\n",
    "            max_len = max(max_len, i)\n",
    "        return max_len"
   ]
  }
 ],
 "metadata": {
  "language_info": {
   "name": "python"
  },
  "orig_nbformat": 4
 },
 "nbformat": 4,
 "nbformat_minor": 2
}
