{
 "cells": [
  {
   "cell_type": "code",
   "execution_count": 5,
   "metadata": {},
   "outputs": [
    {
     "name": "stdout",
     "output_type": "stream",
     "text": [
      "('A1:: ', [1, 2])\n",
      "('A2:: ', [3, 4])\n",
      "('Main1: ', [1, 2])\n",
      "('B1:: ', [1, 2])\n",
      "('B2:: ', [1, 2, 3, 4])\n",
      "('Main2: ', [1, 2, 3, 4])\n"
     ]
    }
   ],
   "source": [
    "#Pass by value vs. Pass by Reference\n",
    "\n",
    "\n",
    "def understand_pass():\n",
    "    x = [1,2]\n",
    "    val_change(x)\n",
    "    print(\"Main1: \", x)\n",
    "    val_change_2(x)\n",
    "    print(\"Main2: \", x)\n",
    "\n",
    "\n",
    "def val_change(x):\n",
    "    print(\"A1:: \", x)\n",
    "    x = [3, 4]\n",
    "    print(\"A2:: \", x)\n",
    "\n",
    "def val_change_2(x):\n",
    "    print(\"B1:: \", x)\n",
    "    x.append(3)\n",
    "    x.append(4)\n",
    "    print(\"B2:: \", x)\n",
    "\n",
    "\n",
    "understand_pass()\n",
    "\n",
    "x = [1,1]\n",
    "\n",
    "\n",
    "# Conclusion -- No assginments persist during a function execution\n",
    "# if you want to modify a variable during executoin -- declare it as a class variable"
   ]
  },
  {
   "cell_type": "code",
   "execution_count": 3,
   "metadata": {},
   "outputs": [
    {
     "name": "stdout",
     "output_type": "stream",
     "text": [
      "2\n",
      "2\n",
      "2.5\n",
      "2.0\n",
      "8\n",
      "2\n"
     ]
    },
    {
     "data": {
      "text/plain": [
       "-20"
      ]
     },
     "execution_count": 3,
     "metadata": {},
     "output_type": "execute_result"
    }
   ],
   "source": [
    "# Mathematics\n",
    "\n",
    "x = 1\n",
    "y = 3\n",
    "\n",
    "print(5/2)\n",
    "print(5//2)\n",
    "# // gives floor division\n",
    "\n",
    "print(5.0/2)\n",
    "print(5.0//2)\n",
    "\n",
    "from math import ceil\n",
    "ceil(x*1.0/y)\n",
    "\n",
    "\n",
    "#Add leading zeros\n",
    "print(2**3)\n",
    "format(12, \"03d\")\n",
    "\n",
    "\n",
    "import random\n",
    "\n",
    "print(random.randint(1,2))\n",
    "\n",
    "\n",
    "#eval \n",
    "eval(\"2-11*2\")\n",
    "\n",
    "\n"
   ]
  },
  {
   "cell_type": "code",
   "execution_count": null,
   "metadata": {},
   "outputs": [],
   "source": [
    "x = [[0] * 4 ] * 5 #wrong - same var 4 times\n",
    "x = [[0] * 4 for _ in range(5)] * 5 #correct \n"
   ]
  }
 ],
 "metadata": {
  "kernelspec": {
   "display_name": "Python 2.7.18 64-bit ('2.7.18')",
   "language": "python",
   "name": "python3"
  },
  "language_info": {
   "codemirror_mode": {
    "name": "ipython",
    "version": 2
   },
   "file_extension": ".py",
   "mimetype": "text/x-python",
   "name": "python",
   "nbconvert_exporter": "python",
   "pygments_lexer": "ipython2",
   "version": "2.7.18"
  },
  "orig_nbformat": 4,
  "vscode": {
   "interpreter": {
    "hash": "d4fb2e5c5fbd1b7ac3c45498fbe8beed7c55352b2ef39a4963899e56de0c4ffa"
   }
  }
 },
 "nbformat": 4,
 "nbformat_minor": 2
}
