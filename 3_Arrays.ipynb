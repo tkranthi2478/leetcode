{
 "cells": [
  {
   "cell_type": "code",
   "execution_count": null,
   "metadata": {},
   "outputs": [],
   "source": [
    "# I  Array marking problems\n",
    "# https://leetcode.com/problems/find-all-duplicates-in-an-array/description/\n",
    "\n",
    "# https://leetcode.com/problems/first-missing-positive/description/\n",
    "\n",
    "# Strategy: Mark index using negative sign in the array\n",
    "from typing import List\n",
    "\n",
    "def findDuplicates(nums: List[int]) -> List[int]:\n",
    "    res = []\n",
    "    for i in range(len(nums)):\n",
    "        link_ind = abs(nums[i])-1\n",
    "        if nums[link_ind]<0:\n",
    "            res.append(abs(nums[i]))\n",
    "        nums[link_ind] = -nums[link_ind]\n",
    "    return res\n",
    "\n",
    "# [4,3,2,7,8,2,3,1]\n",
    "# [1,1,2]\n",
    "# [1]\n",
    "# [10,2,5,10,9,1,1,4,3,7]\n",
    "# Similar question: https://leetcode.com/problems/find-all-numbers-disappeared-in-an-array/description/"
   ]
  },
  {
   "cell_type": "code",
   "execution_count": null,
   "metadata": {},
   "outputs": [],
   "source": [
    "# https://leetcode.com/problems/daily-temperatures/description/\n",
    "\n",
    "# Monotonic Stack Problem\n",
    "\n",
    "\n",
    "def dailyTemperatures(temperatures: List[int]) -> List[int]:\n",
    "    results = [0] * len(temperatures)\n",
    "    decreasing_stack = []\n",
    "    for i, temp in enumerate(temperatures):\n",
    "        while decreasing_stack and temperatures[decreasing_stack[-1]] < temp:\n",
    "            index = decreasing_stack.pop(-1)\n",
    "            results[index] = i - index\n",
    "        decreasing_stack.append(i) \n",
    "    return results\n",
    "            "
   ]
  }
 ],
 "metadata": {
  "kernelspec": {
   "display_name": "Python 3.12.0 64-bit",
   "language": "python",
   "name": "python3"
  },
  "language_info": {
   "name": "python",
   "version": "3.12.0"
  },
  "orig_nbformat": 4,
  "vscode": {
   "interpreter": {
    "hash": "7500c3e1c7c786e4ba1e4b4eb7588219b4e35d5153674f92eb3a82672b534f6e"
   }
  }
 },
 "nbformat": 4,
 "nbformat_minor": 2
}
