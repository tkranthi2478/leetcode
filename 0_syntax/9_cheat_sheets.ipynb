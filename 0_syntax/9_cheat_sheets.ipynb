{
 "cells": [
  {
   "cell_type": "code",
   "execution_count": null,
   "metadata": {},
   "outputs": [],
   "source": [
    "# https://github.com/lichenma/LeetCode-CheatSheet?tab=readme-ov-file\n",
    "# https://github.com/dennyzhang/cheatsheet.dennyzhang.com/blob/master/cheatsheet-leetcode-A4/README.org"
   ]
  }
 ],
 "metadata": {
  "kernelspec": {
   "display_name": "Python 3",
   "language": "python",
   "name": "python3"
  },
  "language_info": {
   "name": "python",
   "version": "3.10.9"
  },
  "orig_nbformat": 4
 },
 "nbformat": 4,
 "nbformat_minor": 2
}
