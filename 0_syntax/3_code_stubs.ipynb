{
 "cells": [
  {
   "cell_type": "code",
   "execution_count": null,
   "metadata": {},
   "outputs": [
    {
     "name": "stdout",
     "output_type": "stream",
     "text": [
      "('B', 3)\n",
      "[('A', 3)]\n",
      "[10, 16]\n",
      "iiiiiiiiii\n"
     ]
    }
   ],
   "source": [
    "tasks = [\"A\",\"A\",\"A\",\"B\",\"B\",\"B\"]\n",
    "from collections import Counter\n",
    "count_dict = Counter(tasks)\n",
    "tuppes = list(sorted(count_dict.items(),  key=lambda item: -item[1]))\n",
    "print(tuppes.pop())\n",
    "print(tuppes)\n",
    "\n",
    "points = [[10,16],[2,8],[1,6],[7,12]]\n",
    "points.sort(key= lambda x: x[1])\n",
    "print(points.pop())\n",
    "\n",
    "pen = 'i' * 10\n",
    "print(pen)"
   ]
  },
  {
   "cell_type": "markdown",
   "metadata": {},
   "source": []
  }
 ],
 "metadata": {
  "kernelspec": {
   "display_name": "Python 3",
   "language": "python",
   "name": "python3"
  },
  "language_info": {
   "codemirror_mode": {
    "name": "ipython",
    "version": 3
   },
   "file_extension": ".py",
   "mimetype": "text/x-python",
   "name": "python",
   "nbconvert_exporter": "python",
   "pygments_lexer": "ipython3",
   "version": "3.10.9"
  },
  "orig_nbformat": 4
 },
 "nbformat": 4,
 "nbformat_minor": 2
}
