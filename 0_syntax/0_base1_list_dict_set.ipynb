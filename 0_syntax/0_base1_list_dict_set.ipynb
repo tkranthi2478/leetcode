{
 "cells": [
  {
   "cell_type": "code",
   "execution_count": 1,
   "metadata": {},
   "outputs": [],
   "source": [
    "# Hashmap     -- 3 Variations Dict, DefaultDict, Counter\n",
    "# Sets        -- Only works on hashable types\n",
    "# Lists       -- Imagine Like array\n"
   ]
  },
  {
   "cell_type": "code",
   "execution_count": null,
   "metadata": {},
   "outputs": [
    {
     "name": "stdout",
     "output_type": "stream",
     "text": [
      "2\n",
      "('a', 2)\n",
      "('b', -1)\n",
      "('a', 2)\n",
      "('b', -1)\n",
      "2\n",
      "Counter({'a': 2, 'k': 2, 'r': 2, 'i': 1, 'h': 1, 'm': 1, 'n': 1, 'u': 1, 't': 1})\n",
      "Counter({'red': 3, 'apple': 2, 'pear': 1})\n"
     ]
    }
   ],
   "source": [
    "# Dictionary -\n",
    "\n",
    "dict = {1:2, 2:-1}\n",
    "\n",
    "dict = {1:2, 2:-1}\n",
    "\n",
    "\n",
    "#shallow equality check works -- but expensive\n",
    "x1={1:2}\n",
    "y1={1:2}\n",
    "# shallow equality\n",
    "assert(x1==y1) \n",
    "\n",
    "#Length\n",
    "\n",
    "print(len(dict))\n",
    "\n",
    "dict.clear() #deletes everything\n",
    "\n",
    "# Key of  Value \n",
    "dict = {'a':2, 'b':-1}\n",
    "min_key = min(dict, key=dict.get)\n",
    "# min_key = min(dict, key=lambda x:dict[x])\n",
    "\n",
    "\n",
    "for x in dict:\n",
    "    print(x, dict.get)\n",
    "\n",
    "# Iteration of key, val simultaneously\n",
    "for key, val in dict.items():\n",
    "    print(key, val)\n",
    "\n",
    "\n",
    "#Removing Item\n",
    "del dict[min_key]\n",
    " \n",
    "\n",
    "\n",
    "#Default Dict\n",
    "from collections import defaultdict \n",
    "x = defaultdict( lambda : 1)\n",
    "\n",
    "#Default Dict Alternative -- get, pop safely\n",
    "no_error_dict = {}\n",
    "key = '1'\n",
    "no_error_dict[key] = no_error_dict.get(key, 0) + 1\n",
    "print(dict.pop(key, 2))\n",
    "\n",
    "\n",
    "# Counter Dict\n",
    "from collections import Counter\n",
    "answer = Counter(['apple','red','apple','red','red','pear'])\n",
    "print(Counter('kranthikumar'))\n",
    "print(answer)\n"
   ]
  },
  {
   "cell_type": "code",
   "execution_count": null,
   "metadata": {},
   "outputs": [],
   "source": [
    "#Set\n",
    "set_1 = {1,2}\n",
    "empty_set = set()\n",
    "set_1.add(2)\n",
    "set_1.discard(1) #will not through error like remove\n",
    "# intersection, union, remove, issubset"
   ]
  },
  {
   "cell_type": "code",
   "execution_count": null,
   "metadata": {},
   "outputs": [
    {
     "name": "stdout",
     "output_type": "stream",
     "text": [
      "[4, 8, 12, 16, 20, 24, 28, 32, 36, 40, 44, 48, 52]\n",
      "['who', 'with', 'walks']\n",
      "[('abc', 3), ('efg', 1), ('hij', 2)]\n",
      "[('efg', 1), ('hij', 2), ('abc', 3)]\n",
      "['b', -2]\n",
      "marias\n",
      "[0, 0, 0, 0, 0, 0]\n",
      "2\n"
     ]
    },
    {
     "ename": "ValueError",
     "evalue": "5 is not in list",
     "output_type": "error",
     "traceback": [
      "\u001b[0;31m---------------------------------------------------------------------------\u001b[0m",
      "\u001b[0;31mValueError\u001b[0m                                Traceback (most recent call last)",
      "Cell \u001b[0;32mIn[1], line 50\u001b[0m\n\u001b[1;32m     47\u001b[0m \u001b[39m#Frequency of one elemnt\u001b[39;00m\n\u001b[1;32m     48\u001b[0m \u001b[39mprint\u001b[39m([\u001b[39m1\u001b[39m,\u001b[39m2\u001b[39m,\u001b[39m3\u001b[39m,\u001b[39m1\u001b[39m]\u001b[39m.\u001b[39mcount(\u001b[39m1\u001b[39m))\n\u001b[0;32m---> 50\u001b[0m \u001b[39mprint\u001b[39m([\u001b[39m1\u001b[39;49m,\u001b[39m2\u001b[39;49m,\u001b[39m3\u001b[39;49m,\u001b[39m4\u001b[39;49m]\u001b[39m.\u001b[39;49mindex(\u001b[39m5\u001b[39;49m)) \u001b[39m#THROWSERROR\u001b[39;00m\n\u001b[1;32m     52\u001b[0m \u001b[39m### SubArray's intelligence\u001b[39;00m\n\u001b[1;32m     53\u001b[0m dfdf \u001b[39m=\u001b[39m [\u001b[39m1\u001b[39m, \u001b[39m2\u001b[39m, \u001b[39m3\u001b[39m ]\n",
      "\u001b[0;31mValueError\u001b[0m: 5 is not in list"
     ]
    }
   ],
   "source": [
    "# List \n",
    "numbers = [2, 4, 6, 8, 10, 12, 14, 16, 18, 20, 22, 24, 26]\n",
    "\n",
    "#Map is exactly like list comprehension\n",
    "map_result = map(lambda x: x + x, numbers)\n",
    "#Why map? and Why not list comprehension?\n",
    "# When the function is more complicated?\n",
    "print(list(map_result))\n",
    "list_comp_result = [ele*ele for ele in numbers]\n",
    "\n",
    "#filter\n",
    "scores = ['who', 'with', 'walks', 'does', 'sample']\n",
    "filtered = filter(lambda word: word.startswith('w'), scores)\n",
    "print(list(filtered))\n",
    "four_mul = lambda num: num % 4 == 0 \n",
    "filter(four_mul, range(1970, 2000))\n",
    "\n",
    "\n",
    "#Sorting -- takes collection first, lambda next\n",
    "x = (('efg', 1), ('abc', 3), ('hij', 2))\n",
    "print(sorted(x)) # does work -- sorts by first elt\n",
    "print(sorted(x, key=lambda ele: ele[1], reverse=False))\n",
    "\n",
    "#Custom Sorting in Python\n",
    "import functools\n",
    "strs = [8308,8308,830]\n",
    "def cust_compare(a, b):\n",
    "    return -1 if a+b<=b+a else 1\n",
    "strs.sort(key= functools.cmp_to_key(cust_compare), reverse=True)\n",
    "\n",
    "#Min, max\n",
    "xyt = [['a', -1], ['b', -2]]\n",
    "print(min(xyt, key = lambda x: x[1]))\n",
    "\n",
    "#copying array\n",
    "nums = [1,2,3]\n",
    "duplicate = nums.copy()\n",
    "duplicate = nums[:]\n",
    "\n",
    "#Reversing a list\n",
    "res=\"sairam\" #reverse\n",
    "print(res[::-1])\n",
    "\n",
    "#Copy one range to another\n",
    "nums = [ 1, 2, 3, 0, 0, 0]\n",
    "nums[0:3]= nums[3:6]\n",
    "print(nums)\n",
    "\n",
    "#Frequency of one elemnt\n",
    "print([1,2,3,1].count(1))\n",
    "\n",
    "print([1,2,3,4].index(5)) #THROWSERROR\n",
    "\n",
    "### SubArray's intelligence\n",
    "dfdf = [1, 2, 3 ]\n",
    "dfdf[5:] # prints []"
   ]
  },
  {
   "cell_type": "code",
   "execution_count": 21,
   "metadata": {},
   "outputs": [
    {
     "name": "stdout",
     "output_type": "stream",
     "text": [
      "marias\n",
      "kranthi kumar\n",
      "(True, True, True)\n",
      "('0013', 'a1b2c3', '0013')\n",
      "2\n",
      "True\n",
      "-1-2-3\n"
     ]
    },
    {
     "data": {
      "text/plain": [
       "'1#2'"
      ]
     },
     "execution_count": 21,
     "metadata": {},
     "output_type": "execute_result"
    }
   ],
   "source": [
    "#Reversing a string\n",
    "res=\"sairam\" #reverse\n",
    "print(res[::-1])\n",
    "\n",
    "#cancatenate words\n",
    "words = [\"kranthi\", \" \", \"kumar\"]\n",
    "print( ''.join(words))\n",
    "\n",
    "# ASC Conversions\n",
    "chr(ord('a'))\n",
    "map(chr, range(ord('a'), ord('z')))\n",
    "\n",
    "# array1 = [1, 2, 3]\n",
    "# array2 = [10, 20, 30]\n",
    "\n",
    "# result = list(map(lambda x, y: x - y, array1, array2))\n",
    "# print(result)\n",
    "\n",
    "#Checking if string is aphabetic, alpha-numeric, digit\n",
    "print('abc'.isalpha(), 'a1b2c3'.isalnum(), '13'.isdigit())\n",
    "\n",
    "#Strip\n",
    "print(' 0013'.lstrip(), '00a1b2c3'.lstrip('0'),  '0013 '.rstrip())\n",
    "\n",
    "#Find -- multi letter unlike index()\n",
    "print('00132'.find('13')) \n",
    "\n",
    "#IN can search for subsgtrings\n",
    "print('pencil' in 'pen-pencil')\n",
    "\n",
    "#Replace\n",
    "print('#1#2#3'.replace('#', '-'))\n",
    "\n",
    "# Array to string\n",
    "'#'.join(['1','2'])"
   ]
  }
 ],
 "metadata": {
  "kernelspec": {
   "display_name": "Python 2.7.18 64-bit ('2.7.18')",
   "language": "python",
   "name": "python3"
  },
  "language_info": {
   "codemirror_mode": {
    "name": "ipython",
    "version": 2
   },
   "file_extension": ".py",
   "mimetype": "text/x-python",
   "name": "python",
   "nbconvert_exporter": "python",
   "pygments_lexer": "ipython2",
   "version": "2.7.18"
  },
  "orig_nbformat": 4,
  "vscode": {
   "interpreter": {
    "hash": "d4fb2e5c5fbd1b7ac3c45498fbe8beed7c55352b2ef39a4963899e56de0c4ffa"
   }
  }
 },
 "nbformat": 4,
 "nbformat_minor": 2
}
