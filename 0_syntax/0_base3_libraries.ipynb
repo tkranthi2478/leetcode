{
 "cells": [
  {
   "cell_type": "code",
   "execution_count": 5,
   "metadata": {},
   "outputs": [
    {
     "name": "stdout",
     "output_type": "stream",
     "text": [
      "2\n",
      "3\n",
      "4\n",
      "0\n"
     ]
    }
   ],
   "source": [
    "from bisect import bisect_left, bisect_right\n",
    " \n",
    " \n",
    "# print(bisect_left([1, 2, 10, 10, 80], 11))\n",
    "print(bisect_left([1, 2, 10, 80], 10))\n",
    "print(bisect_right([1, 2, 10, 80], 10))\n",
    "\n",
    "print(bisect_left( [(1,10), (2,20), (2,20), (3,40)] , (3,50) ))\n",
    "\n",
    "rights = [(100, 5)]\n",
    "\n",
    "insert_index = bisect_left(rights, (0, 0))\n",
    "print(insert_index)\n",
    "\n",
    "# insort ? == insert in to sorted list -- bisect.insort(1,3)"
   ]
  },
  {
   "cell_type": "code",
   "execution_count": 1,
   "metadata": {},
   "outputs": [
    {
     "name": "stdout",
     "output_type": "stream",
     "text": [
      "1\n"
     ]
    }
   ],
   "source": [
    "# File i/o\n",
    "import os\n",
    "\n",
    "\n",
    "# Append file\t\n",
    "f = open(\"/tmp/test.txt\", \"ab\").write(\"\\ntest:\")\n",
    "# Write file\t\n",
    "f = open(\"/tmp/test.txt\", \"wab\").write(\"\\ntest:\")\n",
    "# Read files\t\n",
    "f.readlines()\n",
    "# Check file\t\n",
    "os.path.exists(\"/tmp/test.txt\")"
   ]
  },
  {
   "cell_type": "code",
   "execution_count": null,
   "metadata": {},
   "outputs": [],
   "source": []
  }
 ],
 "metadata": {
  "kernelspec": {
   "display_name": "Python 2.7.18 64-bit ('2.7.18')",
   "language": "python",
   "name": "python3"
  },
  "language_info": {
   "codemirror_mode": {
    "name": "ipython",
    "version": 2
   },
   "file_extension": ".py",
   "mimetype": "text/x-python",
   "name": "python",
   "nbconvert_exporter": "python",
   "pygments_lexer": "ipython2",
   "version": "2.7.18"
  },
  "orig_nbformat": 4,
  "vscode": {
   "interpreter": {
    "hash": "d4fb2e5c5fbd1b7ac3c45498fbe8beed7c55352b2ef39a4963899e56de0c4ffa"
   }
  }
 },
 "nbformat": 4,
 "nbformat_minor": 2
}
