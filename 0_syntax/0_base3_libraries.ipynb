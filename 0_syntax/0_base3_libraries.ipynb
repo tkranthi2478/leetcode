{
 "cells": [
  {
   "cell_type": "code",
   "execution_count": null,
   "metadata": {},
   "outputs": [
    {
     "name": "stdout",
     "output_type": "stream",
     "text": [
      "None\n"
     ]
    }
   ],
   "source": [
    "from bisect import bisect_left, bisect_right\n",
    "import math\n",
    " \n",
    "\n",
    "\n",
    "### BASIC BISECTION\n",
    " \n",
    "#bisect_left  -- insert at left  most possible place while respecting monotonicity i.e. all elts lefttwards will be <(strict)\n",
    "#bisect_right -- insert at right most possible place while respecting monotonicity i.e. all elts rightwards will be >(strict)\n",
    "\n",
    "assert(bisect_left([1, 2, 2, 80], 2)==1)\n",
    "assert(bisect_right([1, 2, 2, 80], 2)==3)\n",
    "assert(bisect_right([0, 1, 1, 3, 4], 0)==1)\n",
    "assert(bisect_right([0, 2, 3, 3, 4], 1)==1)\n",
    "\n",
    "\n",
    "arr = [1, 3, 4, 6, 8, 9]\n",
    "# Max element less than given element\n",
    "elt = 5\n",
    "index = bisect_left(arr, elt) - 1\n",
    "max_less_than = arr[index] if index >= 0 else None\n",
    "\n",
    "# Min element less than given element\n",
    "elt = 5\n",
    "index = bisect_right(arr, elt)\n",
    "min_greater_than = arr[index] if index < len(arr) else None\n",
    "print(min_greater_than)  # Output: 6\n",
    "\n",
    "\n",
    "#BISECTION ∞ trick\n",
    "# Question? \n",
    "# Find the smallest element th\n",
    "\n",
    "\n",
    "# end, start --- tuples\n",
    "# sort order is end_time\n",
    "# Find the index of earliest interval with end_time less than k\n",
    "k = 10\n",
    "ind = bisect_left( [ (10, 5), (20,0), (30,4)] , (k, math.inf) ) - 1\n",
    "\n",
    "rights = [(100, 5)]\n",
    "\n",
    "insert_index = bisect_left(rights, (0, 0))\n",
    "assert(insert_index==0)\n",
    "\n",
    "\n",
    "# INSERT = bisect_right + Insert in a Sorted Array\n",
    "import bisect\n",
    "print(bisect.insort([1,2],3)) #o(n) complexity due to insertion\n"
   ]
  },
  {
   "cell_type": "code",
   "execution_count": 1,
   "metadata": {},
   "outputs": [
    {
     "name": "stdout",
     "output_type": "stream",
     "text": [
      "1\n"
     ]
    }
   ],
   "source": [
    "# File i/o\n",
    "import os\n",
    "\n",
    "\n",
    "# Append file\t\n",
    "f = open(\"/tmp/test.txt\", \"ab\").write(\"\\ntest:\")\n",
    "# Write file\t\n",
    "f = open(\"/tmp/test.txt\", \"wab\").write(\"\\ntest:\")\n",
    "# Read files\t\n",
    "f.readlines()\n",
    "# Check file\t\n",
    "os.path.exists(\"/tmp/test.txt\")"
   ]
  },
  {
   "cell_type": "code",
   "execution_count": null,
   "metadata": {},
   "outputs": [],
   "source": []
  }
 ],
 "metadata": {
  "kernelspec": {
   "display_name": "Python 3.9.6 64-bit",
   "language": "python",
   "name": "python3"
  },
  "language_info": {
   "codemirror_mode": {
    "name": "ipython",
    "version": 3
   },
   "file_extension": ".py",
   "mimetype": "text/x-python",
   "name": "python",
   "nbconvert_exporter": "python",
   "pygments_lexer": "ipython3",
   "version": "3.9.6"
  },
  "orig_nbformat": 4,
  "vscode": {
   "interpreter": {
    "hash": "31f2aee4e71d21fbe5cf8b01ff0e069b9275f58929596ceb00d14d90e3e16cd6"
   }
  }
 },
 "nbformat": 4,
 "nbformat_minor": 2
}
