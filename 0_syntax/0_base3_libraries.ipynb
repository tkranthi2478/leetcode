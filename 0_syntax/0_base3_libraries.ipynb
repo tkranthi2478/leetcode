{
 "cells": [
  {
   "cell_type": "code",
   "execution_count": 19,
   "metadata": {},
   "outputs": [
    {
     "name": "stdout",
     "output_type": "stream",
     "text": [
      "None\n"
     ]
    }
   ],
   "source": [
    "from bisect import bisect_left, bisect_right\n",
    "import math\n",
    " \n",
    "\n",
    "\n",
    "### BASIC BISECTION\n",
    " \n",
    "#bisect_left -- all elts left are strictly lesser -- doesnt care about right\n",
    "#bisect_right -- all elts right are strictly greater\n",
    "# left's value is equal if target  exiss\n",
    "# right's value is just above even if value exists\n",
    "assert(bisect_left([1, 2, 2, 80], 2)==1)\n",
    "assert(bisect_right([1, 2, 2, 80], 2)==3)\n",
    "assert( bisect_right([0, 1, 1, 3, 4], 0)==1)\n",
    "\n",
    "\n",
    "#BISECTION ∞ trick\n",
    "# end, start --- tuples\n",
    "# sort order is end_time\n",
    "# Find the index of earliest interval with end_time less than k\n",
    "k = 10\n",
    "ind = bisect_left( [ (10,5), (20,0), (30,4)] , (k, math.inf) ) - 1\n",
    "\n",
    "rights = [(100, 5)]\n",
    "\n",
    "insert_index = bisect_left(rights, (0, 0))\n",
    "assert(insert_index==0)\n",
    "\n",
    "\n",
    "# INSERT = Binary Search + Insert in a Sorted Array\n",
    "import bisect\n",
    "print(bisect.insort([1,2],3)) #o(n) complexity\n",
    "# Is Insert Bisect Left or Right? --  Right"
   ]
  },
  {
   "cell_type": "code",
   "execution_count": 1,
   "metadata": {},
   "outputs": [
    {
     "name": "stdout",
     "output_type": "stream",
     "text": [
      "1\n"
     ]
    }
   ],
   "source": [
    "# File i/o\n",
    "import os\n",
    "\n",
    "\n",
    "# Append file\t\n",
    "f = open(\"/tmp/test.txt\", \"ab\").write(\"\\ntest:\")\n",
    "# Write file\t\n",
    "f = open(\"/tmp/test.txt\", \"wab\").write(\"\\ntest:\")\n",
    "# Read files\t\n",
    "f.readlines()\n",
    "# Check file\t\n",
    "os.path.exists(\"/tmp/test.txt\")"
   ]
  },
  {
   "cell_type": "code",
   "execution_count": 5,
   "metadata": {},
   "outputs": [
    {
     "data": {
      "text/plain": [
       "3"
      ]
     },
     "execution_count": 5,
     "metadata": {},
     "output_type": "execute_result"
    }
   ],
   "source": [
    "# ask time how longbefore the coding question is asked\n",
    "def hand(n, a,  formations): \n",
    "    #before position = a we have to compute and finalize who wins \n",
    "    for i in range(a-1):\n",
    "        rp = formations[i] == 'R' and formations[i+1] == 'P'\n",
    "        ps = formations[i] == 'P' and formations[i+1] == 'S'\n",
    "        sr = formations[i] == 'S' and formations[i+1] == 'R'\n",
    "        if not (rp or ps or sr):\n",
    "            formations[i+1] = formations[i] #i is winnig agianst i+1 as rock loses to paper ...\n",
    "    cur, res = None, 0\n",
    "    #after the left is evaluated we have to keep winning against each right player \n",
    "    # he also has to win against current left\n",
    "    for i in range(a-1,n-1):\n",
    "        if formations[i] == 'R':\n",
    "            req = 'P'\n",
    "        elif formations[i]  == 'P':\n",
    "            req = 'S'\n",
    "        else:\n",
    "            req = 'R'\n",
    "        if req!= cur:\n",
    "            res += 1\n",
    "    return res\n",
    "\n",
    "hand(4,1,'PRS')\n",
    "    \n",
    "\n"
   ]
  },
  {
   "cell_type": "code",
   "execution_count": null,
   "metadata": {},
   "outputs": [],
   "source": []
  }
 ],
 "metadata": {
  "kernelspec": {
   "display_name": "Python 3.9.6 64-bit",
   "language": "python",
   "name": "python3"
  },
  "language_info": {
   "codemirror_mode": {
    "name": "ipython",
    "version": 3
   },
   "file_extension": ".py",
   "mimetype": "text/x-python",
   "name": "python",
   "nbconvert_exporter": "python",
   "pygments_lexer": "ipython3",
   "version": "3.9.6"
  },
  "orig_nbformat": 4,
  "vscode": {
   "interpreter": {
    "hash": "31f2aee4e71d21fbe5cf8b01ff0e069b9275f58929596ceb00d14d90e3e16cd6"
   }
  }
 },
 "nbformat": 4,
 "nbformat_minor": 2
}
