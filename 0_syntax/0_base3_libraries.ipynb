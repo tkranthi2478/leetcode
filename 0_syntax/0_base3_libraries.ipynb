{
 "cells": [
  {
   "cell_type": "code",
   "execution_count": 7,
   "metadata": {},
   "outputs": [
    {
     "name": "stdout",
     "output_type": "stream",
     "text": [
      "4\n",
      "5\n",
      "kranthi 1\n",
      "0\n",
      "None\n"
     ]
    }
   ],
   "source": [
    "from bisect import bisect_left, bisect_right\n",
    "import math\n",
    " \n",
    " \n",
    "#bisect_left -- all elts left are lesser\n",
    "#bisect_right -- all elts right are greater\n",
    "print(bisect_left([1, 2, 2, 2, 10, 80], 10))\n",
    "print(bisect_right([1, 2, 2, 2, 10, 80], 10))\n",
    "\n",
    "print(\"kranthi\", bisect_right([0, 1, 1, 3, 4], 0))\n",
    "#bisection ∞ trick\n",
    "# end, start --- tuples\n",
    "# sort order is end_time\n",
    "# Find the index of earliest interval with end_time less than k\n",
    "k = 10\n",
    "ind = bisect_left( [ (10,5), (20,0), (30,4)] , (k, math.inf) ) - 1\n",
    "\n",
    "rights = [(100, 5)]\n",
    "\n",
    "insert_index = bisect_left(rights, (0, 0))\n",
    "print(insert_index)\n",
    "\n",
    "# insort ? == insert in to sorted list -- bisect.insort(1,3)\n",
    "import bisect\n",
    "print(bisect.insort([1,2],3)) #o(n) complexity"
   ]
  },
  {
   "cell_type": "code",
   "execution_count": 1,
   "metadata": {},
   "outputs": [
    {
     "name": "stdout",
     "output_type": "stream",
     "text": [
      "1\n"
     ]
    }
   ],
   "source": [
    "# File i/o\n",
    "import os\n",
    "\n",
    "\n",
    "# Append file\t\n",
    "f = open(\"/tmp/test.txt\", \"ab\").write(\"\\ntest:\")\n",
    "# Write file\t\n",
    "f = open(\"/tmp/test.txt\", \"wab\").write(\"\\ntest:\")\n",
    "# Read files\t\n",
    "f.readlines()\n",
    "# Check file\t\n",
    "os.path.exists(\"/tmp/test.txt\")"
   ]
  },
  {
   "cell_type": "code",
   "execution_count": null,
   "metadata": {},
   "outputs": [],
   "source": []
  }
 ],
 "metadata": {
  "kernelspec": {
   "display_name": "Python 3.9.6 64-bit",
   "language": "python",
   "name": "python3"
  },
  "language_info": {
   "codemirror_mode": {
    "name": "ipython",
    "version": 3
   },
   "file_extension": ".py",
   "mimetype": "text/x-python",
   "name": "python",
   "nbconvert_exporter": "python",
   "pygments_lexer": "ipython3",
   "version": "3.9.6"
  },
  "orig_nbformat": 4,
  "vscode": {
   "interpreter": {
    "hash": "31f2aee4e71d21fbe5cf8b01ff0e069b9275f58929596ceb00d14d90e3e16cd6"
   }
  }
 },
 "nbformat": 4,
 "nbformat_minor": 2
}
