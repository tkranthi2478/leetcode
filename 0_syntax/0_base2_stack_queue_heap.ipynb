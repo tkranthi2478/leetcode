{
 "cells": [
  {
   "cell_type": "code",
   "execution_count": 1,
   "metadata": {},
   "outputs": [],
   "source": [
    "# Heaps aka pqueue      -- Available in Python as heapq\n",
    "# Linked List -- N/A in Python\n",
    "# Stack       -- Use Deque\n",
    "# Queue       -- Use Deque\n"
   ]
  },
  {
   "cell_type": "code",
   "execution_count": 5,
   "metadata": {},
   "outputs": [
    {
     "name": "stdout",
     "output_type": "stream",
     "text": [
      "(1, 'a')\n",
      "min::  (2, 'b')\n",
      "(2, 'b')\n"
     ]
    }
   ],
   "source": [
    "#Priority Queue\n",
    "import heapq\n",
    "min_heap = [(1, 'a'), (2,'b')]\n",
    "#CAUTION: if init heap is [] we don't need to heapify\n",
    "heapq.heapify(min_heap)  \n",
    "print(heapq.heappop(min_heap))\n",
    "heapq.heappush(min_heap, (3, 'c')) \n",
    "print(\"min:: \", min_heap[0]) #works but not written in documentatino\n",
    "print(\"min:: \", heapq.nsmallest(1, min_heap)[0]) #strange function that gives first elment\n",
    "print(heapq.heappop(min_heap)) \n"
   ]
  },
  {
   "cell_type": "code",
   "execution_count": null,
   "metadata": {},
   "outputs": [
    {
     "name": "stdout",
     "output_type": "stream",
     "text": [
      "deque([6, 1, 2, 3, 4])\n",
      "deque([6, 1, 2, 3])\n",
      "4\n",
      "3\n",
      "[1, 2]\n"
     ]
    }
   ],
   "source": [
    "# Stack, Queue\n",
    "from collections import deque\n",
    "#for python stack/queu ~ array\n",
    "\n",
    "\n",
    "# stack \n",
    " \n",
    "# iniializing deque\n",
    "de = deque([1, 2, 3])\n",
    "de.append(4)\n",
    "de.appendleft(6)\n",
    "print(de)\n",
    "de.pop()#pops from right by default just like normal list\n",
    "\n",
    "print(de)\n",
    "print(len(de))\n",
    "print(de[-1])\n",
    "\n",
    "pen = [1,2,3]\n",
    "pen.pop()\n",
    "\n",
    "\n",
    "#Note that deque inserts take O(n) time if needed to be done at random indices\n",
    "\n"
   ]
  },
  {
   "cell_type": "code",
   "execution_count": null,
   "metadata": {},
   "outputs": [],
   "source": []
  }
 ],
 "metadata": {
  "kernelspec": {
   "display_name": "Python 3.10.9 64-bit",
   "language": "python",
   "name": "python3"
  },
  "language_info": {
   "codemirror_mode": {
    "name": "ipython",
    "version": 3
   },
   "file_extension": ".py",
   "mimetype": "text/x-python",
   "name": "python",
   "nbconvert_exporter": "python",
   "pygments_lexer": "ipython3",
   "version": "3.10.9"
  },
  "orig_nbformat": 4,
  "vscode": {
   "interpreter": {
    "hash": "bd385fe162c5ca0c84973b7dd5c518456272446b2b64e67c2a69f949ca7a1754"
   }
  }
 },
 "nbformat": 4,
 "nbformat_minor": 2
}
