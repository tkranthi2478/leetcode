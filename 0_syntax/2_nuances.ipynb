{
 "cells": [
  {
   "cell_type": "code",
   "execution_count": 5,
   "metadata": {},
   "outputs": [],
   "source": [
    "# Modificcation = Pass by value \n",
    "# Reassignment  = Pass by Reference\n",
    "\n",
    "\n",
    "def understand_pass():\n",
    "    x = [1,2]\n",
    "    reassign(x)\n",
    "    assert(x == [1,2]) #ressignment is lost after scope\n",
    "    modify(x)\n",
    "    assert(x == [3,4]) #modification's persist after scope \n",
    "\n",
    "\n",
    "def reassign(x):\n",
    "    assert(x == [1,2])\n",
    "    x = [3, 4]\n",
    "    assert(x == [3,4])\n",
    "\n",
    "def modify(x):\n",
    "    assert(x==[1,2])\n",
    "    x.pop()\n",
    "    x.pop()\n",
    "    x.append(3)\n",
    "    x.append(4)\n",
    "    assert(x==[3,4])\n",
    "\n",
    "\n",
    "understand_pass()\n",
    "\n",
    "x = [1,1]\n",
    "\n",
    "\n",
    "# Conclusion -- No assginments persist during a function execution\n",
    "# if you want to modify a variable during executoin -- declare it as a class variable"
   ]
  },
  {
   "cell_type": "code",
   "execution_count": null,
   "metadata": {},
   "outputs": [],
   "source": [
    "# Reference Identity Check\n",
    "print([1, 2] is [1, 2]) \n",
    "# Deep equality works for inbuilt Objects even when nested\n",
    "print([[1, 2], [3, 4]] == [[1, 2], [3, 4]])  # False, different objects\n",
    "# Shallow Equality -- not a concern\n",
    "# For custom objects, you need to implement __eq__ and __hash__ methods\n",
    "# to make them hashable and comparable"
   ]
  },
  {
   "cell_type": "code",
   "execution_count": null,
   "metadata": {},
   "outputs": [
    {
     "name": "stdout",
     "output_type": "stream",
     "text": [
      "2.5\n",
      "2\n",
      "2.5\n",
      "2.0\n",
      "8\n",
      "1\n"
     ]
    },
    {
     "data": {
      "text/plain": [
       "-20"
      ]
     },
     "execution_count": 1,
     "metadata": {},
     "output_type": "execute_result"
    }
   ],
   "source": [
    "# Mathematics\n",
    "\n",
    "x = 1\n",
    "y = 3\n",
    "\n",
    "print(5/2) #gives float division\n",
    "print(5//2)\n",
    "# // gives floor division\n",
    "\n",
    "print(5.0/2)\n",
    "print(5.0//2)\n",
    "\n",
    "from math import ceil\n",
    "ceil(x*1.0/y)\n",
    "\n",
    "\n",
    "#Add leading zeros\n",
    "print(2**3)\n",
    "format(12, \"03d\")\n",
    "\n",
    "\n",
    "import random\n",
    "\n",
    "print(random.randint(1,2))\n",
    "\n",
    "\n",
    "#eval \n",
    "eval(\"2-11*2\")\n",
    "\n",
    "\n"
   ]
  },
  {
   "cell_type": "code",
   "execution_count": null,
   "metadata": {},
   "outputs": [],
   "source": [
    "x = [[0] * 4 ] * 5 #wrong - same var 4 times\n",
    "x = [[0] * 4 for _ in range(5)] * 5 #correct \n"
   ]
  },
  {
   "cell_type": "code",
   "execution_count": null,
   "metadata": {},
   "outputs": [
    {
     "name": "stdout",
     "output_type": "stream",
     "text": [
      "8\n"
     ]
    }
   ],
   "source": [
    "# Binary Expressions\n",
    "\n",
    "a, b = 8, 2\n",
    "a = 0b1000\n",
    "print(a)\n",
    "a_bin = bin(a)\n",
    "print(bin(2)[2:])\n",
    "# assert( a == 0b1000)\n",
    "\n",
    "# Memorize \n",
    "# 16 - 10000\n",
    "# 8  -  1000\n",
    "# 4  -   100\n",
    "# 2  -    10\n",
    "# 1  -     1\n",
    "\n",
    "# Bitwise or and Direct or not the same -- both operate on the \n",
    "assert( 8|2 == 10) #bitwise or\n",
    "assert( 8 & 2 == 0) # bitwise and\n",
    "# Not so meaningful\n",
    "assert( 8 or 6 == 8) #first matching bit\n",
    "assert( 8 and 2 == 2) # second value if first value is truthy\n",
    "\n",
    "\n",
    "# Shift Operators -- Truncate the bits on right side\n",
    "# Right Shift\n",
    "assert(17 >> 3 == 2) # 2\n",
    "assert(0b10001 >> 3 == 0b10) # 10\n",
    "\n",
    "# Left Shift -- Multiply by 2 power or add 0 bits\n",
    "assert(0b10001 << 3 == 0b10001000) # 10001000\n",
    "assert(17 << 3 == 17*(2**3)) \n",
    "\n",
    "# x & x -1 -- Clear the lowest set bit i.e. convert 1 to 0\n",
    "# Think of Why\n",
    "x = 0b10101\n",
    "x = x & (x - 1)\n",
    "assert(x == 0b10100) # 20\n",
    "x = x & (x - 1)\n",
    "assert(x == 0b10000) # 16\n",
    "x = x & (x - 1)\n",
    "assert(x == 0b00000) # 0\n",
    "\n",
    "# x & x+1 -- Set the lowest unset bit i.e. convert 0 to 1\n",
    "x = 0b10100\n",
    "x = x | (x + 1)\n",
    "assert(x == 0b10101) \n",
    "x = x | (x + 1)\n",
    "assert(x == 0b10111)\n",
    "x = x | (x + 1)\n",
    "assert(x == 0b11111)\n",
    "x = x | (x + 1)\n",
    "\n",
    "# x & -x -- Get the lowest set bit in 2 power terms\n",
    "x = 0b10101\n",
    "assert(x & -x == 0b00001) # 1\n",
    "x = 0b10100\n",
    "assert(x & -x == 0b00100) # 4\n",
    "x = 0b10000\n",
    "assert(x & -x == 0b10000) # 16\n",
    "\n",
    "# ~ x -- Invert the bits\n",
    "x = 0b10101\n",
    "assert(~x == -0b10110) # -26\n",
    "\n",
    "# Binar Operators\n",
    "# x | y -- Bitwise OR\n",
    "# x & y -- Bitwise AND\n",
    "# x ^ y -- Bitwise XOR\n",
    "# x << y -- Left Shift\n",
    "# x >> y -- Right Shift\n",
    "# x ^ y -- Bitwise XOR      -- x ^ y == (x | y) & ~(x & y)\n",
    "# Property of XOR:  it can be used to swap two numbers without a temporary variable\n",
    "# x ^ x == 0\n",
    "# x ^ 0 == x\n",
    "# x ^ y ^ y == x\n",
    "# x ^ y ^ x == y\n",
    "# x ^ y ^ z == x ^ (y ^ z) == (x ^ y) ^ z -- Associative\n",
    "# x ^ y == y ^ x -- Commutative\n",
    "# x ^ y == 0 if x == y\n",
    "# x ^ y == 1 if x != y\n",
    "# x ^ y == 1 if x != y\n",
    "# x ^ y == 0 if x == y\n",
    "\n",
    "\n",
    "\n"
   ]
  }
 ],
 "metadata": {
  "kernelspec": {
   "display_name": "Python 3",
   "language": "python",
   "name": "python3"
  },
  "language_info": {
   "codemirror_mode": {
    "name": "ipython",
    "version": 3
   },
   "file_extension": ".py",
   "mimetype": "text/x-python",
   "name": "python",
   "nbconvert_exporter": "python",
   "pygments_lexer": "ipython3",
   "version": "3.10.18"
  },
  "orig_nbformat": 4
 },
 "nbformat": 4,
 "nbformat_minor": 2
}
