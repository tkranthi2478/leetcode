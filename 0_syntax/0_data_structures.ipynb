{
 "cells": [
  {
   "cell_type": "markdown",
   "metadata": {},
   "source": [
    "1. [Hashmap/Dict](#Hashmap)              -- 3 Variations Dict, DefaultDict, Counter\n",
    "2. [Set](#Set)                    -- Only works on hashable typ\n",
    "3. [List](#List)                    -- Exactly Like array\n",
    "4. [Deque](#Deque) (Linked List/Stack/Queue)  -- Has Left, Right \n",
    "5. [Heap](#Heap) aka pqueue        -- Available in Python as heapq\n"
   ]
  },
  {
   "cell_type": "markdown",
   "metadata": {},
   "source": [
    "# Hashmap"
   ]
  },
  {
   "cell_type": "code",
   "execution_count": null,
   "metadata": {},
   "outputs": [
    {
     "name": "stdout",
     "output_type": "stream",
     "text": [
      "2\n",
      "a <built-in method get of dict object at 0x10643ed80>\n",
      "b <built-in method get of dict object at 0x10643ed80>\n",
      "a 2\n",
      "b -1\n",
      "2\n",
      "Counter({'k': 2, 'r': 2, 'a': 2, 'n': 1, 't': 1, 'h': 1, 'i': 1, 'u': 1, 'm': 1})\n",
      "Counter({'red': 3, 'apple': 2, 'pear': 1})\n"
     ]
    }
   ],
   "source": [
    "\n",
    "dict = {1:2, 2:-1} # Defintion\n",
    "print(len(dict))\n",
    "dict.clear() #deletes everything\n",
    "\n",
    "# Key of  Value \n",
    "dict = {'a':2, 'b':-1}\n",
    "min_key = min(dict, key=dict.get)\n",
    "\n",
    "for x in dict:\n",
    "    print(x, dict.get)\n",
    "\n",
    "# Iteration of key, val simultaneously\n",
    "for key, val in dict.items():\n",
    "    print(key, val)\n",
    "\n",
    "#Removing Item\n",
    "del dict[min_key]\n",
    "\n",
    "#Default Dict\n",
    "from collections import defaultdict \n",
    "x = defaultdict( lambda : 1)\n",
    "\n",
    "#Default Dict Alternative -- get, pop safely\n",
    "no_error_dict = {}\n",
    "key = '1'\n",
    "no_error_dict[key] = no_error_dict.get(key, 0) + 1\n",
    "print(dict.pop(key, 2))\n",
    "\n",
    "\n",
    "# Counter Dict\n",
    "from collections import Counter\n",
    "answer = Counter(['apple','red','apple','red','red','pear'])\n",
    "print(Counter('kranthikumar'))\n",
    "print(answer)\n",
    "\n",
    "# Ordered Dict\n",
    "from collections import OrderedDict\n",
    "\n",
    "d = OrderedDict()\n",
    "d['banana'] = 3\n",
    "d['apple'] = 4\n",
    "d['pear'] = 1\n",
    "print(d)  # Maintains insertion order, not sorted\n"
   ]
  },
  {
   "cell_type": "markdown",
   "metadata": {},
   "source": [
    "# Set"
   ]
  },
  {
   "cell_type": "code",
   "execution_count": 18,
   "metadata": {},
   "outputs": [],
   "source": [
    "#Set\n",
    "set_1 = {1,2}\n",
    "empty_set = set()\n",
    "set_1.add(2)\n",
    "set_1.discard(1) #will not through error like remove\n",
    "# intersection, union, remove, issubset"
   ]
  },
  {
   "cell_type": "markdown",
   "metadata": {},
   "source": [
    "# List"
   ]
  },
  {
   "cell_type": "code",
   "execution_count": null,
   "metadata": {},
   "outputs": [
    {
     "name": "stdout",
     "output_type": "stream",
     "text": [
      "[('abc', 3), ('efg', 1), ('hij', 2)]\n",
      "[('efg', 1), ('hij', 2), ('abc', 3)]\n",
      "['b', -2]\n",
      "marias\n",
      "[0, 0, 0, 0, 0, 0]\n",
      "2\n"
     ]
    },
    {
     "ename": "ValueError",
     "evalue": "5 is not in list",
     "output_type": "error",
     "traceback": [
      "\u001b[0;31m---------------------------------------------------------------------------\u001b[0m",
      "\u001b[0;31mValueError\u001b[0m                                Traceback (most recent call last)",
      "Cell \u001b[0;32mIn[15], line 48\u001b[0m\n\u001b[1;32m     45\u001b[0m \u001b[38;5;66;03m#Frequency of one elemnt\u001b[39;00m\n\u001b[1;32m     46\u001b[0m \u001b[38;5;28mprint\u001b[39m([\u001b[38;5;241m1\u001b[39m,\u001b[38;5;241m2\u001b[39m,\u001b[38;5;241m3\u001b[39m,\u001b[38;5;241m1\u001b[39m]\u001b[38;5;241m.\u001b[39mcount(\u001b[38;5;241m1\u001b[39m))\n\u001b[0;32m---> 48\u001b[0m \u001b[38;5;28mprint\u001b[39m(\u001b[43m[\u001b[49m\u001b[38;5;241;43m1\u001b[39;49m\u001b[43m,\u001b[49m\u001b[38;5;241;43m2\u001b[39;49m\u001b[43m,\u001b[49m\u001b[38;5;241;43m3\u001b[39;49m\u001b[43m,\u001b[49m\u001b[38;5;241;43m4\u001b[39;49m\u001b[43m]\u001b[49m\u001b[38;5;241;43m.\u001b[39;49m\u001b[43mindex\u001b[49m\u001b[43m(\u001b[49m\u001b[38;5;241;43m5\u001b[39;49m\u001b[43m)\u001b[49m) \u001b[38;5;66;03m#THROWSERROR\u001b[39;00m\n\u001b[1;32m     50\u001b[0m \u001b[38;5;66;03m### SubArray's intelligence\u001b[39;00m\n\u001b[1;32m     51\u001b[0m dfdf \u001b[38;5;241m=\u001b[39m [\u001b[38;5;241m1\u001b[39m, \u001b[38;5;241m2\u001b[39m, \u001b[38;5;241m3\u001b[39m ]\n",
      "\u001b[0;31mValueError\u001b[0m: 5 is not in list"
     ]
    }
   ],
   "source": [
    "# List \n",
    "numbers = [2, 4, 6, 8, 10, 12, 14, 16, 18, 20, 22, 24, 26]\n",
    "\n",
    "#Map is exactly like list comprehension\n",
    "doubles = list(map(lambda x: x + x, numbers))\n",
    "list_comp_result = [x*x for x in numbers]\n",
    "\n",
    "#filter\n",
    "scores = ['who', 'with', 'walks', 'does', 'sample']\n",
    "filtered = list(filter(lambda word: word.startswith('w'), scores))\n",
    "four_mul = lambda num: num % 4 == 0 \n",
    "filter(four_mul, range(1970, 2000))\n",
    "\n",
    "\n",
    "#Sorting -- takes collection first, lambda next\n",
    "x = (('efg', 1), ('abc', 3), ('hij', 2))\n",
    "print(sorted(x)) # does work -- sorts by first elt\n",
    "print(sorted(x, key=lambda y: y[1], reverse=False))\n",
    "\n",
    "#Custom Sorting in Python\n",
    "import functools\n",
    "strs = [\"8308\",\"8308\",\"830\"]\n",
    "def cust_compare(a, b):\n",
    "    return -1 if a+b<=b+a else 1\n",
    "strs.sort(key= functools.cmp_to_key(cust_compare), reverse=True)\n",
    "\n",
    "#Min, max\n",
    "xyt = [['a', -1], ['b', -2]]\n",
    "print(min(xyt, key = lambda x: x[1]))\n",
    "\n",
    "#copying array\n",
    "nums = [1,2,3]\n",
    "duplicate = nums.copy()\n",
    "duplicate = nums[:]\n",
    "\n",
    "#Reversing a list\n",
    "res=\"sairam\" #reverse\n",
    "print(res[::-1])\n",
    "\n",
    "# Popping from a list -- -1 is default i.e. right most element\n",
    "list = [1, 2, 3, 4, 5]\n",
    "list.pop()  # pops from right by default just like normal list\n",
    "print(list)\n",
    "list.pop(0)  # pops from left\n",
    "print(list)\n",
    "\n",
    "\n",
    "#Copy one range to another\n",
    "nums = [ 1, 2, 3, 0, 0, 0]\n",
    "nums[0:3]= nums[3:6]\n",
    "print(nums)\n",
    "\n",
    "#Frequency of one elemnt\n",
    "print([1,2,3,1].count(1))\n",
    "\n",
    "print([1,2,3,4].index(5)) #THROWSERROR\n",
    "\n",
    "### SubArray's intelligence\n",
    "dfdf = [1, 2, 3 ]\n",
    "dfdf[5:] # prints []"
   ]
  },
  {
   "cell_type": "markdown",
   "metadata": {},
   "source": [
    "# Strings"
   ]
  },
  {
   "cell_type": "code",
   "execution_count": 21,
   "metadata": {},
   "outputs": [
    {
     "name": "stdout",
     "output_type": "stream",
     "text": [
      "marias\n",
      "kranthi kumar\n",
      "(True, True, True)\n",
      "('0013', 'a1b2c3', '0013')\n",
      "2\n",
      "True\n",
      "-1-2-3\n"
     ]
    },
    {
     "data": {
      "text/plain": [
       "'1#2'"
      ]
     },
     "execution_count": 2,
     "metadata": {},
     "output_type": "execute_result"
    }
   ],
   "source": [
    "#Reversing a string\n",
    "res=\"sairam\" #reverse\n",
    "print(res[::-1])\n",
    "\n",
    "#cancatenate words\n",
    "words = [\"kranthi\", \" \", \"kumar\"]\n",
    "print( ''.join(words))\n",
    "\n",
    "# ASC Conversions\n",
    "chr(ord('a'))\n",
    "map(chr, range(ord('a'), ord('z')))\n",
    "\n",
    "# array1 = [1, 2, 3]\n",
    "# array2 = [10, 20, 30]\n",
    "\n",
    "# result = list(map(lambda x, y: x - y, array1, array2))\n",
    "# print(result)\n",
    "\n",
    "#Checking if string is aphabetic, alpha-numeric, digit\n",
    "print('abc'.isalpha(), 'a1b2c3'.isalnum(), '13'.isdigit())\n",
    "\n",
    "#Strip\n",
    "print(' 0013'.lstrip(), '00a1b2c3'.lstrip('0'),  '0013 '.rstrip())\n",
    "\n",
    "#Find -- multi letter unlike index()\n",
    "print('00132'.find('13')) \n",
    "\n",
    "#IN can search for subsgtrings\n",
    "print('pencil' in 'pen-pencil')\n",
    "\n",
    "#Replace\n",
    "print('#1#2#3'.replace('#', '-'))\n",
    "\n",
    "# Array to string\n",
    "'#'.join(['1','2'])"
   ]
  },
  {
   "cell_type": "markdown",
   "metadata": {},
   "source": [
    "# Deque"
   ]
  },
  {
   "cell_type": "code",
   "execution_count": null,
   "metadata": {},
   "outputs": [],
   "source": [
    "# Stack, Queue\n",
    "from collections import deque\n",
    "#for python stack/queu ~ array\n",
    "\n",
    "\n",
    "# stack \n",
    " \n",
    "# iniializing deque\n",
    "de = deque([1, 2, 3])\n",
    "de.append(4)\n",
    "de.appendleft(6)\n",
    "print(de)\n",
    "de.pop()#pops from right by default just like normal list\n",
    "\n",
    "print(de)\n",
    "print(len(de))\n",
    "print(de[-1])\n",
    "\n",
    "pen = [1,2,3]\n",
    "pen.pop()\n",
    "\n",
    "#Note that deque inserts take O(n) time if needed to be done at random indices"
   ]
  },
  {
   "cell_type": "markdown",
   "metadata": {},
   "source": [
    "# Heap"
   ]
  },
  {
   "cell_type": "code",
   "execution_count": null,
   "metadata": {},
   "outputs": [],
   "source": [
    "#Priority Queue\n",
    "import heapq\n",
    "min_heap = [(1, 'a'), (2,'b')]\n",
    "#CAUTION: if init heap is [] we don't need to heapify\n",
    "heapq.heapify(min_heap)  \n",
    "print(heapq.heappop(min_heap))\n",
    "heapq.heappush(min_heap, (3, 'c')) \n",
    "print(\"min:: \", min_heap[0]) #works but not written in documentatino\n",
    "print(\"min:: \", heapq.nsmallest(1, min_heap)[0]) #strange function that gives first elment\n",
    "print(heapq.heappop(min_heap)) \n"
   ]
  }
 ],
 "metadata": {
  "kernelspec": {
   "display_name": "Python 3",
   "language": "python",
   "name": "python3"
  },
  "language_info": {
   "codemirror_mode": {
    "name": "ipython",
    "version": 3
   },
   "file_extension": ".py",
   "mimetype": "text/x-python",
   "name": "python",
   "nbconvert_exporter": "python",
   "pygments_lexer": "ipython3",
   "version": "3.10.18"
  },
  "orig_nbformat": 4
 },
 "nbformat": 4,
 "nbformat_minor": 2
}
