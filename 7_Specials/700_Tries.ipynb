{
 "cells": [
  {
   "cell_type": "code",
   "execution_count": null,
   "metadata": {},
   "outputs": [],
   "source": [
    "class Trie:\n",
    "    def __init__(self):\n",
    "        self.root = {}\n",
    "\n",
    "        def insert(self, word):\n",
    "            cur = self.root\n",
    "            for letter in word:\n",
    "                if letter not in cur:\n",
    "                    cur[letter] = {}\n",
    "                cur = cur[letter]\n",
    "            cur['*'] = ''\n",
    "\n",
    "    def search(self, word):\n",
    "        cur = self.root\n",
    "        for letter in word:\n",
    "            if letter not in cur:\n",
    "                return False\n",
    "            cur = cur[letter]\n",
    "        return '*' in cur\n",
    "        \n",
    "    def startsWith(self, prefix):\n",
    "        cur = self.root\n",
    "        for letter in prefix:\n",
    "            if letter not in cur:\n",
    "                return False\n",
    "            cur = cur[letter]\n",
    "        return True\n",
    "\n",
    "trte = Trie()\n",
    "words = [\"apple\", \"apped\", \"appled\"]\n",
    "for word in words:\n",
    "    trte.insert(word)"
   ]
  },
  {
   "cell_type": "code",
   "execution_count": null,
   "metadata": {},
   "outputs": [],
   "source": [
    "# https://leetcode.com/problems/find-the-length-of-the-longest-common-prefix/description/\n",
    "def longestCommonPrefix(arr1, arr2):\n",
    "        root = {}\n",
    "        for num in arr1:\n",
    "            cur = root\n",
    "            for char in str(num):\n",
    "                if char not in cur:\n",
    "                    cur[char] = {}\n",
    "                cur = cur[char]\n",
    "        max_len = 0\n",
    "        for num in arr2:\n",
    "            cur = root\n",
    "            i = 0\n",
    "            for char in str(num):\n",
    "                if char in cur:\n",
    "                    cur = cur[char]\n",
    "                    i+=1\n",
    "                else:\n",
    "                    break\n",
    "            max_len = max(max_len, i)\n",
    "        return max_len"
   ]
  },
  {
   "cell_type": "code",
   "execution_count": null,
   "metadata": {},
   "outputs": [],
   "source": [
    "# https://leetcode.com/problems/design-add-and-search-words-data-structure/description/\n",
    "\n",
    "class WordDictionary:\n",
    "\n",
    "    def __init__(self):\n",
    "        self.root = {}\n",
    "        \n",
    "    def addWord(self, word: str) -> None:\n",
    "        cur = self.root\n",
    "        for char in word:\n",
    "            if char not in cur:\n",
    "                cur[char] = {}\n",
    "            cur = cur[char]\n",
    "        cur['*']= {}\n",
    "\n",
    "    def search(self, word: str) -> bool: \n",
    "        def rec_search(cur, word, i): \n",
    "            if i==len(word):\n",
    "                return '*' in cur\n",
    "            elif word[i] == '.':\n",
    "                return any([rec_search(val, word, i+1) for val in cur.values()])\n",
    "            elif word[i] not in cur:\n",
    "                return False\n",
    "            else:\n",
    "                return rec_search(cur[word[i]], word, i+1)\n",
    "        return rec_search(self.root, word, 0)\n",
    "\n",
    "\n",
    "# Your WordDictionary object will be instantiated and called as such:\n",
    "# obj = WordDictionary()\n",
    "# obj.addWord(word)\n",
    "# param_2 = obj.search(word)"
   ]
  }
 ],
 "metadata": {
  "kernelspec": {
   "display_name": "Python 2.7.18 64-bit ('2.7.18')",
   "language": "python",
   "name": "python3"
  },
  "language_info": {
   "name": "python",
   "version": "2.7.18"
  },
  "orig_nbformat": 4,
  "vscode": {
   "interpreter": {
    "hash": "d4fb2e5c5fbd1b7ac3c45498fbe8beed7c55352b2ef39a4963899e56de0c4ffa"
   }
  }
 },
 "nbformat": 4,
 "nbformat_minor": 2
}
