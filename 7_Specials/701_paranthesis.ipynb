{
 "cells": [
  {
   "cell_type": "code",
   "execution_count": null,
   "metadata": {},
   "outputs": [],
   "source": [
    "# https://leetcode.com/problems/valid-parenthesis-string/description/\n",
    "def checkValidString(s: str) -> bool:\n",
    "    lo = hi = 0\n",
    "    for c in s:\n",
    "        lo += 1 if c == '(' else -1  # lo::  ⬆️ - '('        ⬇️ -  when '*' , ')'\n",
    "        hi += 1 if c != ')' else -1  # hi::  ⬆️ - '(', '*'   ⬇️ -  when ')'\n",
    "        if hi < 0: \n",
    "            return False\n",
    "        lo = max(lo, 0)\n",
    "    return lo == 0"
   ]
  }
 ],
 "metadata": {
  "kernelspec": {
   "display_name": "Python 2.7.18 64-bit ('2.7.18')",
   "language": "python",
   "name": "python3"
  },
  "language_info": {
   "name": "python",
   "version": "2.7.18"
  },
  "orig_nbformat": 4,
  "vscode": {
   "interpreter": {
    "hash": "d4fb2e5c5fbd1b7ac3c45498fbe8beed7c55352b2ef39a4963899e56de0c4ffa"
   }
  }
 },
 "nbformat": 4,
 "nbformat_minor": 2
}
